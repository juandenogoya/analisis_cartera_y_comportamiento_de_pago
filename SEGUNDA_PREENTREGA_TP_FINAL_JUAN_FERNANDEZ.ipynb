{
 "cells": [
  {
   "cell_type": "markdown",
   "id": "4ca1c202",
   "metadata": {},
   "source": [
    "# INTRODUCCION:\n",
    "\n",
    "En el complejo escenario financiero de Argentina, donde la alta inflación y las tasas de interés volátiles son la norma, la gestión y administración del riesgo son fundamentales, especialmente en el sector minorista. En esta presentación, exploraremos cómo el deterioro del comportamiento de pago afecta no solo a las instituciones financieras, sino también a sus clientes. Vamos a sumergirnos en un mundo donde el riesgo se convierte en una variable crucial que influye en varios aspectos, desde el financiamiento hasta la rentabilidad y la percepción pública.\n",
    "\n",
    "Imagínense un escenario donde la toma de decisiones está plagada de incertidumbre, y cada movimiento puede tener un impacto profundo en la salud financiera de las instituciones y la calidad de vida de sus clientes. Hoy, embarcaremos en un viaje para comprender cómo mejorar la gestión de riesgos en el segmento de menores ingresos en Argentina se ha convertido en un desafío apremiante.\n",
    "\n",
    "En esta viaje, exploraremos cómo:\n",
    "\n",
    "1) Fondeo se ha vuelto una batalla estratégica en un entorno financiero incierto, donde la confianza de los inversionistas puede cambiar rápidamente.\n",
    "2) Rentabilidad se ve directamente impactada por el comportamiento de pago y cómo las organizaciones deben adaptarse para mantener su margen.\n",
    "3) Imagen Pública es vital, ya que las instituciones financieras deben navegar cuidadosamente en un mundo donde la percepción es tan importante como la realidad.\n",
    "\n",
    "Los clientes enfrentan un costo de compra que está intrínsecamente ligado al riesgo del producto o segmento. \n",
    "La principal pregunta que debemos hacernos es:\n",
    "* ¿Es posible en un escenario como el Actual de Argentina equilibrar la accesibilidad financiera?\n",
    "* ¿Tenemos las herramientas que permitan realizar una elegibilidad de cliente para aplicar determinada tasa/riesgo, sin que sea solidaria respecto al resto?"
   ]
  },
  {
   "cell_type": "markdown",
   "id": "94dc3686",
   "metadata": {},
   "source": [
    "# OBJETIVOS:\n",
    "El objetivo central de nuestro proyecto es mejorar el proceso de calificación de clientes en el sector minorista de instituciones financieras, aprovechando la combinación de motores de decisión existentes en el mercado con nuestra vasta experiencia de 30 años en el mismo. Buscamos lograr una mejora significativa en la calidad de los servicios que ofrecemos, con un enfoque en los siguientes aspectos clave:\n",
    "1) Calificación de Prospectos: Identificar características particulares y comportamientos de clientes actuales para perfeccionar la calificación de prospectos.\n",
    "2) Mejora en los Servicios: Buscamos mejorar nuestros servicios en términos de oferta, plazos y tasas de crédito, con el objetivo de:\n",
    "    * Incrementar los montos de dinero ofrecidos a los clientes.\n",
    "    * Mejorar los plazos de crédito para nuestros clientes.\n",
    "    * Reducir las tasas de interés ofrecidas.\n",
    "3) Beneficios para la Organización: Esperamos que esta mejora en la calidad del servicio tenga un impacto positivo en diversos aspectos de la organización, incluyendo:\n",
    "    * Mayor eficiencia en la segmentación de clientes.\n",
    "    * Mejora en la gestión de riesgos y cobranzas.\n",
    "    * Incremento en la rentabilidad.\n",
    "    * Mejora en la gestión de fondeo.\n",
    "    * Mejora en las previsiones financieras.\n",
    "    * Cumplimiento de los requisitos de capital frente al BCRA.\n",
    "    * Mejora en la imagen pública de la organización.\n",
    "    * Exploración de nuevos segmentos de mercado."
   ]
  },
  {
   "cell_type": "markdown",
   "id": "8189e849",
   "metadata": {},
   "source": [
    "# Preguntas a Responder con el Analisis:\n",
    "* Establecer Grupos o Cluster con comportamientos similares.\n",
    "    - Edad\n",
    "    - Sexo\n",
    "    - Segmento Socioeconomico\n",
    "* Identificar comportamientos o patrones que permitan clasificarlos según:\n",
    "    - Buenos Pagadores\n",
    "    - Con Atraso (< 90 días)\n",
    "    - Con Problemas (> 90 días)\n",
    "    - Otros.\n",
    "* Poder determinar cual es el mejor modelo de predicción que permita acercarnos más a este problema. \n",
    "    - Regresión Logistica\n",
    "    - KNN\n",
    "    - Random Forest"
   ]
  },
  {
   "cell_type": "markdown",
   "id": "8d259509",
   "metadata": {},
   "source": [
    "#### Librerias:"
   ]
  },
  {
   "cell_type": "code",
   "execution_count": 260,
   "id": "b6ea7322",
   "metadata": {},
   "outputs": [],
   "source": [
    "import pandas as pd\n",
    "import numpy as np\n",
    "import matplotlib.pyplot as plt\n",
    "import seaborn as sns\n",
    "import requests\n",
    "import sklearn\n",
    "import statsmodels\n",
    "import statsmodels.api as sm\n",
    "\n",
    "from sklearn.linear_model import LinearRegression\n",
    "from sklearn.model_selection import train_test_split\n",
    "from sklearn.metrics import r2_score\n",
    "from sklearn.linear_model import LogisticRegression\n",
    "from sklearn.metrics import accuracy_score, classification_report\n",
    "from sklearn.preprocessing import MinMaxScaler\n",
    "from sklearn.preprocessing import LabelEncoder\n",
    "from sklearn.metrics import f1_score\n",
    "from sklearn.metrics import confusion_matrix\n",
    "from sklearn.metrics import recall_score\n",
    "from sklearn.preprocessing import OneHotEncoder\n",
    "\n",
    "from sklearn.impute import SimpleImputer\n",
    "from sklearn.decomposition import PCA\n",
    "from sklearn.pipeline import make_pipeline\n",
    "from sklearn.preprocessing import StandardScaler\n",
    "from sklearn.preprocessing import scale\n",
    "\n",
    "from scipy import stats\n",
    "\n",
    "from sklearn import tree\n",
    "from sklearn.tree import DecisionTreeClassifier\n",
    "from sklearn.neighbors import KNeighborsClassifier\n",
    "from sklearn.cluster import KMeans\n",
    "from sklearn.metrics import accuracy_score\n",
    "\n",
    "from sklearn.ensemble import RandomForestClassifier\n",
    "from sklearn.metrics import classification_report\n"
   ]
  },
  {
   "cell_type": "markdown",
   "id": "e991c97d",
   "metadata": {},
   "source": [
    "# Inicio del Analisis de los Datos:"
   ]
  },
  {
   "cell_type": "markdown",
   "id": "ca133f13",
   "metadata": {},
   "source": [
    "## 1) Cargar Data Set \"solicitudes\":"
   ]
  },
  {
   "cell_type": "code",
   "execution_count": 111,
   "id": "075109c0",
   "metadata": {},
   "outputs": [
    {
     "data": {
      "text/html": [
       "<div>\n",
       "<style scoped>\n",
       "    .dataframe tbody tr th:only-of-type {\n",
       "        vertical-align: middle;\n",
       "    }\n",
       "\n",
       "    .dataframe tbody tr th {\n",
       "        vertical-align: top;\n",
       "    }\n",
       "\n",
       "    .dataframe thead th {\n",
       "        text-align: right;\n",
       "    }\n",
       "</style>\n",
       "<table border=\"1\" class=\"dataframe\">\n",
       "  <thead>\n",
       "    <tr style=\"text-align: right;\">\n",
       "      <th></th>\n",
       "      <th>NU_EVALUACION</th>\n",
       "      <th>CD_CLIENTE</th>\n",
       "      <th>CD_SUCURSAL</th>\n",
       "      <th>TX_SEXO</th>\n",
       "      <th>NU_EDAD</th>\n",
       "      <th>TX_ESTADO_CIVIL</th>\n",
       "      <th>NU_ANTIGUEDAD_LABORAL</th>\n",
       "      <th>TX_TIPO_EMPLEO_CLIENTE</th>\n",
       "      <th>TX_PROVINCIA</th>\n",
       "      <th>TX_TIPO_CLIENTE</th>\n",
       "      <th>...</th>\n",
       "      <th>VL_MONTO_MAXIMO</th>\n",
       "      <th>VL_SCORE_DEMOGRAFICO</th>\n",
       "      <th>VL_SCORE_CENDEU</th>\n",
       "      <th>VL_SCORE_NOSIS</th>\n",
       "      <th>VL_SCORE_VERAZ</th>\n",
       "      <th>NU_PRODUCTO</th>\n",
       "      <th>FC_LIQUIDACION</th>\n",
       "      <th>CD_PRODUCTO</th>\n",
       "      <th>VL_DESEMBOLSADO</th>\n",
       "      <th>VL_CUOTA</th>\n",
       "    </tr>\n",
       "  </thead>\n",
       "  <tbody>\n",
       "    <tr>\n",
       "      <th>0</th>\n",
       "      <td>11359589</td>\n",
       "      <td>2730873.0</td>\n",
       "      <td>604.0</td>\n",
       "      <td>MASCULINO</td>\n",
       "      <td>47.0</td>\n",
       "      <td>SOLTERO</td>\n",
       "      <td>25.0</td>\n",
       "      <td>FUERZAS ARMADAS SUBOFICIALES</td>\n",
       "      <td>TUCUMAN</td>\n",
       "      <td>NUEVO</td>\n",
       "      <td>...</td>\n",
       "      <td>53897628.0</td>\n",
       "      <td>741.0</td>\n",
       "      <td>NaN</td>\n",
       "      <td>NaN</td>\n",
       "      <td>NaN</td>\n",
       "      <td>NaN</td>\n",
       "      <td>NaN</td>\n",
       "      <td>NaN</td>\n",
       "      <td>NaN</td>\n",
       "      <td>NaN</td>\n",
       "    </tr>\n",
       "    <tr>\n",
       "      <th>1</th>\n",
       "      <td>11693929</td>\n",
       "      <td>4757803.0</td>\n",
       "      <td>61.0</td>\n",
       "      <td>FEMENINO</td>\n",
       "      <td>28.0</td>\n",
       "      <td>SOLTERO</td>\n",
       "      <td>5.0</td>\n",
       "      <td>FUERZAS ARMADAS OFICIALES</td>\n",
       "      <td>BUENOS AIRES</td>\n",
       "      <td>NUEVO</td>\n",
       "      <td>...</td>\n",
       "      <td>53897628.0</td>\n",
       "      <td>808.0</td>\n",
       "      <td>NaN</td>\n",
       "      <td>NaN</td>\n",
       "      <td>NaN</td>\n",
       "      <td>8.200962e+11</td>\n",
       "      <td>2022-01-10 00:00:00.000</td>\n",
       "      <td>515.0</td>\n",
       "      <td>360027.20</td>\n",
       "      <td>23028.69</td>\n",
       "    </tr>\n",
       "    <tr>\n",
       "      <th>2</th>\n",
       "      <td>11696298</td>\n",
       "      <td>4773004.0</td>\n",
       "      <td>146.0</td>\n",
       "      <td>MASCULINO</td>\n",
       "      <td>35.0</td>\n",
       "      <td>SOLTERO</td>\n",
       "      <td>5.0</td>\n",
       "      <td>FUERZAS ARMADAS SUBOFICIALES</td>\n",
       "      <td>BUENOS AIRES</td>\n",
       "      <td>NUEVO</td>\n",
       "      <td>...</td>\n",
       "      <td>53897628.0</td>\n",
       "      <td>741.0</td>\n",
       "      <td>NaN</td>\n",
       "      <td>NaN</td>\n",
       "      <td>NaN</td>\n",
       "      <td>8.200961e+11</td>\n",
       "      <td>2022-01-03 00:00:00.000</td>\n",
       "      <td>515.0</td>\n",
       "      <td>320000.00</td>\n",
       "      <td>24283.71</td>\n",
       "    </tr>\n",
       "    <tr>\n",
       "      <th>3</th>\n",
       "      <td>11698605</td>\n",
       "      <td>4647990.0</td>\n",
       "      <td>156.0</td>\n",
       "      <td>FEMENINO</td>\n",
       "      <td>42.0</td>\n",
       "      <td>CASADO</td>\n",
       "      <td>5.0</td>\n",
       "      <td>FUERZAS ARMADAS</td>\n",
       "      <td>BUENOS AIRES</td>\n",
       "      <td>NUEVO</td>\n",
       "      <td>...</td>\n",
       "      <td>53897628.0</td>\n",
       "      <td>874.0</td>\n",
       "      <td>NaN</td>\n",
       "      <td>NaN</td>\n",
       "      <td>NaN</td>\n",
       "      <td>8.200962e+11</td>\n",
       "      <td>2022-01-15 00:00:00.000</td>\n",
       "      <td>515.0</td>\n",
       "      <td>200000.84</td>\n",
       "      <td>22009.60</td>\n",
       "    </tr>\n",
       "    <tr>\n",
       "      <th>4</th>\n",
       "      <td>11706908</td>\n",
       "      <td>4584389.0</td>\n",
       "      <td>1.0</td>\n",
       "      <td>MASCULINO</td>\n",
       "      <td>27.0</td>\n",
       "      <td>SOLTERO</td>\n",
       "      <td>2.0</td>\n",
       "      <td>EMPL. ESTATAL</td>\n",
       "      <td>BUENOS AIRES</td>\n",
       "      <td>NUEVO</td>\n",
       "      <td>...</td>\n",
       "      <td>53897628.0</td>\n",
       "      <td>809.0</td>\n",
       "      <td>NaN</td>\n",
       "      <td>NaN</td>\n",
       "      <td>NaN</td>\n",
       "      <td>8.200961e+11</td>\n",
       "      <td>2022-01-03 00:00:00.000</td>\n",
       "      <td>518.0</td>\n",
       "      <td>160000.00</td>\n",
       "      <td>17612.93</td>\n",
       "    </tr>\n",
       "  </tbody>\n",
       "</table>\n",
       "<p>5 rows × 25 columns</p>\n",
       "</div>"
      ],
      "text/plain": [
       "   NU_EVALUACION  CD_CLIENTE  CD_SUCURSAL    TX_SEXO  NU_EDAD   \n",
       "0       11359589   2730873.0        604.0  MASCULINO     47.0  \\\n",
       "1       11693929   4757803.0         61.0   FEMENINO     28.0   \n",
       "2       11696298   4773004.0        146.0  MASCULINO     35.0   \n",
       "3       11698605   4647990.0        156.0   FEMENINO     42.0   \n",
       "4       11706908   4584389.0          1.0  MASCULINO     27.0   \n",
       "\n",
       "        TX_ESTADO_CIVIL  NU_ANTIGUEDAD_LABORAL   \n",
       "0  SOLTERO                                25.0  \\\n",
       "1  SOLTERO                                 5.0   \n",
       "2  SOLTERO                                 5.0   \n",
       "3  CASADO                                  5.0   \n",
       "4  SOLTERO                                 2.0   \n",
       "\n",
       "           TX_TIPO_EMPLEO_CLIENTE                    TX_PROVINCIA   \n",
       "0  FUERZAS ARMADAS SUBOFICIALES    TUCUMAN                         \\\n",
       "1  FUERZAS ARMADAS OFICIALES       BUENOS AIRES                     \n",
       "2  FUERZAS ARMADAS SUBOFICIALES    BUENOS AIRES                     \n",
       "3  FUERZAS ARMADAS                 BUENOS AIRES                     \n",
       "4  EMPL. ESTATAL                   BUENOS AIRES                     \n",
       "\n",
       "  TX_TIPO_CLIENTE  ... VL_MONTO_MAXIMO VL_SCORE_DEMOGRAFICO VL_SCORE_CENDEU   \n",
       "0           NUEVO  ...      53897628.0                741.0             NaN  \\\n",
       "1           NUEVO  ...      53897628.0                808.0             NaN   \n",
       "2           NUEVO  ...      53897628.0                741.0             NaN   \n",
       "3           NUEVO  ...      53897628.0                874.0             NaN   \n",
       "4           NUEVO  ...      53897628.0                809.0             NaN   \n",
       "\n",
       "   VL_SCORE_NOSIS  VL_SCORE_VERAZ   NU_PRODUCTO           FC_LIQUIDACION   \n",
       "0             NaN             NaN           NaN                      NaN  \\\n",
       "1             NaN             NaN  8.200962e+11  2022-01-10 00:00:00.000   \n",
       "2             NaN             NaN  8.200961e+11  2022-01-03 00:00:00.000   \n",
       "3             NaN             NaN  8.200962e+11  2022-01-15 00:00:00.000   \n",
       "4             NaN             NaN  8.200961e+11  2022-01-03 00:00:00.000   \n",
       "\n",
       "   CD_PRODUCTO  VL_DESEMBOLSADO  VL_CUOTA  \n",
       "0          NaN              NaN       NaN  \n",
       "1        515.0        360027.20  23028.69  \n",
       "2        515.0        320000.00  24283.71  \n",
       "3        515.0        200000.84  22009.60  \n",
       "4        518.0        160000.00  17612.93  \n",
       "\n",
       "[5 rows x 25 columns]"
      ]
     },
     "execution_count": 111,
     "metadata": {},
     "output_type": "execute_result"
    }
   ],
   "source": [
    "ruta_solicitudes = 'C:\\\\VDi Control Gestión (PC Local)\\\\DS\\\\Solicitudes_2022.csv'\n",
    "solicitudes = pd.read_csv(ruta_solicitudes, delimiter= ';')\n",
    "solicitudes.head()"
   ]
  },
  {
   "cell_type": "code",
   "execution_count": 112,
   "id": "608a6d3e",
   "metadata": {},
   "outputs": [
    {
     "data": {
      "text/plain": [
       "Index(['NU_EVALUACION', 'CD_CLIENTE', 'CD_SUCURSAL', 'TX_SEXO', 'NU_EDAD',\n",
       "       'TX_ESTADO_CIVIL', 'NU_ANTIGUEDAD_LABORAL', 'TX_TIPO_EMPLEO_CLIENTE',\n",
       "       'TX_PROVINCIA', 'TX_TIPO_CLIENTE', 'TX_ESTADO_EVALUACION_DWH',\n",
       "       'TX_CANAL_ORIGINAL', 'VL_INGRESO_NOSIS', 'VL_INGRESO_VERAZ',\n",
       "       'VL_CUOTA_MAXIMA', 'VL_MONTO_MAXIMO', 'VL_SCORE_DEMOGRAFICO',\n",
       "       'VL_SCORE_CENDEU', 'VL_SCORE_NOSIS', 'VL_SCORE_VERAZ', 'NU_PRODUCTO',\n",
       "       'FC_LIQUIDACION', 'CD_PRODUCTO', 'VL_DESEMBOLSADO', 'VL_CUOTA'],\n",
       "      dtype='object')"
      ]
     },
     "execution_count": 112,
     "metadata": {},
     "output_type": "execute_result"
    }
   ],
   "source": [
    "solicitudes.columns"
   ]
  },
  {
   "cell_type": "markdown",
   "id": "de974381",
   "metadata": {},
   "source": [
    "#### Identificar el Tipo de datos en cada Columna:"
   ]
  },
  {
   "cell_type": "code",
   "execution_count": 113,
   "id": "3c22504e",
   "metadata": {},
   "outputs": [
    {
     "name": "stdout",
     "output_type": "stream",
     "text": [
      "<class 'pandas.core.frame.DataFrame'>\n",
      "RangeIndex: 2450716 entries, 0 to 2450715\n",
      "Data columns (total 25 columns):\n",
      " #   Column                    Dtype  \n",
      "---  ------                    -----  \n",
      " 0   NU_EVALUACION             int64  \n",
      " 1   CD_CLIENTE                float64\n",
      " 2   CD_SUCURSAL               float64\n",
      " 3   TX_SEXO                   object \n",
      " 4   NU_EDAD                   float64\n",
      " 5   TX_ESTADO_CIVIL           object \n",
      " 6   NU_ANTIGUEDAD_LABORAL     float64\n",
      " 7   TX_TIPO_EMPLEO_CLIENTE    object \n",
      " 8   TX_PROVINCIA              object \n",
      " 9   TX_TIPO_CLIENTE           object \n",
      " 10  TX_ESTADO_EVALUACION_DWH  object \n",
      " 11  TX_CANAL_ORIGINAL         object \n",
      " 12  VL_INGRESO_NOSIS          object \n",
      " 13  VL_INGRESO_VERAZ          float64\n",
      " 14  VL_CUOTA_MAXIMA           float64\n",
      " 15  VL_MONTO_MAXIMO           float64\n",
      " 16  VL_SCORE_DEMOGRAFICO      float64\n",
      " 17  VL_SCORE_CENDEU           float64\n",
      " 18  VL_SCORE_NOSIS            float64\n",
      " 19  VL_SCORE_VERAZ            float64\n",
      " 20  NU_PRODUCTO               float64\n",
      " 21  FC_LIQUIDACION            object \n",
      " 22  CD_PRODUCTO               float64\n",
      " 23  VL_DESEMBOLSADO           float64\n",
      " 24  VL_CUOTA                  float64\n",
      "dtypes: float64(15), int64(1), object(9)\n",
      "memory usage: 467.4+ MB\n"
     ]
    }
   ],
   "source": [
    "solicitudes.info()"
   ]
  },
  {
   "cell_type": "markdown",
   "id": "ae2eed43",
   "metadata": {},
   "source": [
    "#### Identificar Cantidad de Valores Nulos:"
   ]
  },
  {
   "cell_type": "code",
   "execution_count": 114,
   "id": "26c11434",
   "metadata": {},
   "outputs": [
    {
     "data": {
      "text/plain": [
       "NU_EVALUACION                     0\n",
       "CD_CLIENTE                  1365798\n",
       "CD_SUCURSAL                    3958\n",
       "TX_SEXO                         789\n",
       "NU_EDAD                          10\n",
       "TX_ESTADO_CIVIL              225151\n",
       "NU_ANTIGUEDAD_LABORAL        228676\n",
       "TX_TIPO_EMPLEO_CLIENTE       496443\n",
       "TX_PROVINCIA                   1713\n",
       "TX_TIPO_CLIENTE                   0\n",
       "TX_ESTADO_EVALUACION_DWH          0\n",
       "TX_CANAL_ORIGINAL                 2\n",
       "VL_INGRESO_NOSIS             982736\n",
       "VL_INGRESO_VERAZ            2450716\n",
       "VL_CUOTA_MAXIMA              717941\n",
       "VL_MONTO_MAXIMO              717941\n",
       "VL_SCORE_DEMOGRAFICO         861278\n",
       "VL_SCORE_CENDEU             2450716\n",
       "VL_SCORE_NOSIS               711930\n",
       "VL_SCORE_VERAZ               712095\n",
       "NU_PRODUCTO                 2264548\n",
       "FC_LIQUIDACION              2264573\n",
       "CD_PRODUCTO                 2264564\n",
       "VL_DESEMBOLSADO             2264564\n",
       "VL_CUOTA                    2264564\n",
       "dtype: int64"
      ]
     },
     "execution_count": 114,
     "metadata": {},
     "output_type": "execute_result"
    }
   ],
   "source": [
    "nan_solicitudes = solicitudes.isna().sum()\n",
    "nan_solicitudes"
   ]
  },
  {
   "cell_type": "code",
   "execution_count": 115,
   "id": "bb713fe2",
   "metadata": {},
   "outputs": [
    {
     "data": {
      "text/plain": [
       "NU_EVALUACION                 0.000000\n",
       "CD_CLIENTE                   55.730570\n",
       "CD_SUCURSAL                   0.161504\n",
       "TX_SEXO                       0.032195\n",
       "NU_EDAD                       0.000408\n",
       "TX_ESTADO_CIVIL               9.187152\n",
       "NU_ANTIGUEDAD_LABORAL         9.330987\n",
       "TX_TIPO_EMPLEO_CLIENTE       20.257060\n",
       "TX_PROVINCIA                  0.069898\n",
       "TX_TIPO_CLIENTE               0.000000\n",
       "TX_ESTADO_EVALUACION_DWH      0.000000\n",
       "TX_CANAL_ORIGINAL             0.000082\n",
       "VL_INGRESO_NOSIS             40.099954\n",
       "VL_INGRESO_VERAZ            100.000000\n",
       "VL_CUOTA_MAXIMA              29.295153\n",
       "VL_MONTO_MAXIMO              29.295153\n",
       "VL_SCORE_DEMOGRAFICO         35.143933\n",
       "VL_SCORE_CENDEU             100.000000\n",
       "VL_SCORE_NOSIS               29.049878\n",
       "VL_SCORE_VERAZ               29.056610\n",
       "NU_PRODUCTO                  92.403526\n",
       "FC_LIQUIDACION               92.404546\n",
       "CD_PRODUCTO                  92.404179\n",
       "VL_DESEMBOLSADO              92.404179\n",
       "VL_CUOTA                     92.404179\n",
       "dtype: float64"
      ]
     },
     "execution_count": 115,
     "metadata": {},
     "output_type": "execute_result"
    }
   ],
   "source": [
    "porc_nan_solicitudes = (nan_solicitudes / solicitudes.shape[0])*100\n",
    "porc_nan_solicitudes"
   ]
  },
  {
   "cell_type": "markdown",
   "id": "f8e19d21",
   "metadata": {},
   "source": [
    "#### Identificar Valores Duplicados y Darle tratamiento:"
   ]
  },
  {
   "cell_type": "code",
   "execution_count": 116,
   "id": "0bc829fa",
   "metadata": {},
   "outputs": [
    {
     "data": {
      "text/plain": [
       "83.20588758550562"
      ]
     },
     "execution_count": 116,
     "metadata": {},
     "output_type": "execute_result"
    }
   ],
   "source": [
    "cant_duplicados = solicitudes['CD_CLIENTE'].duplicated().sum()\n",
    "total_filas = len(solicitudes)\n",
    "porc_duplicados = (cant_duplicados / total_filas) * 100\n",
    "porc_duplicados"
   ]
  },
  {
   "cell_type": "markdown",
   "id": "745eb8de",
   "metadata": {},
   "source": [
    "En este paso *IDENTIFICAMOS* que tenemos el 82% de Datos duplicados en cuanto a consultas de clientes, en el preriodo de 24 Meses, obtenemos los siguientes **Insights**:\n",
    "* Nuevos *prospectos* realizan consultas por diferentes canales de atención.\n",
    "* Clietes existentes o conocidos, realizan consultas de forma periodica sin finalizar la compra, solo a modo informativo.\n",
    "* Por parte de Asistentes Comerciales, se realizan consultas de manera proactiva para conocer la oferta real a cada cliente."
   ]
  },
  {
   "cell_type": "markdown",
   "id": "bc1c78a6",
   "metadata": {},
   "source": [
    "#### Analizar Cuantos de Los Clientes Duplicados Tiene Resultado Rechazado:"
   ]
  },
  {
   "cell_type": "code",
   "execution_count": 117,
   "id": "49140aea",
   "metadata": {},
   "outputs": [
    {
     "data": {
      "text/plain": [
       "TX_ESTADO_EVALUACION_DWH\n",
       "APROBADA       696005\n",
       "RECHAZADA     1540946\n",
       "SIN ESTADO     213765\n",
       "dtype: int64"
      ]
     },
     "execution_count": 117,
     "metadata": {},
     "output_type": "execute_result"
    }
   ],
   "source": [
    "agrup_estado = solicitudes.groupby('TX_ESTADO_EVALUACION_DWH').size()\n",
    "agrup_estado"
   ]
  },
  {
   "cell_type": "code",
   "execution_count": 118,
   "id": "e2841dd0",
   "metadata": {},
   "outputs": [
    {
     "data": {
      "text/plain": [
       "2450716"
      ]
     },
     "execution_count": 118,
     "metadata": {},
     "output_type": "execute_result"
    }
   ],
   "source": [
    "suma_estado = agrup_estado.sum()\n",
    "suma_estado"
   ]
  },
  {
   "cell_type": "code",
   "execution_count": 119,
   "id": "56fee031",
   "metadata": {},
   "outputs": [
    {
     "data": {
      "text/plain": [
       "TX_ESTADO_EVALUACION_DWH\n",
       "APROBADA      28.400068\n",
       "RECHAZADA     62.877380\n",
       "SIN ESTADO     8.722553\n",
       "dtype: float64"
      ]
     },
     "execution_count": 119,
     "metadata": {},
     "output_type": "execute_result"
    }
   ],
   "source": [
    "porc_estados = (agrup_estado / suma_estado)*100\n",
    "porc_estados"
   ]
  },
  {
   "cell_type": "markdown",
   "id": "7b44dde4",
   "metadata": {},
   "source": [
    "En este Apartado obtenemos información que **SOLO** el **28%** de las Solicitudes/Consultas de clientes son APROBADAS, el resto es rechazada por la Politica de créditos implementada para el periodo Analizado.-"
   ]
  },
  {
   "cell_type": "markdown",
   "id": "6b4628d7",
   "metadata": {},
   "source": [
    "#### ANALISIS de Solicitudes DUPLICADAS:"
   ]
  },
  {
   "cell_type": "markdown",
   "id": "3786b23d",
   "metadata": {},
   "source": [
    "En estos puntos vamos a **discriminar** solicitudes Duplicadas por Resultado de Evaluación, es decir por RECHAZADA, APROBADA y SIN ESTADO.\n",
    "Donde vamos a obtener los Insights respecto a donde se encuentra el mayor impacto y determinar que tipo de procedimiento podemos aplicar para un mejor analisis del DataSet."
   ]
  },
  {
   "cell_type": "code",
   "execution_count": 120,
   "id": "409464c0",
   "metadata": {},
   "outputs": [],
   "source": [
    "solic_rech = solicitudes[solicitudes['TX_ESTADO_EVALUACION_DWH']=='RECHAZADA']\n",
    "rech_duplicados = solic_rech[solic_rech.duplicated(subset = ['CD_CLIENTE'], keep= False)].count()"
   ]
  },
  {
   "cell_type": "code",
   "execution_count": 121,
   "id": "7c9ed6f6",
   "metadata": {},
   "outputs": [
    {
     "data": {
      "text/plain": [
       "NU_EVALUACION               57.171374\n",
       "CD_CLIENTE                  18.825233\n",
       "CD_SUCURSAL                 57.169986\n",
       "TX_SEXO                     57.164437\n",
       "NU_EDAD                     57.171374\n",
       "TX_ESTADO_CIVIL             50.912835\n",
       "NU_ANTIGUEDAD_LABORAL       50.844774\n",
       "TX_TIPO_EMPLEO_CLIENTE      42.200443\n",
       "TX_PROVINCIA                57.171251\n",
       "TX_TIPO_CLIENTE             57.171374\n",
       "TX_ESTADO_EVALUACION_DWH    57.171374\n",
       "TX_CANAL_ORIGINAL           57.171292\n",
       "VL_INGRESO_NOSIS            32.103271\n",
       "VL_INGRESO_VERAZ             0.000000\n",
       "VL_CUOTA_MAXIMA             36.238675\n",
       "VL_MONTO_MAXIMO             36.238675\n",
       "VL_SCORE_DEMOGRAFICO        32.922297\n",
       "VL_SCORE_CENDEU              0.000000\n",
       "VL_SCORE_NOSIS              36.054484\n",
       "VL_SCORE_VERAZ              36.054280\n",
       "NU_PRODUCTO                  0.000000\n",
       "FC_LIQUIDACION               0.000000\n",
       "CD_PRODUCTO                  0.000000\n",
       "VL_DESEMBOLSADO              0.000000\n",
       "VL_CUOTA                     0.000000\n",
       "dtype: float64"
      ]
     },
     "execution_count": 121,
     "metadata": {},
     "output_type": "execute_result"
    }
   ],
   "source": [
    "total_filas = len(solicitudes)\n",
    "porc_dup_rech = (rech_duplicados / total_filas) * 100\n",
    "porc_dup_rech"
   ]
  },
  {
   "cell_type": "markdown",
   "id": "c598116c",
   "metadata": {},
   "source": [
    "En Solicitudes **RECHAZADAS** tenemos que el 57% de las Solicitudes son Duplicadas.-"
   ]
  },
  {
   "cell_type": "markdown",
   "id": "e78ad10e",
   "metadata": {},
   "source": [
    "#### Solicitudes APROBADAS DUPLICADAS:\n",
    "Eliminar Filas duplicadas"
   ]
  },
  {
   "cell_type": "code",
   "execution_count": 122,
   "id": "825d6cf8",
   "metadata": {},
   "outputs": [
    {
     "data": {
      "text/plain": [
       "NU_EVALUACION               23.175676\n",
       "CD_CLIENTE                   9.707898\n",
       "CD_SUCURSAL                 23.157028\n",
       "TX_SEXO                     23.168127\n",
       "NU_EDAD                     23.175554\n",
       "TX_ESTADO_CIVIL             23.175554\n",
       "NU_ANTIGUEDAD_LABORAL       23.175676\n",
       "TX_TIPO_EMPLEO_CLIENTE      23.175676\n",
       "TX_PROVINCIA                23.175309\n",
       "TX_TIPO_CLIENTE             23.175676\n",
       "TX_ESTADO_EVALUACION_DWH    23.175676\n",
       "TX_CANAL_ORIGINAL           23.175676\n",
       "VL_INGRESO_NOSIS            20.402650\n",
       "VL_INGRESO_VERAZ             0.000000\n",
       "VL_CUOTA_MAXIMA             23.175676\n",
       "VL_MONTO_MAXIMO             23.175676\n",
       "VL_SCORE_DEMOGRAFICO        21.553048\n",
       "VL_SCORE_CENDEU              0.000000\n",
       "VL_SCORE_NOSIS              23.003237\n",
       "VL_SCORE_VERAZ              22.999809\n",
       "NU_PRODUCTO                  4.472611\n",
       "FC_LIQUIDACION               4.471714\n",
       "CD_PRODUCTO                  4.472040\n",
       "VL_DESEMBOLSADO              4.472040\n",
       "VL_CUOTA                     4.472040\n",
       "dtype: float64"
      ]
     },
     "execution_count": 122,
     "metadata": {},
     "output_type": "execute_result"
    }
   ],
   "source": [
    "solic_aprob = solicitudes[solicitudes['TX_ESTADO_EVALUACION_DWH']=='APROBADA']\n",
    "aprob_duplicados = solic_aprob[solic_aprob.duplicated(subset = ['CD_CLIENTE'], keep= False)].count()\n",
    "\n",
    "total_filas = len(solicitudes)\n",
    "porc_dup_aprob = (aprob_duplicados / total_filas) * 100\n",
    "porc_dup_aprob"
   ]
  },
  {
   "cell_type": "markdown",
   "id": "30508e93",
   "metadata": {},
   "source": [
    "En Solicitudes **APROBADAS** tenemos que el 23% de las Solicitudes son Duplicadas.-"
   ]
  },
  {
   "cell_type": "markdown",
   "id": "f6d7735a",
   "metadata": {},
   "source": [
    "#### Solicitudes SIN ESTADO DUPLICADAS:"
   ]
  },
  {
   "cell_type": "code",
   "execution_count": 123,
   "id": "bffeac5a",
   "metadata": {},
   "outputs": [
    {
     "data": {
      "text/plain": [
       "NU_EVALUACION               6.555513\n",
       "CD_CLIENTE                  2.638861\n",
       "CD_SUCURSAL                 6.465253\n",
       "TX_SEXO                     6.540170\n",
       "NU_EDAD                     6.555227\n",
       "TX_ESTADO_CIVIL             3.944562\n",
       "NU_ANTIGUEDAD_LABORAL       3.922690\n",
       "TX_TIPO_EMPLEO_CLIENTE      3.269698\n",
       "TX_PROVINCIA                6.496632\n",
       "TX_TIPO_CLIENTE             6.555513\n",
       "TX_ESTADO_EVALUACION_DWH    6.555513\n",
       "TX_CANAL_ORIGINAL           6.555513\n",
       "VL_INGRESO_NOSIS            1.235639\n",
       "VL_INGRESO_VERAZ            0.000000\n",
       "VL_CUOTA_MAXIMA             1.725496\n",
       "VL_MONTO_MAXIMO             1.725496\n",
       "VL_SCORE_DEMOGRAFICO        1.650252\n",
       "VL_SCORE_CENDEU             0.000000\n",
       "VL_SCORE_NOSIS              2.347722\n",
       "VL_SCORE_VERAZ              2.347722\n",
       "NU_PRODUCTO                 0.000000\n",
       "FC_LIQUIDACION              0.000000\n",
       "CD_PRODUCTO                 0.000000\n",
       "VL_DESEMBOLSADO             0.000000\n",
       "VL_CUOTA                    0.000000\n",
       "dtype: float64"
      ]
     },
     "execution_count": 123,
     "metadata": {},
     "output_type": "execute_result"
    }
   ],
   "source": [
    "solic_sin_estado = solicitudes[solicitudes['TX_ESTADO_EVALUACION_DWH']=='SIN ESTADO']\n",
    "sin_estado_duplicados = solic_sin_estado[solic_sin_estado.duplicated(subset = ['CD_CLIENTE'], keep= False)].count()\n",
    "\n",
    "total_filas = len(solicitudes)\n",
    "porc_dup_sin_estado = (sin_estado_duplicados / total_filas) * 100\n",
    "porc_dup_sin_estado"
   ]
  },
  {
   "cell_type": "markdown",
   "id": "19b90077",
   "metadata": {},
   "source": [
    "En Solicitudes **SIN ESTADO** tenemos que el 7% de las Solicitudes son Duplicadas.\n",
    "Estas Solicitudes son las que no finalizaron por decisión del cliente o por problemas técnico durante el proceso."
   ]
  },
  {
   "cell_type": "markdown",
   "id": "3248ea5d",
   "metadata": {},
   "source": [
    "### ELIMINAR filas Duplicadas (CD_CLIENTE):"
   ]
  },
  {
   "cell_type": "code",
   "execution_count": 124,
   "id": "4598c68c",
   "metadata": {},
   "outputs": [
    {
     "data": {
      "text/html": [
       "<div>\n",
       "<style scoped>\n",
       "    .dataframe tbody tr th:only-of-type {\n",
       "        vertical-align: middle;\n",
       "    }\n",
       "\n",
       "    .dataframe tbody tr th {\n",
       "        vertical-align: top;\n",
       "    }\n",
       "\n",
       "    .dataframe thead th {\n",
       "        text-align: right;\n",
       "    }\n",
       "</style>\n",
       "<table border=\"1\" class=\"dataframe\">\n",
       "  <thead>\n",
       "    <tr style=\"text-align: right;\">\n",
       "      <th></th>\n",
       "      <th>NU_EVALUACION</th>\n",
       "      <th>CD_CLIENTE</th>\n",
       "      <th>CD_SUCURSAL</th>\n",
       "      <th>TX_SEXO</th>\n",
       "      <th>NU_EDAD</th>\n",
       "      <th>TX_ESTADO_CIVIL</th>\n",
       "      <th>NU_ANTIGUEDAD_LABORAL</th>\n",
       "      <th>TX_TIPO_EMPLEO_CLIENTE</th>\n",
       "      <th>TX_PROVINCIA</th>\n",
       "      <th>TX_TIPO_CLIENTE</th>\n",
       "      <th>...</th>\n",
       "      <th>VL_MONTO_MAXIMO</th>\n",
       "      <th>VL_SCORE_DEMOGRAFICO</th>\n",
       "      <th>VL_SCORE_CENDEU</th>\n",
       "      <th>VL_SCORE_NOSIS</th>\n",
       "      <th>VL_SCORE_VERAZ</th>\n",
       "      <th>NU_PRODUCTO</th>\n",
       "      <th>FC_LIQUIDACION</th>\n",
       "      <th>CD_PRODUCTO</th>\n",
       "      <th>VL_DESEMBOLSADO</th>\n",
       "      <th>VL_CUOTA</th>\n",
       "    </tr>\n",
       "  </thead>\n",
       "  <tbody>\n",
       "    <tr>\n",
       "      <th>0</th>\n",
       "      <td>11359589</td>\n",
       "      <td>2730873.0</td>\n",
       "      <td>604.0</td>\n",
       "      <td>MASCULINO</td>\n",
       "      <td>47.0</td>\n",
       "      <td>SOLTERO</td>\n",
       "      <td>25.0</td>\n",
       "      <td>FUERZAS ARMADAS SUBOFICIALES</td>\n",
       "      <td>TUCUMAN</td>\n",
       "      <td>NUEVO</td>\n",
       "      <td>...</td>\n",
       "      <td>53897628.0</td>\n",
       "      <td>741.0</td>\n",
       "      <td>NaN</td>\n",
       "      <td>NaN</td>\n",
       "      <td>NaN</td>\n",
       "      <td>NaN</td>\n",
       "      <td>NaN</td>\n",
       "      <td>NaN</td>\n",
       "      <td>NaN</td>\n",
       "      <td>NaN</td>\n",
       "    </tr>\n",
       "    <tr>\n",
       "      <th>1</th>\n",
       "      <td>11693929</td>\n",
       "      <td>4757803.0</td>\n",
       "      <td>61.0</td>\n",
       "      <td>FEMENINO</td>\n",
       "      <td>28.0</td>\n",
       "      <td>SOLTERO</td>\n",
       "      <td>5.0</td>\n",
       "      <td>FUERZAS ARMADAS OFICIALES</td>\n",
       "      <td>BUENOS AIRES</td>\n",
       "      <td>NUEVO</td>\n",
       "      <td>...</td>\n",
       "      <td>53897628.0</td>\n",
       "      <td>808.0</td>\n",
       "      <td>NaN</td>\n",
       "      <td>NaN</td>\n",
       "      <td>NaN</td>\n",
       "      <td>8.200962e+11</td>\n",
       "      <td>2022-01-10 00:00:00.000</td>\n",
       "      <td>515.0</td>\n",
       "      <td>360027.20</td>\n",
       "      <td>23028.69</td>\n",
       "    </tr>\n",
       "    <tr>\n",
       "      <th>2</th>\n",
       "      <td>11696298</td>\n",
       "      <td>4773004.0</td>\n",
       "      <td>146.0</td>\n",
       "      <td>MASCULINO</td>\n",
       "      <td>35.0</td>\n",
       "      <td>SOLTERO</td>\n",
       "      <td>5.0</td>\n",
       "      <td>FUERZAS ARMADAS SUBOFICIALES</td>\n",
       "      <td>BUENOS AIRES</td>\n",
       "      <td>NUEVO</td>\n",
       "      <td>...</td>\n",
       "      <td>53897628.0</td>\n",
       "      <td>741.0</td>\n",
       "      <td>NaN</td>\n",
       "      <td>NaN</td>\n",
       "      <td>NaN</td>\n",
       "      <td>8.200961e+11</td>\n",
       "      <td>2022-01-03 00:00:00.000</td>\n",
       "      <td>515.0</td>\n",
       "      <td>320000.00</td>\n",
       "      <td>24283.71</td>\n",
       "    </tr>\n",
       "    <tr>\n",
       "      <th>3</th>\n",
       "      <td>11698605</td>\n",
       "      <td>4647990.0</td>\n",
       "      <td>156.0</td>\n",
       "      <td>FEMENINO</td>\n",
       "      <td>42.0</td>\n",
       "      <td>CASADO</td>\n",
       "      <td>5.0</td>\n",
       "      <td>FUERZAS ARMADAS</td>\n",
       "      <td>BUENOS AIRES</td>\n",
       "      <td>NUEVO</td>\n",
       "      <td>...</td>\n",
       "      <td>53897628.0</td>\n",
       "      <td>874.0</td>\n",
       "      <td>NaN</td>\n",
       "      <td>NaN</td>\n",
       "      <td>NaN</td>\n",
       "      <td>8.200962e+11</td>\n",
       "      <td>2022-01-15 00:00:00.000</td>\n",
       "      <td>515.0</td>\n",
       "      <td>200000.84</td>\n",
       "      <td>22009.60</td>\n",
       "    </tr>\n",
       "    <tr>\n",
       "      <th>4</th>\n",
       "      <td>11706908</td>\n",
       "      <td>4584389.0</td>\n",
       "      <td>1.0</td>\n",
       "      <td>MASCULINO</td>\n",
       "      <td>27.0</td>\n",
       "      <td>SOLTERO</td>\n",
       "      <td>2.0</td>\n",
       "      <td>EMPL. ESTATAL</td>\n",
       "      <td>BUENOS AIRES</td>\n",
       "      <td>NUEVO</td>\n",
       "      <td>...</td>\n",
       "      <td>53897628.0</td>\n",
       "      <td>809.0</td>\n",
       "      <td>NaN</td>\n",
       "      <td>NaN</td>\n",
       "      <td>NaN</td>\n",
       "      <td>8.200961e+11</td>\n",
       "      <td>2022-01-03 00:00:00.000</td>\n",
       "      <td>518.0</td>\n",
       "      <td>160000.00</td>\n",
       "      <td>17612.93</td>\n",
       "    </tr>\n",
       "  </tbody>\n",
       "</table>\n",
       "<p>5 rows × 25 columns</p>\n",
       "</div>"
      ],
      "text/plain": [
       "   NU_EVALUACION  CD_CLIENTE  CD_SUCURSAL    TX_SEXO  NU_EDAD   \n",
       "0       11359589   2730873.0        604.0  MASCULINO     47.0  \\\n",
       "1       11693929   4757803.0         61.0   FEMENINO     28.0   \n",
       "2       11696298   4773004.0        146.0  MASCULINO     35.0   \n",
       "3       11698605   4647990.0        156.0   FEMENINO     42.0   \n",
       "4       11706908   4584389.0          1.0  MASCULINO     27.0   \n",
       "\n",
       "        TX_ESTADO_CIVIL  NU_ANTIGUEDAD_LABORAL   \n",
       "0  SOLTERO                                25.0  \\\n",
       "1  SOLTERO                                 5.0   \n",
       "2  SOLTERO                                 5.0   \n",
       "3  CASADO                                  5.0   \n",
       "4  SOLTERO                                 2.0   \n",
       "\n",
       "           TX_TIPO_EMPLEO_CLIENTE                    TX_PROVINCIA   \n",
       "0  FUERZAS ARMADAS SUBOFICIALES    TUCUMAN                         \\\n",
       "1  FUERZAS ARMADAS OFICIALES       BUENOS AIRES                     \n",
       "2  FUERZAS ARMADAS SUBOFICIALES    BUENOS AIRES                     \n",
       "3  FUERZAS ARMADAS                 BUENOS AIRES                     \n",
       "4  EMPL. ESTATAL                   BUENOS AIRES                     \n",
       "\n",
       "  TX_TIPO_CLIENTE  ... VL_MONTO_MAXIMO VL_SCORE_DEMOGRAFICO VL_SCORE_CENDEU   \n",
       "0           NUEVO  ...      53897628.0                741.0             NaN  \\\n",
       "1           NUEVO  ...      53897628.0                808.0             NaN   \n",
       "2           NUEVO  ...      53897628.0                741.0             NaN   \n",
       "3           NUEVO  ...      53897628.0                874.0             NaN   \n",
       "4           NUEVO  ...      53897628.0                809.0             NaN   \n",
       "\n",
       "   VL_SCORE_NOSIS  VL_SCORE_VERAZ   NU_PRODUCTO           FC_LIQUIDACION   \n",
       "0             NaN             NaN           NaN                      NaN  \\\n",
       "1             NaN             NaN  8.200962e+11  2022-01-10 00:00:00.000   \n",
       "2             NaN             NaN  8.200961e+11  2022-01-03 00:00:00.000   \n",
       "3             NaN             NaN  8.200962e+11  2022-01-15 00:00:00.000   \n",
       "4             NaN             NaN  8.200961e+11  2022-01-03 00:00:00.000   \n",
       "\n",
       "   CD_PRODUCTO  VL_DESEMBOLSADO  VL_CUOTA  \n",
       "0          NaN              NaN       NaN  \n",
       "1        515.0        360027.20  23028.69  \n",
       "2        515.0        320000.00  24283.71  \n",
       "3        515.0        200000.84  22009.60  \n",
       "4        518.0        160000.00  17612.93  \n",
       "\n",
       "[5 rows x 25 columns]"
      ]
     },
     "execution_count": 124,
     "metadata": {},
     "output_type": "execute_result"
    }
   ],
   "source": [
    "solic_unicas = solicitudes.drop_duplicates(subset=['CD_CLIENTE'])\n",
    "solic_unicas.head()"
   ]
  },
  {
   "cell_type": "code",
   "execution_count": 125,
   "id": "c1911e0b",
   "metadata": {},
   "outputs": [
    {
     "data": {
      "text/plain": [
       "2450716"
      ]
     },
     "execution_count": 125,
     "metadata": {},
     "output_type": "execute_result"
    }
   ],
   "source": [
    "solicitudes.shape[0] "
   ]
  },
  {
   "cell_type": "code",
   "execution_count": 126,
   "id": "8050dd62",
   "metadata": {},
   "outputs": [
    {
     "data": {
      "text/plain": [
       "411576"
      ]
     },
     "execution_count": 126,
     "metadata": {},
     "output_type": "execute_result"
    }
   ],
   "source": [
    "solic_unicas.shape[0]"
   ]
  },
  {
   "cell_type": "code",
   "execution_count": 127,
   "id": "6abeefef",
   "metadata": {},
   "outputs": [
    {
     "data": {
      "text/plain": [
       "2039140"
      ]
     },
     "execution_count": 127,
     "metadata": {},
     "output_type": "execute_result"
    }
   ],
   "source": [
    "cant_filas_elim= solicitudes.shape[0] - solic_unicas.shape[0]\n",
    "cant_filas_elim"
   ]
  },
  {
   "cell_type": "code",
   "execution_count": 128,
   "id": "dd53c756",
   "metadata": {},
   "outputs": [
    {
     "data": {
      "text/plain": [
       "83.20588758550562"
      ]
     },
     "execution_count": 128,
     "metadata": {},
     "output_type": "execute_result"
    }
   ],
   "source": [
    "porcent_elim = (cant_filas_elim / total_filas)*100\n",
    "porcent_elim"
   ]
  },
  {
   "cell_type": "markdown",
   "id": "cb19ced8",
   "metadata": {},
   "source": [
    "Se eliminaron un total de 2MM de lineas un 83% del DataSet, de los cuales como referenciabamos antes, casi el 60% correspondian a solicitudes rechazadas.\n",
    "Que de momento vamos a Excluir del Analisis, y solo nos vamos a enfocar en Solicitdudes **UNICAS** por cada resultado de evaluación."
   ]
  },
  {
   "cell_type": "markdown",
   "id": "bc226243",
   "metadata": {},
   "source": [
    "### AGRUPADAS por SCORE NOSIS:"
   ]
  },
  {
   "cell_type": "markdown",
   "id": "e309dd07",
   "metadata": {},
   "source": [
    "#### Por Tipo de Sexo y Segmento Socioeconomico"
   ]
  },
  {
   "cell_type": "code",
   "execution_count": 129,
   "id": "1caa2aa8",
   "metadata": {},
   "outputs": [
    {
     "data": {
      "text/plain": [
       "VL_INGRESO_NOSIS\n",
       "A       468\n",
       "B      2021\n",
       "C1    14724\n",
       "C2    29098\n",
       "C3    27897\n",
       "D1    38159\n",
       "D2    69843\n",
       "NC      144\n",
       "dtype: int64"
      ]
     },
     "execution_count": 129,
     "metadata": {},
     "output_type": "execute_result"
    }
   ],
   "source": [
    "solic_unicas.groupby('VL_INGRESO_NOSIS').size()"
   ]
  },
  {
   "cell_type": "code",
   "execution_count": 130,
   "id": "deac04c1",
   "metadata": {},
   "outputs": [
    {
     "data": {
      "text/html": [
       "<div>\n",
       "<style scoped>\n",
       "    .dataframe tbody tr th:only-of-type {\n",
       "        vertical-align: middle;\n",
       "    }\n",
       "\n",
       "    .dataframe tbody tr th {\n",
       "        vertical-align: top;\n",
       "    }\n",
       "\n",
       "    .dataframe thead th {\n",
       "        text-align: right;\n",
       "    }\n",
       "</style>\n",
       "<table border=\"1\" class=\"dataframe\">\n",
       "  <thead>\n",
       "    <tr style=\"text-align: right;\">\n",
       "      <th>TX_SEXO</th>\n",
       "      <th>FEMENINO</th>\n",
       "      <th>MASCULINO</th>\n",
       "      <th>Cantidad</th>\n",
       "    </tr>\n",
       "    <tr>\n",
       "      <th>VL_INGRESO_NOSIS</th>\n",
       "      <th></th>\n",
       "      <th></th>\n",
       "      <th></th>\n",
       "    </tr>\n",
       "  </thead>\n",
       "  <tbody>\n",
       "    <tr>\n",
       "      <th>A</th>\n",
       "      <td>26.282051</td>\n",
       "      <td>73.717949</td>\n",
       "      <td>468</td>\n",
       "    </tr>\n",
       "    <tr>\n",
       "      <th>B</th>\n",
       "      <td>32.326733</td>\n",
       "      <td>67.673267</td>\n",
       "      <td>2020</td>\n",
       "    </tr>\n",
       "    <tr>\n",
       "      <th>C1</th>\n",
       "      <td>35.059111</td>\n",
       "      <td>64.940889</td>\n",
       "      <td>14718</td>\n",
       "    </tr>\n",
       "    <tr>\n",
       "      <th>C2</th>\n",
       "      <td>40.790786</td>\n",
       "      <td>59.209214</td>\n",
       "      <td>29085</td>\n",
       "    </tr>\n",
       "    <tr>\n",
       "      <th>C3</th>\n",
       "      <td>45.893702</td>\n",
       "      <td>54.106298</td>\n",
       "      <td>27884</td>\n",
       "    </tr>\n",
       "    <tr>\n",
       "      <th>D1</th>\n",
       "      <td>64.213617</td>\n",
       "      <td>35.786383</td>\n",
       "      <td>38143</td>\n",
       "    </tr>\n",
       "    <tr>\n",
       "      <th>D2</th>\n",
       "      <td>64.331037</td>\n",
       "      <td>35.668963</td>\n",
       "      <td>69817</td>\n",
       "    </tr>\n",
       "    <tr>\n",
       "      <th>NC</th>\n",
       "      <td>56.250000</td>\n",
       "      <td>43.750000</td>\n",
       "      <td>144</td>\n",
       "    </tr>\n",
       "  </tbody>\n",
       "</table>\n",
       "</div>"
      ],
      "text/plain": [
       "TX_SEXO            FEMENINO  MASCULINO  Cantidad\n",
       "VL_INGRESO_NOSIS                                \n",
       "A                 26.282051  73.717949       468\n",
       "B                 32.326733  67.673267      2020\n",
       "C1                35.059111  64.940889     14718\n",
       "C2                40.790786  59.209214     29085\n",
       "C3                45.893702  54.106298     27884\n",
       "D1                64.213617  35.786383     38143\n",
       "D2                64.331037  35.668963     69817\n",
       "NC                56.250000  43.750000       144"
      ]
     },
     "execution_count": 130,
     "metadata": {},
     "output_type": "execute_result"
    }
   ],
   "source": [
    "ag_sexo = solic_unicas.pivot_table(index='VL_INGRESO_NOSIS', columns='TX_SEXO', aggfunc='size', fill_value=0)\n",
    "total_counts = ag_sexo.sum(axis=1)\n",
    "porc_tabla = ag_sexo.div(total_counts, axis=0) * 100\n",
    "porc_tabla['Cantidad'] = ag_sexo.sum(axis=1)\n",
    "\n",
    "porc_tabla"
   ]
  },
  {
   "cell_type": "markdown",
   "id": "8c5a4340",
   "metadata": {},
   "source": [
    "De esta tabla podemos observar los siguientes Insights:\n",
    "* El semento más alto de la **Segmentación Socioeconómica**, A, predomina el Sexo Masculino en un 73% del total del grupo.\n",
    "* Lo mismo sucede en los segmentos posteriores, B, C1 y C2.\n",
    "* El equilibrio se alcanza en el segmento C3 y en los posteriores, es el Sexo Femenico que tiene mayor incidencia en los segmentos sociales más bajo, en cuanto a \"solicitudes de créditos\".\n",
    "\n",
    "Si bien el Sexo **Femenino** es el que mayor cantidad de solicitdes posee, observamos que son los segmentos socioeconomicos más bajos los que realizan la mayor cantidad de solicitud.\n",
    "Existiendo una marcada diferencia en los segmentos mas altos, en cuanto a Solicitud de créditos.\n",
    "Sin poder determinar a ciencia cierta, si la diferencia es por la falta de personas de Sexo femenino en ese grupo etario o corresponde a una mejor administración financiera por parte del segmento femenino que no necesita de créditos de terceros.-"
   ]
  },
  {
   "cell_type": "code",
   "execution_count": 131,
   "id": "e98f32a1",
   "metadata": {},
   "outputs": [
    {
     "data": {
      "text/plain": [
       "TX_SEXO\n",
       "FEMENINO     15568.466049\n",
       "MASCULINO     9098.882675\n",
       "dtype: float64"
      ]
     },
     "execution_count": 131,
     "metadata": {},
     "output_type": "execute_result"
    }
   ],
   "source": [
    "std_por_ing_nosis = ag_sexo.std()\n",
    "std_por_ing_nosis"
   ]
  },
  {
   "cell_type": "markdown",
   "id": "2a4c270c",
   "metadata": {},
   "source": [
    "#### Por Situacion Socioeconomica y Tipo de Sexo"
   ]
  },
  {
   "cell_type": "code",
   "execution_count": 132,
   "id": "b7124cb7",
   "metadata": {},
   "outputs": [
    {
     "data": {
      "text/html": [
       "<div>\n",
       "<style scoped>\n",
       "    .dataframe tbody tr th:only-of-type {\n",
       "        vertical-align: middle;\n",
       "    }\n",
       "\n",
       "    .dataframe tbody tr th {\n",
       "        vertical-align: top;\n",
       "    }\n",
       "\n",
       "    .dataframe thead th {\n",
       "        text-align: right;\n",
       "    }\n",
       "</style>\n",
       "<table border=\"1\" class=\"dataframe\">\n",
       "  <thead>\n",
       "    <tr style=\"text-align: right;\">\n",
       "      <th>VL_INGRESO_NOSIS</th>\n",
       "      <th>A</th>\n",
       "      <th>B</th>\n",
       "      <th>C1</th>\n",
       "      <th>C2</th>\n",
       "      <th>C3</th>\n",
       "      <th>D1</th>\n",
       "      <th>D2</th>\n",
       "      <th>NC</th>\n",
       "      <th>Cantidad</th>\n",
       "    </tr>\n",
       "    <tr>\n",
       "      <th>TX_SEXO</th>\n",
       "      <th></th>\n",
       "      <th></th>\n",
       "      <th></th>\n",
       "      <th></th>\n",
       "      <th></th>\n",
       "      <th></th>\n",
       "      <th></th>\n",
       "      <th></th>\n",
       "      <th></th>\n",
       "    </tr>\n",
       "  </thead>\n",
       "  <tbody>\n",
       "    <tr>\n",
       "      <th>FEMENINO</th>\n",
       "      <td>0.122896</td>\n",
       "      <td>0.652445</td>\n",
       "      <td>5.155618</td>\n",
       "      <td>11.853924</td>\n",
       "      <td>12.786132</td>\n",
       "      <td>24.472199</td>\n",
       "      <td>44.875856</td>\n",
       "      <td>0.080931</td>\n",
       "      <td>100085</td>\n",
       "    </tr>\n",
       "    <tr>\n",
       "      <th>MASCULINO</th>\n",
       "      <td>0.419739</td>\n",
       "      <td>1.663138</td>\n",
       "      <td>11.628586</td>\n",
       "      <td>20.951651</td>\n",
       "      <td>18.355354</td>\n",
       "      <td>16.607052</td>\n",
       "      <td>30.297832</td>\n",
       "      <td>0.076648</td>\n",
       "      <td>82194</td>\n",
       "    </tr>\n",
       "  </tbody>\n",
       "</table>\n",
       "</div>"
      ],
      "text/plain": [
       "VL_INGRESO_NOSIS         A         B         C1         C2         C3   \n",
       "TX_SEXO                                                                 \n",
       "FEMENINO          0.122896  0.652445   5.155618  11.853924  12.786132  \\\n",
       "MASCULINO         0.419739  1.663138  11.628586  20.951651  18.355354   \n",
       "\n",
       "VL_INGRESO_NOSIS         D1         D2        NC  Cantidad  \n",
       "TX_SEXO                                                     \n",
       "FEMENINO          24.472199  44.875856  0.080931    100085  \n",
       "MASCULINO         16.607052  30.297832  0.076648     82194  "
      ]
     },
     "execution_count": 132,
     "metadata": {},
     "output_type": "execute_result"
    }
   ],
   "source": [
    "ag_ing_nosis = solic_unicas.pivot_table(index='TX_SEXO', columns='VL_INGRESO_NOSIS', aggfunc='size', fill_value=0)\n",
    "total_counts = ag_ing_nosis.sum(axis=1)\n",
    "porc_tabla2 = ag_ing_nosis.div(total_counts, axis=0) * 100\n",
    "\n",
    "porc_tabla2['Cantidad'] = total_counts\n",
    "\n",
    "porc_tabla2"
   ]
  },
  {
   "cell_type": "code",
   "execution_count": 279,
   "id": "bc6cba80",
   "metadata": {},
   "outputs": [
    {
     "data": {
      "image/png": "[encoded data removed]",
      "text/plain": [
       "<Figure size 633.125x500 with 1 Axes>"
      ]
     },
     "metadata": {},
     "output_type": "display_data"
    }
   ],
   "source": [
    "sns.displot(data=solic_unicas, x='VL_INGRESO_NOSIS', hue='TX_SEXO', kde=True)\n",
    "plt.xlabel('Ingreso NOSIS')\n",
    "plt.ylabel('Densidad')\n",
    "plt.title('Distribución de Ingreso NOSIS por Género')\n",
    "\n",
    "plt.show()"
   ]
  },
  {
   "cell_type": "markdown",
   "id": "5c8405ed",
   "metadata": {},
   "source": [
    "Observamos en este grafico que la Densidad para el tipo de Sexo Femenino es mas alta en los segmentos Socioeconomicos más bajos."
   ]
  },
  {
   "cell_type": "code",
   "execution_count": 133,
   "id": "e313119f",
   "metadata": {},
   "outputs": [
    {
     "data": {
      "image/png": "[encoded data removed]",
      "text/plain": [
       "<Figure size 640x480 with 1 Axes>"
      ]
     },
     "metadata": {},
     "output_type": "display_data"
    }
   ],
   "source": [
    "y = porc_tabla2['Cantidad'].tolist()\n",
    "plt.pie(y, labels=porc_tabla2.index, autopct='%1.1f%%')\n",
    "\n",
    "plt.title('Distribución por Tipo de Sexo')\n",
    "plt.show()"
   ]
  },
  {
   "cell_type": "code",
   "execution_count": null,
   "id": "b83bcade",
   "metadata": {},
   "outputs": [],
   "source": []
  },
  {
   "cell_type": "code",
   "execution_count": 134,
   "id": "801943ea",
   "metadata": {},
   "outputs": [
    {
     "data": {
      "text/plain": [
       "VL_INGRESO_NOSIS\n",
       "A       156.977705\n",
       "B       504.874242\n",
       "C1     3109.855624\n",
       "C2     3787.971027\n",
       "C3     1619.274529\n",
       "D1     7667.158828\n",
       "D2    14149.913798\n",
       "NC       12.727922\n",
       "dtype: float64"
      ]
     },
     "execution_count": 134,
     "metadata": {},
     "output_type": "execute_result"
    }
   ],
   "source": [
    "std_ag_ing_nosis = ag_ing_nosis.std()\n",
    "std_ag_ing_nosis"
   ]
  },
  {
   "cell_type": "code",
   "execution_count": 135,
   "id": "8c5c12be",
   "metadata": {},
   "outputs": [
    {
     "data": {
      "image/png": "[encoded data removed]",
      "text/plain": [
       "<Figure size 800x400 with 1 Axes>"
      ]
     },
     "metadata": {},
     "output_type": "display_data"
    }
   ],
   "source": [
    "plt.figure(figsize=(8, 4))\n",
    "std_ag_ing_nosis.plot(kind='line', marker='o', color='blue', linestyle='-')\n",
    "\n",
    "plt.title('STD Por Segmento Socioeconomico')\n",
    "plt.xlabel('Segmentos')\n",
    "plt.ylabel('Desviación Estándar')\n",
    "\n",
    "plt.show()"
   ]
  },
  {
   "cell_type": "markdown",
   "id": "9d4aae6c",
   "metadata": {},
   "source": [
    "#### CONCLUSION:\n",
    "De las STD y el grafico podemos observar lo siguiente, en los segmentos:\n",
    "* A: tiene el std más bajo, por lo que la los datos tienden a una menor disperción de la media, individuos con mismas caracteristicas sociales, economicas y financieras, mas homogeneo.\n",
    "* D1 y D2: tienen la std más alta, por lo que tienen una mayor variabilidad y dispeción de la media.\n",
    "* C1 y C2: estan asociados a una alta variabilidad por lo que existen individuos con diferentes niveles de ingreso, social y demas variables, lo que los hace más heterogeneos.\n",
    "* C3, presenta un comportamiento diferente, menos variabilidad que los segmentos asociados C1 y C2. **IMPORTANTE**, para darle atención y revisar como se comporta nuestro motor de analisis a ese segmento, puntual, que puede ser una **Oportunidad** de mejora.\n",
    "\n",
    "**Alerta**, sobre los segmentos D1 y D2, ya que al tener mayor variabilidad, puede incrementar el riesgo."
   ]
  },
  {
   "cell_type": "code",
   "execution_count": 136,
   "id": "939285f4",
   "metadata": {},
   "outputs": [
    {
     "data": {
      "text/plain": [
       "TX_ESTADO_EVALUACION_DWH\n",
       "APROBADA      165428\n",
       "RECHAZADA     205418\n",
       "SIN ESTADO     40730\n",
       "dtype: int64"
      ]
     },
     "execution_count": 136,
     "metadata": {},
     "output_type": "execute_result"
    }
   ],
   "source": [
    "ag_resultado = solic_unicas.groupby('TX_ESTADO_EVALUACION_DWH').size()\n",
    "ag_resultado"
   ]
  },
  {
   "cell_type": "code",
   "execution_count": 137,
   "id": "a49991b7",
   "metadata": {},
   "outputs": [
    {
     "data": {
      "text/plain": [
       "TX_ESTADO_EVALUACION_DWH\n",
       "APROBADA      40.193792\n",
       "RECHAZADA     49.910102\n",
       "SIN ESTADO     9.896107\n",
       "dtype: float64"
      ]
     },
     "execution_count": 137,
     "metadata": {},
     "output_type": "execute_result"
    }
   ],
   "source": [
    "suma_total = ag_resultado.sum()\n",
    "porc_por_grupo = (ag_resultado / suma_total) * 100\n",
    "porc_por_grupo"
   ]
  },
  {
   "cell_type": "markdown",
   "id": "febc2410",
   "metadata": {},
   "source": [
    "### ELIMINAR Resultados \"SIN ESTADO\":"
   ]
  },
  {
   "cell_type": "code",
   "execution_count": 138,
   "id": "659afe52",
   "metadata": {},
   "outputs": [
    {
     "data": {
      "text/html": [
       "<div>\n",
       "<style scoped>\n",
       "    .dataframe tbody tr th:only-of-type {\n",
       "        vertical-align: middle;\n",
       "    }\n",
       "\n",
       "    .dataframe tbody tr th {\n",
       "        vertical-align: top;\n",
       "    }\n",
       "\n",
       "    .dataframe thead th {\n",
       "        text-align: right;\n",
       "    }\n",
       "</style>\n",
       "<table border=\"1\" class=\"dataframe\">\n",
       "  <thead>\n",
       "    <tr style=\"text-align: right;\">\n",
       "      <th></th>\n",
       "      <th>NU_EVALUACION</th>\n",
       "      <th>CD_CLIENTE</th>\n",
       "      <th>CD_SUCURSAL</th>\n",
       "      <th>TX_SEXO</th>\n",
       "      <th>NU_EDAD</th>\n",
       "      <th>TX_ESTADO_CIVIL</th>\n",
       "      <th>NU_ANTIGUEDAD_LABORAL</th>\n",
       "      <th>TX_TIPO_EMPLEO_CLIENTE</th>\n",
       "      <th>TX_PROVINCIA</th>\n",
       "      <th>TX_TIPO_CLIENTE</th>\n",
       "      <th>...</th>\n",
       "      <th>VL_MONTO_MAXIMO</th>\n",
       "      <th>VL_SCORE_DEMOGRAFICO</th>\n",
       "      <th>VL_SCORE_CENDEU</th>\n",
       "      <th>VL_SCORE_NOSIS</th>\n",
       "      <th>VL_SCORE_VERAZ</th>\n",
       "      <th>NU_PRODUCTO</th>\n",
       "      <th>FC_LIQUIDACION</th>\n",
       "      <th>CD_PRODUCTO</th>\n",
       "      <th>VL_DESEMBOLSADO</th>\n",
       "      <th>VL_CUOTA</th>\n",
       "    </tr>\n",
       "  </thead>\n",
       "  <tbody>\n",
       "    <tr>\n",
       "      <th>0</th>\n",
       "      <td>11359589</td>\n",
       "      <td>2730873.0</td>\n",
       "      <td>604.0</td>\n",
       "      <td>MASCULINO</td>\n",
       "      <td>47.0</td>\n",
       "      <td>SOLTERO</td>\n",
       "      <td>25.0</td>\n",
       "      <td>FUERZAS ARMADAS SUBOFICIALES</td>\n",
       "      <td>TUCUMAN</td>\n",
       "      <td>NUEVO</td>\n",
       "      <td>...</td>\n",
       "      <td>53897628.0</td>\n",
       "      <td>741.0</td>\n",
       "      <td>NaN</td>\n",
       "      <td>NaN</td>\n",
       "      <td>NaN</td>\n",
       "      <td>NaN</td>\n",
       "      <td>NaN</td>\n",
       "      <td>NaN</td>\n",
       "      <td>NaN</td>\n",
       "      <td>NaN</td>\n",
       "    </tr>\n",
       "    <tr>\n",
       "      <th>1</th>\n",
       "      <td>11693929</td>\n",
       "      <td>4757803.0</td>\n",
       "      <td>61.0</td>\n",
       "      <td>FEMENINO</td>\n",
       "      <td>28.0</td>\n",
       "      <td>SOLTERO</td>\n",
       "      <td>5.0</td>\n",
       "      <td>FUERZAS ARMADAS OFICIALES</td>\n",
       "      <td>BUENOS AIRES</td>\n",
       "      <td>NUEVO</td>\n",
       "      <td>...</td>\n",
       "      <td>53897628.0</td>\n",
       "      <td>808.0</td>\n",
       "      <td>NaN</td>\n",
       "      <td>NaN</td>\n",
       "      <td>NaN</td>\n",
       "      <td>8.200962e+11</td>\n",
       "      <td>2022-01-10 00:00:00.000</td>\n",
       "      <td>515.0</td>\n",
       "      <td>360027.20</td>\n",
       "      <td>23028.69</td>\n",
       "    </tr>\n",
       "    <tr>\n",
       "      <th>2</th>\n",
       "      <td>11696298</td>\n",
       "      <td>4773004.0</td>\n",
       "      <td>146.0</td>\n",
       "      <td>MASCULINO</td>\n",
       "      <td>35.0</td>\n",
       "      <td>SOLTERO</td>\n",
       "      <td>5.0</td>\n",
       "      <td>FUERZAS ARMADAS SUBOFICIALES</td>\n",
       "      <td>BUENOS AIRES</td>\n",
       "      <td>NUEVO</td>\n",
       "      <td>...</td>\n",
       "      <td>53897628.0</td>\n",
       "      <td>741.0</td>\n",
       "      <td>NaN</td>\n",
       "      <td>NaN</td>\n",
       "      <td>NaN</td>\n",
       "      <td>8.200961e+11</td>\n",
       "      <td>2022-01-03 00:00:00.000</td>\n",
       "      <td>515.0</td>\n",
       "      <td>320000.00</td>\n",
       "      <td>24283.71</td>\n",
       "    </tr>\n",
       "    <tr>\n",
       "      <th>3</th>\n",
       "      <td>11698605</td>\n",
       "      <td>4647990.0</td>\n",
       "      <td>156.0</td>\n",
       "      <td>FEMENINO</td>\n",
       "      <td>42.0</td>\n",
       "      <td>CASADO</td>\n",
       "      <td>5.0</td>\n",
       "      <td>FUERZAS ARMADAS</td>\n",
       "      <td>BUENOS AIRES</td>\n",
       "      <td>NUEVO</td>\n",
       "      <td>...</td>\n",
       "      <td>53897628.0</td>\n",
       "      <td>874.0</td>\n",
       "      <td>NaN</td>\n",
       "      <td>NaN</td>\n",
       "      <td>NaN</td>\n",
       "      <td>8.200962e+11</td>\n",
       "      <td>2022-01-15 00:00:00.000</td>\n",
       "      <td>515.0</td>\n",
       "      <td>200000.84</td>\n",
       "      <td>22009.60</td>\n",
       "    </tr>\n",
       "    <tr>\n",
       "      <th>4</th>\n",
       "      <td>11706908</td>\n",
       "      <td>4584389.0</td>\n",
       "      <td>1.0</td>\n",
       "      <td>MASCULINO</td>\n",
       "      <td>27.0</td>\n",
       "      <td>SOLTERO</td>\n",
       "      <td>2.0</td>\n",
       "      <td>EMPL. ESTATAL</td>\n",
       "      <td>BUENOS AIRES</td>\n",
       "      <td>NUEVO</td>\n",
       "      <td>...</td>\n",
       "      <td>53897628.0</td>\n",
       "      <td>809.0</td>\n",
       "      <td>NaN</td>\n",
       "      <td>NaN</td>\n",
       "      <td>NaN</td>\n",
       "      <td>8.200961e+11</td>\n",
       "      <td>2022-01-03 00:00:00.000</td>\n",
       "      <td>518.0</td>\n",
       "      <td>160000.00</td>\n",
       "      <td>17612.93</td>\n",
       "    </tr>\n",
       "  </tbody>\n",
       "</table>\n",
       "<p>5 rows × 25 columns</p>\n",
       "</div>"
      ],
      "text/plain": [
       "   NU_EVALUACION  CD_CLIENTE  CD_SUCURSAL    TX_SEXO  NU_EDAD   \n",
       "0       11359589   2730873.0        604.0  MASCULINO     47.0  \\\n",
       "1       11693929   4757803.0         61.0   FEMENINO     28.0   \n",
       "2       11696298   4773004.0        146.0  MASCULINO     35.0   \n",
       "3       11698605   4647990.0        156.0   FEMENINO     42.0   \n",
       "4       11706908   4584389.0          1.0  MASCULINO     27.0   \n",
       "\n",
       "        TX_ESTADO_CIVIL  NU_ANTIGUEDAD_LABORAL   \n",
       "0  SOLTERO                                25.0  \\\n",
       "1  SOLTERO                                 5.0   \n",
       "2  SOLTERO                                 5.0   \n",
       "3  CASADO                                  5.0   \n",
       "4  SOLTERO                                 2.0   \n",
       "\n",
       "           TX_TIPO_EMPLEO_CLIENTE                    TX_PROVINCIA   \n",
       "0  FUERZAS ARMADAS SUBOFICIALES    TUCUMAN                         \\\n",
       "1  FUERZAS ARMADAS OFICIALES       BUENOS AIRES                     \n",
       "2  FUERZAS ARMADAS SUBOFICIALES    BUENOS AIRES                     \n",
       "3  FUERZAS ARMADAS                 BUENOS AIRES                     \n",
       "4  EMPL. ESTATAL                   BUENOS AIRES                     \n",
       "\n",
       "  TX_TIPO_CLIENTE  ... VL_MONTO_MAXIMO VL_SCORE_DEMOGRAFICO VL_SCORE_CENDEU   \n",
       "0           NUEVO  ...      53897628.0                741.0             NaN  \\\n",
       "1           NUEVO  ...      53897628.0                808.0             NaN   \n",
       "2           NUEVO  ...      53897628.0                741.0             NaN   \n",
       "3           NUEVO  ...      53897628.0                874.0             NaN   \n",
       "4           NUEVO  ...      53897628.0                809.0             NaN   \n",
       "\n",
       "   VL_SCORE_NOSIS  VL_SCORE_VERAZ   NU_PRODUCTO           FC_LIQUIDACION   \n",
       "0             NaN             NaN           NaN                      NaN  \\\n",
       "1             NaN             NaN  8.200962e+11  2022-01-10 00:00:00.000   \n",
       "2             NaN             NaN  8.200961e+11  2022-01-03 00:00:00.000   \n",
       "3             NaN             NaN  8.200962e+11  2022-01-15 00:00:00.000   \n",
       "4             NaN             NaN  8.200961e+11  2022-01-03 00:00:00.000   \n",
       "\n",
       "   CD_PRODUCTO  VL_DESEMBOLSADO  VL_CUOTA  \n",
       "0          NaN              NaN       NaN  \n",
       "1        515.0        360027.20  23028.69  \n",
       "2        515.0        320000.00  24283.71  \n",
       "3        515.0        200000.84  22009.60  \n",
       "4        518.0        160000.00  17612.93  \n",
       "\n",
       "[5 rows x 25 columns]"
      ]
     },
     "execution_count": 138,
     "metadata": {},
     "output_type": "execute_result"
    }
   ],
   "source": [
    "solic_unicas = solic_unicas.drop(solic_unicas[solic_unicas['TX_ESTADO_EVALUACION_DWH'] == 'SIN ESTADO'].index)\n",
    "solic_unicas.head()"
   ]
  },
  {
   "cell_type": "code",
   "execution_count": 139,
   "id": "c575a0ab",
   "metadata": {},
   "outputs": [
    {
     "data": {
      "text/plain": [
       "(370846, 25)"
      ]
     },
     "execution_count": 139,
     "metadata": {},
     "output_type": "execute_result"
    }
   ],
   "source": [
    "solic_unicas.shape"
   ]
  },
  {
   "cell_type": "markdown",
   "id": "b87cefed",
   "metadata": {},
   "source": [
    "#### AGRUPAR:\n"
   ]
  },
  {
   "cell_type": "code",
   "execution_count": 140,
   "id": "091f5f87",
   "metadata": {},
   "outputs": [
    {
     "data": {
      "text/plain": [
       "TX_ESTADO_EVALUACION_DWH\n",
       "APROBADA     165428\n",
       "RECHAZADA    205418\n",
       "dtype: int64"
      ]
     },
     "execution_count": 140,
     "metadata": {},
     "output_type": "execute_result"
    }
   ],
   "source": [
    "solic_unicas.groupby('TX_ESTADO_EVALUACION_DWH').size()"
   ]
  },
  {
   "cell_type": "code",
   "execution_count": 141,
   "id": "98fe47ac",
   "metadata": {},
   "outputs": [
    {
     "data": {
      "text/plain": [
       "TX_CANAL_ORIGINAL\n",
       "API                               109485\n",
       "COBRANZAS Y SERVICIOS                819\n",
       "COMPA#IA FINANCIERA ARG.               4\n",
       "ENTIDADES INTERMEDIAS                  2\n",
       "MUT.REFINANCIACIONES                   1\n",
       "MUTUALES                            1606\n",
       "SAC                                  678\n",
       "SAC CBU                              240\n",
       "SUCURSAL                          153301\n",
       "SUCURSAL                             167\n",
       "TELEFONICO                           572\n",
       "TELEMARKETING                       9599\n",
       "TELEMARKETING                          1\n",
       "TLMK CBU                             814\n",
       "WEB                                33331\n",
       "WHATSAPP                           60226\n",
       "dtype: int64"
      ]
     },
     "execution_count": 141,
     "metadata": {},
     "output_type": "execute_result"
    }
   ],
   "source": [
    "solic_unicas.groupby('TX_CANAL_ORIGINAL').size()"
   ]
  },
  {
   "cell_type": "markdown",
   "id": "57cd5e48",
   "metadata": {},
   "source": [
    "### AGRUPACION por Tipo de Sexo:\n",
    "* Por Tipo de Sexo\n",
    "    + Cantidad y Porcentaje"
   ]
  },
  {
   "cell_type": "code",
   "execution_count": 142,
   "id": "1b3141c6",
   "metadata": {},
   "outputs": [
    {
     "data": {
      "text/plain": [
       "TX_SEXO\n",
       "FEMENINO     202742\n",
       "MASCULINO    168016\n",
       "dtype: int64"
      ]
     },
     "execution_count": 142,
     "metadata": {},
     "output_type": "execute_result"
    }
   ],
   "source": [
    "conteo_por_sexo = solic_unicas.groupby('TX_SEXO').size()\n",
    "conteo_por_sexo"
   ]
  },
  {
   "cell_type": "code",
   "execution_count": 143,
   "id": "5b5b260a",
   "metadata": {},
   "outputs": [
    {
     "data": {
      "text/plain": [
       "TX_SEXO\n",
       "FEMENINO     54.670133\n",
       "MASCULINO    45.306138\n",
       "dtype: float64"
      ]
     },
     "execution_count": 143,
     "metadata": {},
     "output_type": "execute_result"
    }
   ],
   "source": [
    "total_solicitudes = solic_unicas.shape[0]\n",
    "porc_por_sexo = (conteo_por_sexo / total_solicitudes) * 100\n",
    "porc_por_sexo"
   ]
  },
  {
   "cell_type": "markdown",
   "id": "ab2a355b",
   "metadata": {},
   "source": [
    "#### Femenino:"
   ]
  },
  {
   "cell_type": "code",
   "execution_count": 144,
   "id": "1a5f7f85",
   "metadata": {},
   "outputs": [
    {
     "data": {
      "text/plain": [
       "94901"
      ]
     },
     "execution_count": 144,
     "metadata": {},
     "output_type": "execute_result"
    }
   ],
   "source": [
    "solic_aprob_fem = solic_unicas[(solic_unicas['TX_SEXO'] == 'FEMENINO') & (solic_unicas['TX_ESTADO_EVALUACION_DWH'] == 'APROBADA')]\n",
    "conteo_aprob_fem = solic_aprob_fem.shape[0]\n",
    "conteo_aprob_fem"
   ]
  },
  {
   "cell_type": "code",
   "execution_count": 145,
   "id": "ac660927",
   "metadata": {},
   "outputs": [
    {
     "data": {
      "text/plain": [
       "25.590406799587967"
      ]
     },
     "execution_count": 145,
     "metadata": {},
     "output_type": "execute_result"
    }
   ],
   "source": [
    "solic_aprob_fem = solic_unicas[(solic_unicas['TX_SEXO'] == 'FEMENINO') & (solic_unicas['TX_ESTADO_EVALUACION_DWH'] == 'APROBADA')]\n",
    "conteo_aprob_fem = solic_aprob_fem.shape[0]\n",
    "total_solicitudes = solic_unicas.shape[0]\n",
    "porc_aprob_fem = (conteo_aprob_fem / total_solicitudes) * 100\n",
    "porc_aprob_fem"
   ]
  },
  {
   "cell_type": "markdown",
   "id": "4dc5ed52",
   "metadata": {},
   "source": [
    "#### Masculino:"
   ]
  },
  {
   "cell_type": "code",
   "execution_count": 146,
   "id": "f2cbc03b",
   "metadata": {},
   "outputs": [
    {
     "data": {
      "text/plain": [
       "70467"
      ]
     },
     "execution_count": 146,
     "metadata": {},
     "output_type": "execute_result"
    }
   ],
   "source": [
    "solic_aprob_masc = solic_unicas[(solic_unicas['TX_SEXO'] == 'MASCULINO') & (solic_unicas['TX_ESTADO_EVALUACION_DWH'] == 'APROBADA')]\n",
    "conteo_aprob_masc = solic_aprob_masc.shape[0]\n",
    "conteo_aprob_masc"
   ]
  },
  {
   "cell_type": "code",
   "execution_count": 147,
   "id": "d2665a9e",
   "metadata": {},
   "outputs": [
    {
     "data": {
      "text/plain": [
       "19.001688032229012"
      ]
     },
     "execution_count": 147,
     "metadata": {},
     "output_type": "execute_result"
    }
   ],
   "source": [
    "solic_aprob_masc = solic_unicas[(solic_unicas['TX_SEXO'] == 'MASCULINO') & (solic_unicas['TX_ESTADO_EVALUACION_DWH'] == 'APROBADA')]\n",
    "conteo_aprob_masc = solic_aprob_masc.shape[0]\n",
    "total_solicitudes = solic_unicas.shape[0]\n",
    "porc_aprob_masc = (conteo_aprob_masc / total_solicitudes) * 100\n",
    "porc_aprob_masc"
   ]
  },
  {
   "cell_type": "markdown",
   "id": "98d1b199",
   "metadata": {},
   "source": [
    "#### CONCLUCION:\n",
    "Podemos observar que del total de solicitudes, sucede lo siguiente:\n",
    "* Existe una mayor cantidad de solicitudes Del tipo de Sexo Femenino 202.000 (Vs. 168.000), un 10% superior al Sexo Masculino.\n",
    "* Existe un mayor porcentaje de solicitudes Aprobadas para el Sexo Femenuno 25% (Vs. 19%), un 6% superior al Sexo Masculino.\n"
   ]
  },
  {
   "cell_type": "markdown",
   "id": "b7ed04af",
   "metadata": {},
   "source": [
    "### Grafico con Box Plot Agrupando por Tipo de Sexo:"
   ]
  },
  {
   "cell_type": "code",
   "execution_count": 148,
   "id": "cea84424",
   "metadata": {},
   "outputs": [
    {
     "data": {
      "image/png": "[encoded data removed]",
      "text/plain": [
       "<Figure size 640x480 with 1 Axes>"
      ]
     },
     "metadata": {},
     "output_type": "display_data"
    }
   ],
   "source": [
    "ax = sns.boxplot(data=solic_unicas, x = solic_unicas['VL_INGRESO_NOSIS'], y = solic_unicas['VL_CUOTA'], hue= 'TX_SEXO')\n",
    "plt.xlabel ('Score Socioeconomico')\n",
    "plt.ylabel ('Valor de Cuota')\n",
    "plt.title ('Relación Socioeconomica y Valor de cuota segmentado por Tipo de Sexo')\n",
    "\n",
    "plt.show()"
   ]
  },
  {
   "cell_type": "markdown",
   "id": "fca88567",
   "metadata": {},
   "source": [
    "OutLiers en los Segmentos Socioeconomicos más bajos, posiblemente estan asociados a clientes conocidos, donde los parametros de la oferta son diferentes a los aplicados a nuevos clientes.-"
   ]
  },
  {
   "cell_type": "markdown",
   "id": "7fab0214",
   "metadata": {},
   "source": [
    "### AGRUPACION por Canal de Origen del Cliente:\n",
    "* Por Canal de Ingreso:\n",
    "    + Cantidad y Porcentaje"
   ]
  },
  {
   "cell_type": "code",
   "execution_count": 149,
   "id": "82ab2e97",
   "metadata": {},
   "outputs": [
    {
     "data": {
      "text/plain": [
       "TX_CANAL_ORIGINAL\n",
       "API                               109485\n",
       "COBRANZAS Y SERVICIOS                819\n",
       "COMPA#IA FINANCIERA ARG.               4\n",
       "ENTIDADES INTERMEDIAS                  2\n",
       "MUT.REFINANCIACIONES                   1\n",
       "MUTUALES                            1606\n",
       "SAC                                  678\n",
       "SAC CBU                              240\n",
       "SUCURSAL                          153301\n",
       "SUCURSAL                             167\n",
       "TELEFONICO                           572\n",
       "TELEMARKETING                       9599\n",
       "TELEMARKETING                          1\n",
       "TLMK CBU                             814\n",
       "WEB                                33331\n",
       "WHATSAPP                           60226\n",
       "dtype: int64"
      ]
     },
     "execution_count": 149,
     "metadata": {},
     "output_type": "execute_result"
    }
   ],
   "source": [
    "conteo_por_canal = solic_unicas.groupby('TX_CANAL_ORIGINAL').size()\n",
    "conteo_por_canal"
   ]
  },
  {
   "cell_type": "code",
   "execution_count": 150,
   "id": "a75c1ac2",
   "metadata": {},
   "outputs": [
    {
     "data": {
      "text/plain": [
       "TX_CANAL_ORIGINAL\n",
       "API                                26.965338\n",
       "COBRANZAS Y SERVICIOS              99.755800\n",
       "COMPA#IA FINANCIERA ARG.          100.000000\n",
       "ENTIDADES INTERMEDIAS             100.000000\n",
       "MUT.REFINANCIACIONES              100.000000\n",
       "MUTUALES                           97.882939\n",
       "SAC                                46.017699\n",
       "SAC CBU                            64.583333\n",
       "SUCURSAL                           64.012629\n",
       "SUCURSAL                           76.646707\n",
       "TELEFONICO                         98.076923\n",
       "TELEMARKETING                      57.068445\n",
       "TELEMARKETING                            NaN\n",
       "TLMK CBU                           97.542998\n",
       "WEB                                23.986679\n",
       "WHATSAPP                           33.131870\n",
       "dtype: float64"
      ]
     },
     "execution_count": 150,
     "metadata": {},
     "output_type": "execute_result"
    }
   ],
   "source": [
    "total_solicitudes = solic_unicas.shape[0]\n",
    "conteo_por_canal = solic_unicas.groupby('TX_CANAL_ORIGINAL').size()\n",
    "solicitudes_aprobadas = solic_unicas[solic_unicas['TX_ESTADO_EVALUACION_DWH'] == 'APROBADA']\n",
    "conteo_aprobadas_por_canal = solicitudes_aprobadas.groupby('TX_CANAL_ORIGINAL').size()\n",
    "\n",
    "porc_aprob_por_canal = (conteo_aprobadas_por_canal / conteo_por_canal) * 100\n",
    "porc_aprob_por_canal"
   ]
  },
  {
   "cell_type": "markdown",
   "id": "c39e8013",
   "metadata": {},
   "source": [
    "#### OBSERVAMOS:\n",
    "* Respecto a Cantidades:\n",
    "    * Mayor cantidad de Solicitudes esta concentrada en el Canal Sucursal (Presencial)\n",
    "    * Los canales API y WEB, de autogestión se ubicaron en 2do lugar en cuanto a Q de solicitudes.\n",
    "    * WhatsApp, se ubico como el 3er canal en cuando a la generación de solicitudes.\n",
    "* Respecto a % de Aprobados:\n",
    "    * Canal SUCURSAL con un 76% de Approval, es el con mejor resultado considerando la Q de solicitudes generadas en el periodo.\n",
    "    * Canal API, es el que representa el PEOR resultado en cuanto a Calidad de Clientes, ya que siendo el 2do canal en cuanto a creación de solicitudes, posee de los % de Approval más bajo, con un 27%.\n",
    "    * Misma realidad con el Canal WhatsApp, siendo el 3er en creación y de los más pobres en cuanto Approval.\n",
    "    "
   ]
  },
  {
   "cell_type": "markdown",
   "id": "7e281ded",
   "metadata": {},
   "source": [
    "### DESEMBOLSO (Ventas Completada) Por Canal:"
   ]
  },
  {
   "cell_type": "code",
   "execution_count": 151,
   "id": "a0c7bebe",
   "metadata": {},
   "outputs": [
    {
     "data": {
      "text/plain": [
       "TX_CANAL_ORIGINAL\n",
       "API                                205.173680\n",
       "COBRANZAS Y SERVICIOS                8.785993\n",
       "COMPA#IA FINANCIERA ARG.             1.239622\n",
       "ENTIDADES INTERMEDIAS                0.104523\n",
       "MUT.REFINANCIACIONES                 0.112830\n",
       "MUTUALES                           222.027902\n",
       "SAC                                  9.902156\n",
       "SAC CBU                              6.785973\n",
       "SUCURSAL                          3436.959314\n",
       "SUCURSAL                            53.952476\n",
       "TELEFONICO                          50.799296\n",
       "TELEMARKETING                      157.055452\n",
       "TELEMARKETING                        0.000000\n",
       "TLMK CBU                            51.727166\n",
       "WEB                                242.992321\n",
       "WHATSAPP                           423.225725\n",
       "Name: VL_DESEMBOLSADO, dtype: float64"
      ]
     },
     "execution_count": 151,
     "metadata": {},
     "output_type": "execute_result"
    }
   ],
   "source": [
    "por_canal_desemb = solic_unicas.groupby ('TX_CANAL_ORIGINAL')['VL_DESEMBOLSADO'].agg(lambda x: x.sum()/1000000)\n",
    "por_canal_desemb"
   ]
  },
  {
   "cell_type": "code",
   "execution_count": 152,
   "id": "de2a5f52",
   "metadata": {},
   "outputs": [
    {
     "data": {
      "image/png": "[encoded data removed]",
      "text/plain": [
       "<Figure size 640x480 with 1 Axes>"
      ]
     },
     "metadata": {},
     "output_type": "display_data"
    }
   ],
   "source": [
    "por_canal_desemb = solic_unicas.groupby ('TX_CANAL_ORIGINAL')['VL_DESEMBOLSADO'].agg(lambda x: x.sum()/1000000)\n",
    "df_top5_canales = por_canal_desemb.sort_values(ascending=False).head(5)\n",
    "porc_canal = df_top5_canales / df_top5_canales.sum()*100\n",
    "\n",
    "ax = df_top5_canales.plot(kind='bar')\n",
    "ax.bar_label(ax.containers[0], labels=[f'{p:1.2f}%' for p in porc_canal])\n",
    "plt.xlabel('Canal Ingreso')\n",
    "plt.ylabel('Q Solicitudes Completadas')\n",
    "plt.title ('Distribucion por Canales')\n",
    "plt.show()\n"
   ]
  },
  {
   "cell_type": "markdown",
   "id": "69211652",
   "metadata": {},
   "source": [
    "#### OBSERVAMOS:\n",
    "De los 5 canales más representativos, vemos que:\n",
    "* Canal Sucursal REPRESENTA el 76% del total de la Colocación (Ventas Completadas).\n",
    "* Canal WhatsApp alcanza el 10%, como segundo Canal con mayor participación, duplicando al resto de los canales.\n",
    "\n",
    "Los canales TRADICIONALES, donde existe la participación ***Humana***, siguen siendo el mejor canal de conversión en cuanto a resultados."
   ]
  },
  {
   "cell_type": "code",
   "execution_count": null,
   "id": "27168f24",
   "metadata": {},
   "outputs": [],
   "source": []
  },
  {
   "cell_type": "markdown",
   "id": "12cc52ae",
   "metadata": {},
   "source": [
    "## Trabajar Con COLUMNAS:\n",
    "Partiendo desde el Ultimo DS - \"solic_unicas\":\n",
    "* Analizar Información de cada Columna\n",
    "* Aporte de valor al analisis\n",
    "* Información con datos numericos y categoricos\n",
    "* Transformación de datos categoricos\n",
    "    + Tecnicas de One Hot Encoder\n",
    "    + Tecnicas de Label Encoding\n",
    "    + Tecnicas de Ordenamiento Ordinal"
   ]
  },
  {
   "cell_type": "code",
   "execution_count": 153,
   "id": "f8407bfe",
   "metadata": {},
   "outputs": [
    {
     "data": {
      "text/html": [
       "<div>\n",
       "<style scoped>\n",
       "    .dataframe tbody tr th:only-of-type {\n",
       "        vertical-align: middle;\n",
       "    }\n",
       "\n",
       "    .dataframe tbody tr th {\n",
       "        vertical-align: top;\n",
       "    }\n",
       "\n",
       "    .dataframe thead th {\n",
       "        text-align: right;\n",
       "    }\n",
       "</style>\n",
       "<table border=\"1\" class=\"dataframe\">\n",
       "  <thead>\n",
       "    <tr style=\"text-align: right;\">\n",
       "      <th></th>\n",
       "      <th>NU_EVALUACION</th>\n",
       "      <th>CD_CLIENTE</th>\n",
       "      <th>CD_SUCURSAL</th>\n",
       "      <th>TX_SEXO</th>\n",
       "      <th>NU_EDAD</th>\n",
       "      <th>TX_ESTADO_CIVIL</th>\n",
       "      <th>NU_ANTIGUEDAD_LABORAL</th>\n",
       "      <th>TX_TIPO_EMPLEO_CLIENTE</th>\n",
       "      <th>TX_PROVINCIA</th>\n",
       "      <th>TX_TIPO_CLIENTE</th>\n",
       "      <th>...</th>\n",
       "      <th>VL_MONTO_MAXIMO</th>\n",
       "      <th>VL_SCORE_DEMOGRAFICO</th>\n",
       "      <th>VL_SCORE_CENDEU</th>\n",
       "      <th>VL_SCORE_NOSIS</th>\n",
       "      <th>VL_SCORE_VERAZ</th>\n",
       "      <th>NU_PRODUCTO</th>\n",
       "      <th>FC_LIQUIDACION</th>\n",
       "      <th>CD_PRODUCTO</th>\n",
       "      <th>VL_DESEMBOLSADO</th>\n",
       "      <th>VL_CUOTA</th>\n",
       "    </tr>\n",
       "  </thead>\n",
       "  <tbody>\n",
       "    <tr>\n",
       "      <th>0</th>\n",
       "      <td>11359589</td>\n",
       "      <td>2730873.0</td>\n",
       "      <td>604.0</td>\n",
       "      <td>MASCULINO</td>\n",
       "      <td>47.0</td>\n",
       "      <td>SOLTERO</td>\n",
       "      <td>25.0</td>\n",
       "      <td>FUERZAS ARMADAS SUBOFICIALES</td>\n",
       "      <td>TUCUMAN</td>\n",
       "      <td>NUEVO</td>\n",
       "      <td>...</td>\n",
       "      <td>53897628.0</td>\n",
       "      <td>741.0</td>\n",
       "      <td>NaN</td>\n",
       "      <td>NaN</td>\n",
       "      <td>NaN</td>\n",
       "      <td>NaN</td>\n",
       "      <td>NaN</td>\n",
       "      <td>NaN</td>\n",
       "      <td>NaN</td>\n",
       "      <td>NaN</td>\n",
       "    </tr>\n",
       "    <tr>\n",
       "      <th>1</th>\n",
       "      <td>11693929</td>\n",
       "      <td>4757803.0</td>\n",
       "      <td>61.0</td>\n",
       "      <td>FEMENINO</td>\n",
       "      <td>28.0</td>\n",
       "      <td>SOLTERO</td>\n",
       "      <td>5.0</td>\n",
       "      <td>FUERZAS ARMADAS OFICIALES</td>\n",
       "      <td>BUENOS AIRES</td>\n",
       "      <td>NUEVO</td>\n",
       "      <td>...</td>\n",
       "      <td>53897628.0</td>\n",
       "      <td>808.0</td>\n",
       "      <td>NaN</td>\n",
       "      <td>NaN</td>\n",
       "      <td>NaN</td>\n",
       "      <td>8.200962e+11</td>\n",
       "      <td>2022-01-10 00:00:00.000</td>\n",
       "      <td>515.0</td>\n",
       "      <td>360027.20</td>\n",
       "      <td>23028.69</td>\n",
       "    </tr>\n",
       "    <tr>\n",
       "      <th>2</th>\n",
       "      <td>11696298</td>\n",
       "      <td>4773004.0</td>\n",
       "      <td>146.0</td>\n",
       "      <td>MASCULINO</td>\n",
       "      <td>35.0</td>\n",
       "      <td>SOLTERO</td>\n",
       "      <td>5.0</td>\n",
       "      <td>FUERZAS ARMADAS SUBOFICIALES</td>\n",
       "      <td>BUENOS AIRES</td>\n",
       "      <td>NUEVO</td>\n",
       "      <td>...</td>\n",
       "      <td>53897628.0</td>\n",
       "      <td>741.0</td>\n",
       "      <td>NaN</td>\n",
       "      <td>NaN</td>\n",
       "      <td>NaN</td>\n",
       "      <td>8.200961e+11</td>\n",
       "      <td>2022-01-03 00:00:00.000</td>\n",
       "      <td>515.0</td>\n",
       "      <td>320000.00</td>\n",
       "      <td>24283.71</td>\n",
       "    </tr>\n",
       "    <tr>\n",
       "      <th>3</th>\n",
       "      <td>11698605</td>\n",
       "      <td>4647990.0</td>\n",
       "      <td>156.0</td>\n",
       "      <td>FEMENINO</td>\n",
       "      <td>42.0</td>\n",
       "      <td>CASADO</td>\n",
       "      <td>5.0</td>\n",
       "      <td>FUERZAS ARMADAS</td>\n",
       "      <td>BUENOS AIRES</td>\n",
       "      <td>NUEVO</td>\n",
       "      <td>...</td>\n",
       "      <td>53897628.0</td>\n",
       "      <td>874.0</td>\n",
       "      <td>NaN</td>\n",
       "      <td>NaN</td>\n",
       "      <td>NaN</td>\n",
       "      <td>8.200962e+11</td>\n",
       "      <td>2022-01-15 00:00:00.000</td>\n",
       "      <td>515.0</td>\n",
       "      <td>200000.84</td>\n",
       "      <td>22009.60</td>\n",
       "    </tr>\n",
       "    <tr>\n",
       "      <th>4</th>\n",
       "      <td>11706908</td>\n",
       "      <td>4584389.0</td>\n",
       "      <td>1.0</td>\n",
       "      <td>MASCULINO</td>\n",
       "      <td>27.0</td>\n",
       "      <td>SOLTERO</td>\n",
       "      <td>2.0</td>\n",
       "      <td>EMPL. ESTATAL</td>\n",
       "      <td>BUENOS AIRES</td>\n",
       "      <td>NUEVO</td>\n",
       "      <td>...</td>\n",
       "      <td>53897628.0</td>\n",
       "      <td>809.0</td>\n",
       "      <td>NaN</td>\n",
       "      <td>NaN</td>\n",
       "      <td>NaN</td>\n",
       "      <td>8.200961e+11</td>\n",
       "      <td>2022-01-03 00:00:00.000</td>\n",
       "      <td>518.0</td>\n",
       "      <td>160000.00</td>\n",
       "      <td>17612.93</td>\n",
       "    </tr>\n",
       "  </tbody>\n",
       "</table>\n",
       "<p>5 rows × 25 columns</p>\n",
       "</div>"
      ],
      "text/plain": [
       "   NU_EVALUACION  CD_CLIENTE  CD_SUCURSAL    TX_SEXO  NU_EDAD   \n",
       "0       11359589   2730873.0        604.0  MASCULINO     47.0  \\\n",
       "1       11693929   4757803.0         61.0   FEMENINO     28.0   \n",
       "2       11696298   4773004.0        146.0  MASCULINO     35.0   \n",
       "3       11698605   4647990.0        156.0   FEMENINO     42.0   \n",
       "4       11706908   4584389.0          1.0  MASCULINO     27.0   \n",
       "\n",
       "        TX_ESTADO_CIVIL  NU_ANTIGUEDAD_LABORAL   \n",
       "0  SOLTERO                                25.0  \\\n",
       "1  SOLTERO                                 5.0   \n",
       "2  SOLTERO                                 5.0   \n",
       "3  CASADO                                  5.0   \n",
       "4  SOLTERO                                 2.0   \n",
       "\n",
       "           TX_TIPO_EMPLEO_CLIENTE                    TX_PROVINCIA   \n",
       "0  FUERZAS ARMADAS SUBOFICIALES    TUCUMAN                         \\\n",
       "1  FUERZAS ARMADAS OFICIALES       BUENOS AIRES                     \n",
       "2  FUERZAS ARMADAS SUBOFICIALES    BUENOS AIRES                     \n",
       "3  FUERZAS ARMADAS                 BUENOS AIRES                     \n",
       "4  EMPL. ESTATAL                   BUENOS AIRES                     \n",
       "\n",
       "  TX_TIPO_CLIENTE  ... VL_MONTO_MAXIMO VL_SCORE_DEMOGRAFICO VL_SCORE_CENDEU   \n",
       "0           NUEVO  ...      53897628.0                741.0             NaN  \\\n",
       "1           NUEVO  ...      53897628.0                808.0             NaN   \n",
       "2           NUEVO  ...      53897628.0                741.0             NaN   \n",
       "3           NUEVO  ...      53897628.0                874.0             NaN   \n",
       "4           NUEVO  ...      53897628.0                809.0             NaN   \n",
       "\n",
       "   VL_SCORE_NOSIS  VL_SCORE_VERAZ   NU_PRODUCTO           FC_LIQUIDACION   \n",
       "0             NaN             NaN           NaN                      NaN  \\\n",
       "1             NaN             NaN  8.200962e+11  2022-01-10 00:00:00.000   \n",
       "2             NaN             NaN  8.200961e+11  2022-01-03 00:00:00.000   \n",
       "3             NaN             NaN  8.200962e+11  2022-01-15 00:00:00.000   \n",
       "4             NaN             NaN  8.200961e+11  2022-01-03 00:00:00.000   \n",
       "\n",
       "   CD_PRODUCTO  VL_DESEMBOLSADO  VL_CUOTA  \n",
       "0          NaN              NaN       NaN  \n",
       "1        515.0        360027.20  23028.69  \n",
       "2        515.0        320000.00  24283.71  \n",
       "3        515.0        200000.84  22009.60  \n",
       "4        518.0        160000.00  17612.93  \n",
       "\n",
       "[5 rows x 25 columns]"
      ]
     },
     "execution_count": 153,
     "metadata": {},
     "output_type": "execute_result"
    }
   ],
   "source": [
    "solic_unicas.head()"
   ]
  },
  {
   "cell_type": "code",
   "execution_count": 154,
   "id": "eb49de20",
   "metadata": {},
   "outputs": [
    {
     "data": {
      "text/plain": [
       "Index(['NU_EVALUACION', 'CD_CLIENTE', 'CD_SUCURSAL', 'TX_SEXO', 'NU_EDAD',\n",
       "       'TX_ESTADO_CIVIL', 'NU_ANTIGUEDAD_LABORAL', 'TX_TIPO_EMPLEO_CLIENTE',\n",
       "       'TX_PROVINCIA', 'TX_TIPO_CLIENTE', 'TX_ESTADO_EVALUACION_DWH',\n",
       "       'TX_CANAL_ORIGINAL', 'VL_INGRESO_NOSIS', 'VL_INGRESO_VERAZ',\n",
       "       'VL_CUOTA_MAXIMA', 'VL_MONTO_MAXIMO', 'VL_SCORE_DEMOGRAFICO',\n",
       "       'VL_SCORE_CENDEU', 'VL_SCORE_NOSIS', 'VL_SCORE_VERAZ', 'NU_PRODUCTO',\n",
       "       'FC_LIQUIDACION', 'CD_PRODUCTO', 'VL_DESEMBOLSADO', 'VL_CUOTA'],\n",
       "      dtype='object')"
      ]
     },
     "execution_count": 154,
     "metadata": {},
     "output_type": "execute_result"
    }
   ],
   "source": [
    "solic_unicas.columns"
   ]
  },
  {
   "cell_type": "code",
   "execution_count": 155,
   "id": "8b09790b",
   "metadata": {},
   "outputs": [
    {
     "data": {
      "text/html": [
       "<div>\n",
       "<style scoped>\n",
       "    .dataframe tbody tr th:only-of-type {\n",
       "        vertical-align: middle;\n",
       "    }\n",
       "\n",
       "    .dataframe tbody tr th {\n",
       "        vertical-align: top;\n",
       "    }\n",
       "\n",
       "    .dataframe thead th {\n",
       "        text-align: right;\n",
       "    }\n",
       "</style>\n",
       "<table border=\"1\" class=\"dataframe\">\n",
       "  <thead>\n",
       "    <tr style=\"text-align: right;\">\n",
       "      <th></th>\n",
       "      <th>CD_CLIENTE</th>\n",
       "      <th>TX_SEXO</th>\n",
       "      <th>NU_EDAD</th>\n",
       "      <th>TX_ESTADO_CIVIL</th>\n",
       "      <th>NU_ANTIGUEDAD_LABORAL</th>\n",
       "      <th>TX_TIPO_CLIENTE</th>\n",
       "      <th>TX_ESTADO_EVALUACION_DWH</th>\n",
       "      <th>TX_CANAL_ORIGINAL</th>\n",
       "      <th>VL_INGRESO_NOSIS</th>\n",
       "      <th>VL_SCORE_NOSIS</th>\n",
       "      <th>VL_SCORE_VERAZ</th>\n",
       "      <th>VL_DESEMBOLSADO</th>\n",
       "      <th>VL_CUOTA</th>\n",
       "    </tr>\n",
       "  </thead>\n",
       "  <tbody>\n",
       "    <tr>\n",
       "      <th>0</th>\n",
       "      <td>2730873.0</td>\n",
       "      <td>MASCULINO</td>\n",
       "      <td>47.0</td>\n",
       "      <td>SOLTERO</td>\n",
       "      <td>25.0</td>\n",
       "      <td>NUEVO</td>\n",
       "      <td>APROBADA</td>\n",
       "      <td>SUCURSAL</td>\n",
       "      <td>NaN</td>\n",
       "      <td>NaN</td>\n",
       "      <td>NaN</td>\n",
       "      <td>NaN</td>\n",
       "      <td>NaN</td>\n",
       "    </tr>\n",
       "    <tr>\n",
       "      <th>1</th>\n",
       "      <td>4757803.0</td>\n",
       "      <td>FEMENINO</td>\n",
       "      <td>28.0</td>\n",
       "      <td>SOLTERO</td>\n",
       "      <td>5.0</td>\n",
       "      <td>NUEVO</td>\n",
       "      <td>APROBADA</td>\n",
       "      <td>MUTUALES</td>\n",
       "      <td>NaN</td>\n",
       "      <td>NaN</td>\n",
       "      <td>NaN</td>\n",
       "      <td>360027.20</td>\n",
       "      <td>23028.69</td>\n",
       "    </tr>\n",
       "    <tr>\n",
       "      <th>2</th>\n",
       "      <td>4773004.0</td>\n",
       "      <td>MASCULINO</td>\n",
       "      <td>35.0</td>\n",
       "      <td>SOLTERO</td>\n",
       "      <td>5.0</td>\n",
       "      <td>NUEVO</td>\n",
       "      <td>APROBADA</td>\n",
       "      <td>MUTUALES</td>\n",
       "      <td>NaN</td>\n",
       "      <td>NaN</td>\n",
       "      <td>NaN</td>\n",
       "      <td>320000.00</td>\n",
       "      <td>24283.71</td>\n",
       "    </tr>\n",
       "    <tr>\n",
       "      <th>3</th>\n",
       "      <td>4647990.0</td>\n",
       "      <td>FEMENINO</td>\n",
       "      <td>42.0</td>\n",
       "      <td>CASADO</td>\n",
       "      <td>5.0</td>\n",
       "      <td>NUEVO</td>\n",
       "      <td>APROBADA</td>\n",
       "      <td>MUTUALES</td>\n",
       "      <td>NaN</td>\n",
       "      <td>NaN</td>\n",
       "      <td>NaN</td>\n",
       "      <td>200000.84</td>\n",
       "      <td>22009.60</td>\n",
       "    </tr>\n",
       "    <tr>\n",
       "      <th>4</th>\n",
       "      <td>4584389.0</td>\n",
       "      <td>MASCULINO</td>\n",
       "      <td>27.0</td>\n",
       "      <td>SOLTERO</td>\n",
       "      <td>2.0</td>\n",
       "      <td>NUEVO</td>\n",
       "      <td>APROBADA</td>\n",
       "      <td>MUTUALES</td>\n",
       "      <td>NaN</td>\n",
       "      <td>NaN</td>\n",
       "      <td>NaN</td>\n",
       "      <td>160000.00</td>\n",
       "      <td>17612.93</td>\n",
       "    </tr>\n",
       "  </tbody>\n",
       "</table>\n",
       "</div>"
      ],
      "text/plain": [
       "   CD_CLIENTE    TX_SEXO  NU_EDAD       TX_ESTADO_CIVIL   \n",
       "0   2730873.0  MASCULINO     47.0  SOLTERO               \\\n",
       "1   4757803.0   FEMENINO     28.0  SOLTERO                \n",
       "2   4773004.0  MASCULINO     35.0  SOLTERO                \n",
       "3   4647990.0   FEMENINO     42.0  CASADO                 \n",
       "4   4584389.0  MASCULINO     27.0  SOLTERO                \n",
       "\n",
       "   NU_ANTIGUEDAD_LABORAL TX_TIPO_CLIENTE TX_ESTADO_EVALUACION_DWH   \n",
       "0                   25.0           NUEVO                 APROBADA  \\\n",
       "1                    5.0           NUEVO                 APROBADA   \n",
       "2                    5.0           NUEVO                 APROBADA   \n",
       "3                    5.0           NUEVO                 APROBADA   \n",
       "4                    2.0           NUEVO                 APROBADA   \n",
       "\n",
       "                TX_CANAL_ORIGINAL VL_INGRESO_NOSIS  VL_SCORE_NOSIS   \n",
       "0  SUCURSAL                                    NaN             NaN  \\\n",
       "1  MUTUALES                                    NaN             NaN   \n",
       "2  MUTUALES                                    NaN             NaN   \n",
       "3  MUTUALES                                    NaN             NaN   \n",
       "4  MUTUALES                                    NaN             NaN   \n",
       "\n",
       "   VL_SCORE_VERAZ  VL_DESEMBOLSADO  VL_CUOTA  \n",
       "0             NaN              NaN       NaN  \n",
       "1             NaN        360027.20  23028.69  \n",
       "2             NaN        320000.00  24283.71  \n",
       "3             NaN        200000.84  22009.60  \n",
       "4             NaN        160000.00  17612.93  "
      ]
     },
     "execution_count": 155,
     "metadata": {},
     "output_type": "execute_result"
    }
   ],
   "source": [
    "col_eliminar = ['NU_EVALUACION', 'CD_SUCURSAL', 'TX_PROVINCIA','VL_SCORE_CENDEU', \n",
    "                'VL_CUOTA_MAXIMA', 'VL_MONTO_MAXIMO','VL_INGRESO_VERAZ','NU_PRODUCTO','FC_LIQUIDACION', \n",
    "                'CD_PRODUCTO','TX_TIPO_EMPLEO_CLIENTE','VL_SCORE_DEMOGRAFICO', 'VL_INGRESO_VERAZ','VL_SCORE_CENDEU']\n",
    "solic_unicas = solic_unicas.drop(columns=col_eliminar)\n",
    "solic_unicas.head()"
   ]
  },
  {
   "cell_type": "code",
   "execution_count": 156,
   "id": "775681c7",
   "metadata": {},
   "outputs": [
    {
     "data": {
      "text/plain": [
       "Index(['CD_CLIENTE', 'TX_SEXO', 'NU_EDAD', 'TX_ESTADO_CIVIL',\n",
       "       'NU_ANTIGUEDAD_LABORAL', 'TX_TIPO_CLIENTE', 'TX_ESTADO_EVALUACION_DWH',\n",
       "       'TX_CANAL_ORIGINAL', 'VL_INGRESO_NOSIS', 'VL_SCORE_NOSIS',\n",
       "       'VL_SCORE_VERAZ', 'VL_DESEMBOLSADO', 'VL_CUOTA'],\n",
       "      dtype='object')"
      ]
     },
     "execution_count": 156,
     "metadata": {},
     "output_type": "execute_result"
    }
   ],
   "source": [
    "solic_unicas.columns"
   ]
  },
  {
   "cell_type": "code",
   "execution_count": 157,
   "id": "d8203fd9",
   "metadata": {},
   "outputs": [
    {
     "data": {
      "text/plain": [
       "CD_CLIENTE                   0.000270\n",
       "TX_SEXO                      0.023730\n",
       "NU_EDAD                      0.000270\n",
       "TX_ESTADO_CIVIL              1.443456\n",
       "NU_ANTIGUEDAD_LABORAL        1.619001\n",
       "TX_TIPO_CLIENTE              0.000000\n",
       "TX_ESTADO_EVALUACION_DWH     0.000000\n",
       "TX_CANAL_ORIGINAL            0.000000\n",
       "VL_INGRESO_NOSIS            52.979943\n",
       "VL_SCORE_NOSIS              27.794287\n",
       "VL_SCORE_VERAZ              27.836353\n",
       "VL_DESEMBOLSADO             78.276427\n",
       "VL_CUOTA                    78.276427\n",
       "dtype: float64"
      ]
     },
     "execution_count": 157,
     "metadata": {},
     "output_type": "execute_result"
    }
   ],
   "source": [
    "nan_sol_unicas = solic_unicas.isna().sum()\n",
    "porc_nan_sol_unicas = (nan_sol_unicas / solic_unicas.shape[0])*100\n",
    "porc_nan_sol_unicas"
   ]
  },
  {
   "cell_type": "code",
   "execution_count": null,
   "id": "b5873b28",
   "metadata": {},
   "outputs": [],
   "source": []
  },
  {
   "cell_type": "markdown",
   "id": "90129410",
   "metadata": {},
   "source": [
    "#### Transformar Variables Categoricas en Numericas: One Hot Encoder\n",
    "Libreria: \n",
    "* from sklearn.preprocessing import OneHotEncoder"
   ]
  },
  {
   "cell_type": "code",
   "execution_count": 158,
   "id": "2b60fe84",
   "metadata": {},
   "outputs": [
    {
     "name": "stderr",
     "output_type": "stream",
     "text": [
      "C:\\Users\\juand\\AppData\\Local\\Programs\\Python\\Python311\\Lib\\site-packages\\sklearn\\preprocessing\\_encoders.py:868: FutureWarning: `sparse` was renamed to `sparse_output` in version 1.2 and will be removed in 1.4. `sparse_output` is ignored unless you leave `sparse` to its default value.\n",
      "  warnings.warn(\n"
     ]
    }
   ],
   "source": [
    "new_solic = pd.DataFrame(solic_unicas)\n",
    "\n",
    "categorical_columns = ['TX_SEXO', 'TX_ESTADO_CIVIL', 'TX_TIPO_CLIENTE', 'TX_CANAL_ORIGINAL', 'VL_INGRESO_NOSIS']\n",
    "categorical_data = new_solic[categorical_columns]\n",
    "\n",
    "encoder = OneHotEncoder(sparse=False)  \n",
    "encoded_data = encoder.fit_transform(categorical_data)\n",
    "\n",
    "column_names = encoder.get_feature_names_out(input_features=categorical_columns)\n",
    "encoded_solic = pd.DataFrame(encoded_data, columns=column_names)\n",
    "\n",
    "encoded_new_solic = pd.concat([new_solic.drop(columns=categorical_columns), encoded_solic], axis=1)\n",
    "\n",
    "mapping = {'APROBADA': 1, 'RECHAZADA': 0}\n",
    "encoded_new_solic['TX_ESTADO_EVALUACION_DWH'] = encoded_new_solic['TX_ESTADO_EVALUACION_DWH'].map(mapping)"
   ]
  },
  {
   "cell_type": "code",
   "execution_count": 159,
   "id": "69899196",
   "metadata": {},
   "outputs": [
    {
     "name": "stdout",
     "output_type": "stream",
     "text": [
      "<class 'pandas.core.frame.DataFrame'>\n",
      "Index: 637712 entries, 0 to 370845\n",
      "Data columns (total 52 columns):\n",
      " #   Column                                            Non-Null Count   Dtype  \n",
      "---  ------                                            --------------   -----  \n",
      " 0   CD_CLIENTE                                        370845 non-null  float64\n",
      " 1   NU_EDAD                                           370845 non-null  float64\n",
      " 2   NU_ANTIGUEDAD_LABORAL                             364842 non-null  float64\n",
      " 3   TX_ESTADO_EVALUACION_DWH                          370846 non-null  float64\n",
      " 4   VL_SCORE_NOSIS                                    267772 non-null  float64\n",
      " 5   VL_SCORE_VERAZ                                    267616 non-null  float64\n",
      " 6   VL_DESEMBOLSADO                                   80561 non-null   float64\n",
      " 7   VL_CUOTA                                          80561 non-null   float64\n",
      " 8   TX_SEXO_FEMENINO                                  370846 non-null  float64\n",
      " 9   TX_SEXO_MASCULINO                                 370846 non-null  float64\n",
      " 10  TX_SEXO_nan                                       370846 non-null  float64\n",
      " 11  TX_ESTADO_CIVIL_CASADO                            370846 non-null  float64\n",
      " 12  TX_ESTADO_CIVIL_CASADO/A                          370846 non-null  float64\n",
      " 13  TX_ESTADO_CIVIL_DIVORCIADO                        370846 non-null  float64\n",
      " 14  TX_ESTADO_CIVIL_DIVORCIADO/A                      370846 non-null  float64\n",
      " 15  TX_ESTADO_CIVIL_OTRO                              370846 non-null  float64\n",
      " 16  TX_ESTADO_CIVIL_OTROS                             370846 non-null  float64\n",
      " 17  TX_ESTADO_CIVIL_SEPARADO                          370846 non-null  float64\n",
      " 18  TX_ESTADO_CIVIL_SEPARADO/A                        370846 non-null  float64\n",
      " 19  TX_ESTADO_CIVIL_SOLTERO                           370846 non-null  float64\n",
      " 20  TX_ESTADO_CIVIL_SOLTERO/A                         370846 non-null  float64\n",
      " 21  TX_ESTADO_CIVIL_VIUDO                             370846 non-null  float64\n",
      " 22  TX_ESTADO_CIVIL_VIUDO/A                           370846 non-null  float64\n",
      " 23  TX_ESTADO_CIVIL_nan                               370846 non-null  float64\n",
      " 24  TX_TIPO_CLIENTE_CONOCIDO                          370846 non-null  float64\n",
      " 25  TX_TIPO_CLIENTE_EXISTENTE                         370846 non-null  float64\n",
      " 26  TX_TIPO_CLIENTE_NUEVO                             370846 non-null  float64\n",
      " 27  TX_CANAL_ORIGINAL_API                             370846 non-null  float64\n",
      " 28  TX_CANAL_ORIGINAL_COBRANZAS Y SERVICIOS           370846 non-null  float64\n",
      " 29  TX_CANAL_ORIGINAL_COMPA#IA FINANCIERA ARG.        370846 non-null  float64\n",
      " 30  TX_CANAL_ORIGINAL_ENTIDADES INTERMEDIAS           370846 non-null  float64\n",
      " 31  TX_CANAL_ORIGINAL_MUT.REFINANCIACIONES            370846 non-null  float64\n",
      " 32  TX_CANAL_ORIGINAL_MUTUALES                        370846 non-null  float64\n",
      " 33  TX_CANAL_ORIGINAL_SAC                             370846 non-null  float64\n",
      " 34  TX_CANAL_ORIGINAL_SAC CBU                         370846 non-null  float64\n",
      " 35  TX_CANAL_ORIGINAL_SUCURSAL                        370846 non-null  float64\n",
      " 36  TX_CANAL_ORIGINAL_SUCURSAL                        370846 non-null  float64\n",
      " 37  TX_CANAL_ORIGINAL_TELEFONICO                      370846 non-null  float64\n",
      " 38  TX_CANAL_ORIGINAL_TELEMARKETING                   370846 non-null  float64\n",
      " 39  TX_CANAL_ORIGINAL_TELEMARKETING                   370846 non-null  float64\n",
      " 40  TX_CANAL_ORIGINAL_TLMK CBU                        370846 non-null  float64\n",
      " 41  TX_CANAL_ORIGINAL_WEB                             370846 non-null  float64\n",
      " 42  TX_CANAL_ORIGINAL_WHATSAPP                        370846 non-null  float64\n",
      " 43  VL_INGRESO_NOSIS_A                                370846 non-null  float64\n",
      " 44  VL_INGRESO_NOSIS_B                                370846 non-null  float64\n",
      " 45  VL_INGRESO_NOSIS_C1                               370846 non-null  float64\n",
      " 46  VL_INGRESO_NOSIS_C2                               370846 non-null  float64\n",
      " 47  VL_INGRESO_NOSIS_C3                               370846 non-null  float64\n",
      " 48  VL_INGRESO_NOSIS_D1                               370846 non-null  float64\n",
      " 49  VL_INGRESO_NOSIS_D2                               370846 non-null  float64\n",
      " 50  VL_INGRESO_NOSIS_NC                               370846 non-null  float64\n",
      " 51  VL_INGRESO_NOSIS_nan                              370846 non-null  float64\n",
      "dtypes: float64(52)\n",
      "memory usage: 257.9 MB\n"
     ]
    }
   ],
   "source": [
    "encoded_new_solic.info()"
   ]
  },
  {
   "cell_type": "markdown",
   "id": "fb036f54",
   "metadata": {},
   "source": [
    "#### Resultado:\n",
    "* Variables categoricas todas transformadas a Numericas.\n",
    "* Variables Independientes todas numericas\n",
    "* Variable Dependiente \"TX_ESTADO_EVALUACION_DWH\":\n",
    "    - Transformar a Numerica con cardinalidad.\n",
    "    1) Aprobado = 1\n",
    "    2) Rechazada = 0"
   ]
  },
  {
   "cell_type": "code",
   "execution_count": 160,
   "id": "1ac8025e",
   "metadata": {},
   "outputs": [
    {
     "data": {
      "text/plain": [
       "TX_ESTADO_EVALUACION_DWH\n",
       "0.0    205418\n",
       "1.0    165428\n",
       "dtype: int64"
      ]
     },
     "execution_count": 160,
     "metadata": {},
     "output_type": "execute_result"
    }
   ],
   "source": [
    "encoded_new_solic.groupby('TX_ESTADO_EVALUACION_DWH').size()"
   ]
  },
  {
   "cell_type": "markdown",
   "id": "ed73391d",
   "metadata": {},
   "source": [
    "-------------------------------------------------------------------------------------------------------------------------------"
   ]
  },
  {
   "cell_type": "markdown",
   "id": "83e29d2f",
   "metadata": {},
   "source": [
    "## 2) Carga Data Set \"comportamiento\":"
   ]
  },
  {
   "cell_type": "code",
   "execution_count": 162,
   "id": "00fa8c8b",
   "metadata": {},
   "outputs": [
    {
     "data": {
      "text/html": [
       "<div>\n",
       "<style scoped>\n",
       "    .dataframe tbody tr th:only-of-type {\n",
       "        vertical-align: middle;\n",
       "    }\n",
       "\n",
       "    .dataframe tbody tr th {\n",
       "        vertical-align: top;\n",
       "    }\n",
       "\n",
       "    .dataframe thead th {\n",
       "        text-align: right;\n",
       "    }\n",
       "</style>\n",
       "<table border=\"1\" class=\"dataframe\">\n",
       "  <thead>\n",
       "    <tr style=\"text-align: right;\">\n",
       "      <th></th>\n",
       "      <th>NU_PRODUCTO</th>\n",
       "      <th>CD_PRODUCTO</th>\n",
       "      <th>cd_cliente</th>\n",
       "      <th>CD_SUCURSAL_ASIGNADA</th>\n",
       "      <th>CD_ESTADO_PRODUCTO</th>\n",
       "      <th>CD_SUBESTADO_PRODUCTO</th>\n",
       "      <th>FC_ALTA</th>\n",
       "      <th>FC_NO_VIGENCIA</th>\n",
       "      <th>VL_DEUDA_TOTAL</th>\n",
       "      <th>VL_EFECTIVO_ENTREGADO</th>\n",
       "      <th>...</th>\n",
       "      <th>NU_CUOTAS_EN_MORA</th>\n",
       "      <th>VL_CUOTA</th>\n",
       "      <th>VL_TASA_NOMINAL_ANUAL</th>\n",
       "      <th>CD_PRODUCTO_ORIGINAL</th>\n",
       "      <th>CD_SUCURSAL_VENTA</th>\n",
       "      <th>FC_LIQUIDACION</th>\n",
       "      <th>FC_PRIMER_VENCIMIENTO</th>\n",
       "      <th>FC_ULTIMO_VENCIMIENTO</th>\n",
       "      <th>NU_DIAS_MORA</th>\n",
       "      <th>VL_DEUDA_VENCIDA</th>\n",
       "    </tr>\n",
       "  </thead>\n",
       "  <tbody>\n",
       "    <tr>\n",
       "      <th>0</th>\n",
       "      <td>820084264948</td>\n",
       "      <td>131</td>\n",
       "      <td>4513335</td>\n",
       "      <td>38</td>\n",
       "      <td>NO VIGENTE</td>\n",
       "      <td>CANCELADO</td>\n",
       "      <td>2020-01-02 00:00:00.000</td>\n",
       "      <td>2021-06-07 00:00:00.000</td>\n",
       "      <td>NaN</td>\n",
       "      <td>35000.00</td>\n",
       "      <td>...</td>\n",
       "      <td>0</td>\n",
       "      <td>6482.37</td>\n",
       "      <td>139.99</td>\n",
       "      <td>131</td>\n",
       "      <td>38</td>\n",
       "      <td>2020-01-02 00:00:00.000</td>\n",
       "      <td>2020-02-10 00:00:00.000</td>\n",
       "      <td>2021-01-10 00:00:00.000</td>\n",
       "      <td>NaN</td>\n",
       "      <td>0.0</td>\n",
       "    </tr>\n",
       "    <tr>\n",
       "      <th>1</th>\n",
       "      <td>820084264955</td>\n",
       "      <td>129</td>\n",
       "      <td>2944171</td>\n",
       "      <td>88</td>\n",
       "      <td>NO VIGENTE</td>\n",
       "      <td>CANCELADO</td>\n",
       "      <td>2020-01-02 00:00:00.000</td>\n",
       "      <td>2020-10-06 00:00:00.000</td>\n",
       "      <td>NaN</td>\n",
       "      <td>19500.00</td>\n",
       "      <td>...</td>\n",
       "      <td>0</td>\n",
       "      <td>4964.50</td>\n",
       "      <td>139.99</td>\n",
       "      <td>129</td>\n",
       "      <td>88</td>\n",
       "      <td>2020-01-02 00:00:00.000</td>\n",
       "      <td>2020-02-05 00:00:00.000</td>\n",
       "      <td>2021-07-05 00:00:00.000</td>\n",
       "      <td>NaN</td>\n",
       "      <td>0.0</td>\n",
       "    </tr>\n",
       "    <tr>\n",
       "      <th>2</th>\n",
       "      <td>820084264978</td>\n",
       "      <td>116</td>\n",
       "      <td>2807256</td>\n",
       "      <td>53</td>\n",
       "      <td>NO VIGENTE</td>\n",
       "      <td>CANCELADO</td>\n",
       "      <td>2020-01-02 00:00:00.000</td>\n",
       "      <td>2021-02-02 00:00:00.000</td>\n",
       "      <td>NaN</td>\n",
       "      <td>0.00</td>\n",
       "      <td>...</td>\n",
       "      <td>0</td>\n",
       "      <td>6412.79</td>\n",
       "      <td>89.99</td>\n",
       "      <td>116</td>\n",
       "      <td>53</td>\n",
       "      <td>2020-01-02 00:00:00.000</td>\n",
       "      <td>2020-02-10 00:00:00.000</td>\n",
       "      <td>2021-01-10 00:00:00.000</td>\n",
       "      <td>NaN</td>\n",
       "      <td>0.0</td>\n",
       "    </tr>\n",
       "    <tr>\n",
       "      <th>3</th>\n",
       "      <td>820084265079</td>\n",
       "      <td>110</td>\n",
       "      <td>4426975</td>\n",
       "      <td>142</td>\n",
       "      <td>NO VIGENTE</td>\n",
       "      <td>CANCELADO</td>\n",
       "      <td>2020-01-02 00:00:00.000</td>\n",
       "      <td>2021-02-02 00:00:00.000</td>\n",
       "      <td>NaN</td>\n",
       "      <td>7000.00</td>\n",
       "      <td>...</td>\n",
       "      <td>0</td>\n",
       "      <td>3583.19</td>\n",
       "      <td>104.99</td>\n",
       "      <td>110</td>\n",
       "      <td>142</td>\n",
       "      <td>2020-01-02 00:00:00.000</td>\n",
       "      <td>2020-02-16 00:00:00.000</td>\n",
       "      <td>2021-01-16 00:00:00.000</td>\n",
       "      <td>NaN</td>\n",
       "      <td>0.0</td>\n",
       "    </tr>\n",
       "    <tr>\n",
       "      <th>4</th>\n",
       "      <td>820084265148</td>\n",
       "      <td>31</td>\n",
       "      <td>4634054</td>\n",
       "      <td>54</td>\n",
       "      <td>NO VIGENTE</td>\n",
       "      <td>CANCELADO</td>\n",
       "      <td>2020-01-02 00:00:00.000</td>\n",
       "      <td>2021-01-12 00:00:00.000</td>\n",
       "      <td>NaN</td>\n",
       "      <td>29000.46</td>\n",
       "      <td>...</td>\n",
       "      <td>0</td>\n",
       "      <td>3954.10</td>\n",
       "      <td>99.00</td>\n",
       "      <td>31</td>\n",
       "      <td>54</td>\n",
       "      <td>2020-01-02 00:00:00.000</td>\n",
       "      <td>2020-03-07 00:00:00.000</td>\n",
       "      <td>2021-08-07 00:00:00.000</td>\n",
       "      <td>NaN</td>\n",
       "      <td>0.0</td>\n",
       "    </tr>\n",
       "  </tbody>\n",
       "</table>\n",
       "<p>5 rows × 28 columns</p>\n",
       "</div>"
      ],
      "text/plain": [
       "    NU_PRODUCTO  CD_PRODUCTO  cd_cliente  CD_SUCURSAL_ASIGNADA   \n",
       "0  820084264948          131     4513335                    38  \\\n",
       "1  820084264955          129     2944171                    88   \n",
       "2  820084264978          116     2807256                    53   \n",
       "3  820084265079          110     4426975                   142   \n",
       "4  820084265148           31     4634054                    54   \n",
       "\n",
       "  CD_ESTADO_PRODUCTO CD_SUBESTADO_PRODUCTO                  FC_ALTA   \n",
       "0         NO VIGENTE             CANCELADO  2020-01-02 00:00:00.000  \\\n",
       "1         NO VIGENTE             CANCELADO  2020-01-02 00:00:00.000   \n",
       "2         NO VIGENTE             CANCELADO  2020-01-02 00:00:00.000   \n",
       "3         NO VIGENTE             CANCELADO  2020-01-02 00:00:00.000   \n",
       "4         NO VIGENTE             CANCELADO  2020-01-02 00:00:00.000   \n",
       "\n",
       "            FC_NO_VIGENCIA  VL_DEUDA_TOTAL  VL_EFECTIVO_ENTREGADO  ...   \n",
       "0  2021-06-07 00:00:00.000             NaN               35000.00  ...  \\\n",
       "1  2020-10-06 00:00:00.000             NaN               19500.00  ...   \n",
       "2  2021-02-02 00:00:00.000             NaN                   0.00  ...   \n",
       "3  2021-02-02 00:00:00.000             NaN                7000.00  ...   \n",
       "4  2021-01-12 00:00:00.000             NaN               29000.46  ...   \n",
       "\n",
       "   NU_CUOTAS_EN_MORA  VL_CUOTA  VL_TASA_NOMINAL_ANUAL  CD_PRODUCTO_ORIGINAL   \n",
       "0                  0   6482.37                 139.99                   131  \\\n",
       "1                  0   4964.50                 139.99                   129   \n",
       "2                  0   6412.79                  89.99                   116   \n",
       "3                  0   3583.19                 104.99                   110   \n",
       "4                  0   3954.10                  99.00                    31   \n",
       "\n",
       "   CD_SUCURSAL_VENTA           FC_LIQUIDACION    FC_PRIMER_VENCIMIENTO   \n",
       "0                 38  2020-01-02 00:00:00.000  2020-02-10 00:00:00.000  \\\n",
       "1                 88  2020-01-02 00:00:00.000  2020-02-05 00:00:00.000   \n",
       "2                 53  2020-01-02 00:00:00.000  2020-02-10 00:00:00.000   \n",
       "3                142  2020-01-02 00:00:00.000  2020-02-16 00:00:00.000   \n",
       "4                 54  2020-01-02 00:00:00.000  2020-03-07 00:00:00.000   \n",
       "\n",
       "     FC_ULTIMO_VENCIMIENTO  NU_DIAS_MORA  VL_DEUDA_VENCIDA  \n",
       "0  2021-01-10 00:00:00.000           NaN               0.0  \n",
       "1  2021-07-05 00:00:00.000           NaN               0.0  \n",
       "2  2021-01-10 00:00:00.000           NaN               0.0  \n",
       "3  2021-01-16 00:00:00.000           NaN               0.0  \n",
       "4  2021-08-07 00:00:00.000           NaN               0.0  \n",
       "\n",
       "[5 rows x 28 columns]"
      ]
     },
     "execution_count": 162,
     "metadata": {},
     "output_type": "execute_result"
    }
   ],
   "source": [
    "ruta_comportamiento = 'C:\\VDi Control Gestión (PC Local)\\DS\\Comportamiento_Pago_36.csv'\n",
    "comportamiento = pd.read_csv(ruta_comportamiento, delimiter = ';')\n",
    "comportamiento.head()"
   ]
  },
  {
   "cell_type": "code",
   "execution_count": 202,
   "id": "f386fef3",
   "metadata": {},
   "outputs": [
    {
     "data": {
      "text/plain": [
       "485231"
      ]
     },
     "execution_count": 202,
     "metadata": {},
     "output_type": "execute_result"
    }
   ],
   "source": [
    "comportamiento.shape[0]"
   ]
  },
  {
   "cell_type": "markdown",
   "id": "1277d43d",
   "metadata": {},
   "source": [
    "#### Identificar tipo de Datos del DS:"
   ]
  },
  {
   "cell_type": "code",
   "execution_count": 163,
   "id": "e186766c",
   "metadata": {},
   "outputs": [
    {
     "data": {
      "text/plain": [
       "Index(['NU_PRODUCTO', 'CD_PRODUCTO', 'CD_CLIENTE', 'CD_SUCURSAL_ASIGNADA',\n",
       "       'CD_ESTADO_PRODUCTO', 'CD_SUBESTADO_PRODUCTO', 'FC_ALTA',\n",
       "       'FC_NO_VIGENCIA', 'VL_DEUDA_TOTAL', 'VL_EFECTIVO_ENTREGADO',\n",
       "       'FL_WRITEOFF', 'CD_CAJON_MORA', 'CD_SITUACION_BCRA', 'FL_JUICIO',\n",
       "       'VL_MONTO_MAXIMO_OFRECIDO', 'VL_MONTO_LIQUIDADO', 'NU_CUOTAS',\n",
       "       'NU_CUOTA_PAGADAS', 'NU_CUOTAS_EN_MORA', 'VL_CUOTA',\n",
       "       'VL_TASA_NOMINAL_ANUAL', 'CD_PRODUCTO_ORIGINAL', 'CD_SUCURSAL_VENTA',\n",
       "       'FC_LIQUIDACION', 'FC_PRIMER_VENCIMIENTO', 'FC_ULTIMO_VENCIMIENTO',\n",
       "       'NU_DIAS_MORA', 'VL_DEUDA_VENCIDA'],\n",
       "      dtype='object')"
      ]
     },
     "execution_count": 163,
     "metadata": {},
     "output_type": "execute_result"
    }
   ],
   "source": [
    "comportamiento.columns = comportamiento.columns.str.upper()\n",
    "comportamiento.columns"
   ]
  },
  {
   "cell_type": "code",
   "execution_count": 164,
   "id": "b720c0d8",
   "metadata": {},
   "outputs": [
    {
     "name": "stdout",
     "output_type": "stream",
     "text": [
      "<class 'pandas.core.frame.DataFrame'>\n",
      "RangeIndex: 485231 entries, 0 to 485230\n",
      "Data columns (total 28 columns):\n",
      " #   Column                    Non-Null Count   Dtype  \n",
      "---  ------                    --------------   -----  \n",
      " 0   NU_PRODUCTO               485231 non-null  int64  \n",
      " 1   CD_PRODUCTO               485231 non-null  int64  \n",
      " 2   CD_CLIENTE                485231 non-null  int64  \n",
      " 3   CD_SUCURSAL_ASIGNADA      485231 non-null  int64  \n",
      " 4   CD_ESTADO_PRODUCTO        485231 non-null  object \n",
      " 5   CD_SUBESTADO_PRODUCTO     485231 non-null  object \n",
      " 6   FC_ALTA                   485231 non-null  object \n",
      " 7   FC_NO_VIGENCIA            332737 non-null  object \n",
      " 8   VL_DEUDA_TOTAL            171673 non-null  float64\n",
      " 9   VL_EFECTIVO_ENTREGADO     485231 non-null  float64\n",
      " 10  FL_WRITEOFF               485231 non-null  int64  \n",
      " 11  CD_CAJON_MORA             171673 non-null  float64\n",
      " 12  CD_SITUACION_BCRA         171673 non-null  float64\n",
      " 13  FL_JUICIO                 485231 non-null  int64  \n",
      " 14  VL_MONTO_MAXIMO_OFRECIDO  485231 non-null  float64\n",
      " 15  VL_MONTO_LIQUIDADO        485231 non-null  float64\n",
      " 16  NU_CUOTAS                 485231 non-null  int64  \n",
      " 17  NU_CUOTA_PAGADAS          485231 non-null  int64  \n",
      " 18  NU_CUOTAS_EN_MORA         485231 non-null  int64  \n",
      " 19  VL_CUOTA                  485231 non-null  float64\n",
      " 20  VL_TASA_NOMINAL_ANUAL     485231 non-null  float64\n",
      " 21  CD_PRODUCTO_ORIGINAL      485231 non-null  int64  \n",
      " 22  CD_SUCURSAL_VENTA         485231 non-null  int64  \n",
      " 23  FC_LIQUIDACION            485231 non-null  object \n",
      " 24  FC_PRIMER_VENCIMIENTO     485231 non-null  object \n",
      " 25  FC_ULTIMO_VENCIMIENTO     485231 non-null  object \n",
      " 26  NU_DIAS_MORA              171673 non-null  float64\n",
      " 27  VL_DEUDA_VENCIDA          485231 non-null  float64\n",
      "dtypes: float64(10), int64(11), object(7)\n",
      "memory usage: 103.7+ MB\n"
     ]
    }
   ],
   "source": [
    "comportamiento.info()"
   ]
  },
  {
   "cell_type": "markdown",
   "id": "792ea53c",
   "metadata": {},
   "source": [
    "#### Cantidad de Datos Nulos:"
   ]
  },
  {
   "cell_type": "code",
   "execution_count": 165,
   "id": "16168137",
   "metadata": {},
   "outputs": [
    {
     "data": {
      "text/plain": [
       "NU_PRODUCTO                      0\n",
       "CD_PRODUCTO                      0\n",
       "CD_CLIENTE                       0\n",
       "CD_SUCURSAL_ASIGNADA             0\n",
       "CD_ESTADO_PRODUCTO               0\n",
       "CD_SUBESTADO_PRODUCTO            0\n",
       "FC_ALTA                          0\n",
       "FC_NO_VIGENCIA              152494\n",
       "VL_DEUDA_TOTAL              313558\n",
       "VL_EFECTIVO_ENTREGADO            0\n",
       "FL_WRITEOFF                      0\n",
       "CD_CAJON_MORA               313558\n",
       "CD_SITUACION_BCRA           313558\n",
       "FL_JUICIO                        0\n",
       "VL_MONTO_MAXIMO_OFRECIDO         0\n",
       "VL_MONTO_LIQUIDADO               0\n",
       "NU_CUOTAS                        0\n",
       "NU_CUOTA_PAGADAS                 0\n",
       "NU_CUOTAS_EN_MORA                0\n",
       "VL_CUOTA                         0\n",
       "VL_TASA_NOMINAL_ANUAL            0\n",
       "CD_PRODUCTO_ORIGINAL             0\n",
       "CD_SUCURSAL_VENTA                0\n",
       "FC_LIQUIDACION                   0\n",
       "FC_PRIMER_VENCIMIENTO            0\n",
       "FC_ULTIMO_VENCIMIENTO            0\n",
       "NU_DIAS_MORA                313558\n",
       "VL_DEUDA_VENCIDA                 0\n",
       "dtype: int64"
      ]
     },
     "execution_count": 165,
     "metadata": {},
     "output_type": "execute_result"
    }
   ],
   "source": [
    "nan_comport = comportamiento.isna().sum()\n",
    "nan_comport"
   ]
  },
  {
   "cell_type": "code",
   "execution_count": 166,
   "id": "b8fd08e0",
   "metadata": {},
   "outputs": [
    {
     "data": {
      "text/plain": [
       "CD_SUBESTADO_PRODUCTO\n",
       "AL DIA            74401\n",
       "ANULADO           12270\n",
       "CANCELADO        304005\n",
       "EXTRACONTABLE      2044\n",
       "MORA < 90         14676\n",
       "MORA > 90         53160\n",
       "NO DEFINIDO         724\n",
       "NO LIQUIDADO         69\n",
       "PROBLEMAS          3166\n",
       "VENDIDO              41\n",
       "WRITE OFF         20675\n",
       "dtype: int64"
      ]
     },
     "execution_count": 166,
     "metadata": {},
     "output_type": "execute_result"
    }
   ],
   "source": [
    "comportamiento.groupby('CD_SUBESTADO_PRODUCTO').size()"
   ]
  },
  {
   "cell_type": "markdown",
   "id": "4aa183a6",
   "metadata": {},
   "source": [
    "#### Eliminar Estados Cancelado, Extracontable, No Definido, No Liquidado, Vendido:\n",
    "Para obtener datos actualizados y evitar tener duplicados sobre productos cancelados."
   ]
  },
  {
   "cell_type": "code",
   "execution_count": 167,
   "id": "2a0db5b0",
   "metadata": {},
   "outputs": [
    {
     "data": {
      "text/plain": [
       "CD_SUBESTADO_PRODUCTO\n",
       "AL DIA       74401\n",
       "ANULADO      12270\n",
       "MORA < 90    14676\n",
       "MORA > 90    53160\n",
       "PROBLEMAS     3166\n",
       "WRITE OFF    20675\n",
       "dtype: int64"
      ]
     },
     "execution_count": 167,
     "metadata": {},
     "output_type": "execute_result"
    }
   ],
   "source": [
    "estados_eliminar = [\"CANCELADO\", \"EXTRACONTABLE\", \"NO DEFINIDO\", \"NO LIQUIDADO\", \"VENDIDO\"]\n",
    "comport_filtrado = comportamiento[~comportamiento['CD_SUBESTADO_PRODUCTO'].isin(estados_eliminar)]\n",
    "comport_filtrado.groupby('CD_SUBESTADO_PRODUCTO').size()"
   ]
  },
  {
   "cell_type": "code",
   "execution_count": 169,
   "id": "b00e4865",
   "metadata": {},
   "outputs": [
    {
     "data": {
      "text/plain": [
       "(178348, 28)"
      ]
     },
     "execution_count": 169,
     "metadata": {},
     "output_type": "execute_result"
    }
   ],
   "source": [
    "comport_filtrado.shape"
   ]
  },
  {
   "cell_type": "markdown",
   "id": "349bba17",
   "metadata": {},
   "source": [
    "#### Cantidad de Datos Duplicados:"
   ]
  },
  {
   "cell_type": "code",
   "execution_count": 170,
   "id": "f6e026f8",
   "metadata": {},
   "outputs": [
    {
     "data": {
      "text/plain": [
       "12.90454616816561"
      ]
     },
     "execution_count": 170,
     "metadata": {},
     "output_type": "execute_result"
    }
   ],
   "source": [
    "comport_dup = comport_filtrado['CD_CLIENTE'].duplicated().sum()\n",
    "total_filas = len(comport_filtrado)\n",
    "porc_dup_comport = (comport_dup / total_filas)*100\n",
    "porc_dup_comport"
   ]
  },
  {
   "cell_type": "code",
   "execution_count": 171,
   "id": "7c20e7b6",
   "metadata": {},
   "outputs": [
    {
     "data": {
      "text/html": [
       "<div>\n",
       "<style scoped>\n",
       "    .dataframe tbody tr th:only-of-type {\n",
       "        vertical-align: middle;\n",
       "    }\n",
       "\n",
       "    .dataframe tbody tr th {\n",
       "        vertical-align: top;\n",
       "    }\n",
       "\n",
       "    .dataframe thead th {\n",
       "        text-align: right;\n",
       "    }\n",
       "</style>\n",
       "<table border=\"1\" class=\"dataframe\">\n",
       "  <thead>\n",
       "    <tr style=\"text-align: right;\">\n",
       "      <th></th>\n",
       "      <th>NU_PRODUCTO</th>\n",
       "      <th>CD_PRODUCTO</th>\n",
       "      <th>CD_CLIENTE</th>\n",
       "      <th>CD_SUCURSAL_ASIGNADA</th>\n",
       "      <th>CD_ESTADO_PRODUCTO</th>\n",
       "      <th>CD_SUBESTADO_PRODUCTO</th>\n",
       "      <th>FC_ALTA</th>\n",
       "      <th>FC_NO_VIGENCIA</th>\n",
       "      <th>VL_DEUDA_TOTAL</th>\n",
       "      <th>VL_EFECTIVO_ENTREGADO</th>\n",
       "      <th>...</th>\n",
       "      <th>NU_CUOTAS_EN_MORA</th>\n",
       "      <th>VL_CUOTA</th>\n",
       "      <th>VL_TASA_NOMINAL_ANUAL</th>\n",
       "      <th>CD_PRODUCTO_ORIGINAL</th>\n",
       "      <th>CD_SUCURSAL_VENTA</th>\n",
       "      <th>FC_LIQUIDACION</th>\n",
       "      <th>FC_PRIMER_VENCIMIENTO</th>\n",
       "      <th>FC_ULTIMO_VENCIMIENTO</th>\n",
       "      <th>NU_DIAS_MORA</th>\n",
       "      <th>VL_DEUDA_VENCIDA</th>\n",
       "    </tr>\n",
       "  </thead>\n",
       "  <tbody>\n",
       "    <tr>\n",
       "      <th>16</th>\n",
       "      <td>820084265469</td>\n",
       "      <td>137</td>\n",
       "      <td>200807</td>\n",
       "      <td>38</td>\n",
       "      <td>NO VIGENTE</td>\n",
       "      <td>PROBLEMAS</td>\n",
       "      <td>2020-01-02 00:00:00.000</td>\n",
       "      <td>2021-04-08 00:00:00.000</td>\n",
       "      <td>NaN</td>\n",
       "      <td>0.0</td>\n",
       "      <td>...</td>\n",
       "      <td>0</td>\n",
       "      <td>9974.55</td>\n",
       "      <td>95.99</td>\n",
       "      <td>137</td>\n",
       "      <td>38</td>\n",
       "      <td>2020-01-02 00:00:00.000</td>\n",
       "      <td>2020-02-10 00:00:00.000</td>\n",
       "      <td>2021-07-10 00:00:00.000</td>\n",
       "      <td>NaN</td>\n",
       "      <td>0.00</td>\n",
       "    </tr>\n",
       "    <tr>\n",
       "      <th>17</th>\n",
       "      <td>820084265482</td>\n",
       "      <td>801</td>\n",
       "      <td>915025</td>\n",
       "      <td>38</td>\n",
       "      <td>NO VIGENTE</td>\n",
       "      <td>WRITE OFF</td>\n",
       "      <td>2020-01-02 00:00:00.000</td>\n",
       "      <td>2021-10-01 00:00:00.000</td>\n",
       "      <td>151096.28</td>\n",
       "      <td>50000.0</td>\n",
       "      <td>...</td>\n",
       "      <td>23</td>\n",
       "      <td>6839.94</td>\n",
       "      <td>122.00</td>\n",
       "      <td>102</td>\n",
       "      <td>38</td>\n",
       "      <td>2020-01-02 00:00:00.000</td>\n",
       "      <td>2020-02-10 00:00:00.000</td>\n",
       "      <td>2022-01-10 00:00:00.000</td>\n",
       "      <td>1146.0</td>\n",
       "      <td>14205.24</td>\n",
       "    </tr>\n",
       "    <tr>\n",
       "      <th>22</th>\n",
       "      <td>820084265606</td>\n",
       "      <td>801</td>\n",
       "      <td>4634046</td>\n",
       "      <td>64</td>\n",
       "      <td>NO VIGENTE</td>\n",
       "      <td>WRITE OFF</td>\n",
       "      <td>2020-01-02 00:00:00.000</td>\n",
       "      <td>2022-12-06 00:00:00.000</td>\n",
       "      <td>15820.99</td>\n",
       "      <td>0.0</td>\n",
       "      <td>...</td>\n",
       "      <td>4</td>\n",
       "      <td>4103.72</td>\n",
       "      <td>99.00</td>\n",
       "      <td>31</td>\n",
       "      <td>64</td>\n",
       "      <td>2020-01-02 00:00:00.000</td>\n",
       "      <td>2020-04-01 00:00:00.000</td>\n",
       "      <td>2021-09-01 00:00:00.000</td>\n",
       "      <td>698.0</td>\n",
       "      <td>16414.80</td>\n",
       "    </tr>\n",
       "    <tr>\n",
       "      <th>47</th>\n",
       "      <td>820084266134</td>\n",
       "      <td>801</td>\n",
       "      <td>4634052</td>\n",
       "      <td>64</td>\n",
       "      <td>NO VIGENTE</td>\n",
       "      <td>WRITE OFF</td>\n",
       "      <td>2020-01-02 00:00:00.000</td>\n",
       "      <td>2022-12-06 00:00:00.000</td>\n",
       "      <td>18707.32</td>\n",
       "      <td>0.0</td>\n",
       "      <td>...</td>\n",
       "      <td>4</td>\n",
       "      <td>4852.37</td>\n",
       "      <td>99.00</td>\n",
       "      <td>31</td>\n",
       "      <td>64</td>\n",
       "      <td>2020-01-02 00:00:00.000</td>\n",
       "      <td>2020-04-01 00:00:00.000</td>\n",
       "      <td>2021-09-01 00:00:00.000</td>\n",
       "      <td>698.0</td>\n",
       "      <td>19409.48</td>\n",
       "    </tr>\n",
       "    <tr>\n",
       "      <th>57</th>\n",
       "      <td>820084266385</td>\n",
       "      <td>801</td>\n",
       "      <td>4634071</td>\n",
       "      <td>11</td>\n",
       "      <td>NO VIGENTE</td>\n",
       "      <td>WRITE OFF</td>\n",
       "      <td>2020-01-02 00:00:00.000</td>\n",
       "      <td>2021-09-01 00:00:00.000</td>\n",
       "      <td>8757.84</td>\n",
       "      <td>8000.0</td>\n",
       "      <td>...</td>\n",
       "      <td>12</td>\n",
       "      <td>1607.64</td>\n",
       "      <td>139.99</td>\n",
       "      <td>128</td>\n",
       "      <td>11</td>\n",
       "      <td>2020-01-02 00:00:00.000</td>\n",
       "      <td>2020-02-16 00:00:00.000</td>\n",
       "      <td>2021-01-16 00:00:00.000</td>\n",
       "      <td>1169.0</td>\n",
       "      <td>19395.51</td>\n",
       "    </tr>\n",
       "  </tbody>\n",
       "</table>\n",
       "<p>5 rows × 28 columns</p>\n",
       "</div>"
      ],
      "text/plain": [
       "     NU_PRODUCTO  CD_PRODUCTO  CD_CLIENTE  CD_SUCURSAL_ASIGNADA   \n",
       "16  820084265469          137      200807                    38  \\\n",
       "17  820084265482          801      915025                    38   \n",
       "22  820084265606          801     4634046                    64   \n",
       "47  820084266134          801     4634052                    64   \n",
       "57  820084266385          801     4634071                    11   \n",
       "\n",
       "   CD_ESTADO_PRODUCTO CD_SUBESTADO_PRODUCTO                  FC_ALTA   \n",
       "16         NO VIGENTE             PROBLEMAS  2020-01-02 00:00:00.000  \\\n",
       "17         NO VIGENTE             WRITE OFF  2020-01-02 00:00:00.000   \n",
       "22         NO VIGENTE             WRITE OFF  2020-01-02 00:00:00.000   \n",
       "47         NO VIGENTE             WRITE OFF  2020-01-02 00:00:00.000   \n",
       "57         NO VIGENTE             WRITE OFF  2020-01-02 00:00:00.000   \n",
       "\n",
       "             FC_NO_VIGENCIA  VL_DEUDA_TOTAL  VL_EFECTIVO_ENTREGADO  ...   \n",
       "16  2021-04-08 00:00:00.000             NaN                    0.0  ...  \\\n",
       "17  2021-10-01 00:00:00.000       151096.28                50000.0  ...   \n",
       "22  2022-12-06 00:00:00.000        15820.99                    0.0  ...   \n",
       "47  2022-12-06 00:00:00.000        18707.32                    0.0  ...   \n",
       "57  2021-09-01 00:00:00.000         8757.84                 8000.0  ...   \n",
       "\n",
       "    NU_CUOTAS_EN_MORA  VL_CUOTA  VL_TASA_NOMINAL_ANUAL  CD_PRODUCTO_ORIGINAL   \n",
       "16                  0   9974.55                  95.99                   137  \\\n",
       "17                 23   6839.94                 122.00                   102   \n",
       "22                  4   4103.72                  99.00                    31   \n",
       "47                  4   4852.37                  99.00                    31   \n",
       "57                 12   1607.64                 139.99                   128   \n",
       "\n",
       "    CD_SUCURSAL_VENTA           FC_LIQUIDACION    FC_PRIMER_VENCIMIENTO   \n",
       "16                 38  2020-01-02 00:00:00.000  2020-02-10 00:00:00.000  \\\n",
       "17                 38  2020-01-02 00:00:00.000  2020-02-10 00:00:00.000   \n",
       "22                 64  2020-01-02 00:00:00.000  2020-04-01 00:00:00.000   \n",
       "47                 64  2020-01-02 00:00:00.000  2020-04-01 00:00:00.000   \n",
       "57                 11  2020-01-02 00:00:00.000  2020-02-16 00:00:00.000   \n",
       "\n",
       "      FC_ULTIMO_VENCIMIENTO  NU_DIAS_MORA  VL_DEUDA_VENCIDA  \n",
       "16  2021-07-10 00:00:00.000           NaN              0.00  \n",
       "17  2022-01-10 00:00:00.000        1146.0          14205.24  \n",
       "22  2021-09-01 00:00:00.000         698.0          16414.80  \n",
       "47  2021-09-01 00:00:00.000         698.0          19409.48  \n",
       "57  2021-01-16 00:00:00.000        1169.0          19395.51  \n",
       "\n",
       "[5 rows x 28 columns]"
      ]
     },
     "execution_count": 171,
     "metadata": {},
     "output_type": "execute_result"
    }
   ],
   "source": [
    "comport_unicos = comport_filtrado.drop_duplicates(subset=['CD_CLIENTE'])\n",
    "comport_unicos.head()"
   ]
  },
  {
   "cell_type": "code",
   "execution_count": 172,
   "id": "b493ecaf",
   "metadata": {},
   "outputs": [
    {
     "data": {
      "text/plain": [
       "NU_PRODUCTO                      0\n",
       "CD_PRODUCTO                      0\n",
       "CD_CLIENTE                       0\n",
       "CD_SUCURSAL_ASIGNADA             0\n",
       "CD_ESTADO_PRODUCTO               0\n",
       "CD_SUBESTADO_PRODUCTO            0\n",
       "FC_ALTA                          0\n",
       "FC_NO_VIGENCIA              130414\n",
       "VL_DEUDA_TOTAL               13754\n",
       "VL_EFECTIVO_ENTREGADO            0\n",
       "FL_WRITEOFF                      0\n",
       "CD_CAJON_MORA                13754\n",
       "CD_SITUACION_BCRA            13754\n",
       "FL_JUICIO                        0\n",
       "VL_MONTO_MAXIMO_OFRECIDO         0\n",
       "VL_MONTO_LIQUIDADO               0\n",
       "NU_CUOTAS                        0\n",
       "NU_CUOTA_PAGADAS                 0\n",
       "NU_CUOTAS_EN_MORA                0\n",
       "VL_CUOTA                         0\n",
       "VL_TASA_NOMINAL_ANUAL            0\n",
       "CD_PRODUCTO_ORIGINAL             0\n",
       "CD_SUCURSAL_VENTA                0\n",
       "FC_LIQUIDACION                   0\n",
       "FC_PRIMER_VENCIMIENTO            0\n",
       "FC_ULTIMO_VENCIMIENTO            0\n",
       "NU_DIAS_MORA                 13754\n",
       "VL_DEUDA_VENCIDA                 0\n",
       "dtype: int64"
      ]
     },
     "execution_count": 172,
     "metadata": {},
     "output_type": "execute_result"
    }
   ],
   "source": [
    "comport_unicos.isna().sum()"
   ]
  },
  {
   "cell_type": "code",
   "execution_count": 173,
   "id": "d650be4a",
   "metadata": {},
   "outputs": [
    {
     "data": {
      "text/plain": [
       "Index(['NU_PRODUCTO', 'CD_PRODUCTO', 'CD_CLIENTE', 'CD_SUCURSAL_ASIGNADA',\n",
       "       'CD_ESTADO_PRODUCTO', 'CD_SUBESTADO_PRODUCTO', 'FC_ALTA',\n",
       "       'FC_NO_VIGENCIA', 'VL_DEUDA_TOTAL', 'VL_EFECTIVO_ENTREGADO',\n",
       "       'FL_WRITEOFF', 'CD_CAJON_MORA', 'CD_SITUACION_BCRA', 'FL_JUICIO',\n",
       "       'VL_MONTO_MAXIMO_OFRECIDO', 'VL_MONTO_LIQUIDADO', 'NU_CUOTAS',\n",
       "       'NU_CUOTA_PAGADAS', 'NU_CUOTAS_EN_MORA', 'VL_CUOTA',\n",
       "       'VL_TASA_NOMINAL_ANUAL', 'CD_PRODUCTO_ORIGINAL', 'CD_SUCURSAL_VENTA',\n",
       "       'FC_LIQUIDACION', 'FC_PRIMER_VENCIMIENTO', 'FC_ULTIMO_VENCIMIENTO',\n",
       "       'NU_DIAS_MORA', 'VL_DEUDA_VENCIDA'],\n",
       "      dtype='object')"
      ]
     },
     "execution_count": 173,
     "metadata": {},
     "output_type": "execute_result"
    }
   ],
   "source": [
    "comport_unicos.columns"
   ]
  },
  {
   "cell_type": "code",
   "execution_count": 174,
   "id": "5b4f021c",
   "metadata": {},
   "outputs": [
    {
     "data": {
      "text/plain": [
       "CD_ESTADO_PRODUCTO\n",
       "NO VIGENTE     30862\n",
       "VIGENTE       124471\n",
       "dtype: int64"
      ]
     },
     "execution_count": 174,
     "metadata": {},
     "output_type": "execute_result"
    }
   ],
   "source": [
    "comport_unicos.groupby('CD_ESTADO_PRODUCTO').size()"
   ]
  },
  {
   "cell_type": "code",
   "execution_count": 207,
   "id": "a8a6757c",
   "metadata": {},
   "outputs": [
    {
     "data": {
      "text/plain": [
       "155333"
      ]
     },
     "execution_count": 207,
     "metadata": {},
     "output_type": "execute_result"
    }
   ],
   "source": [
    "comport_unicos.shape[0]"
   ]
  },
  {
   "cell_type": "markdown",
   "id": "7281b04d",
   "metadata": {},
   "source": [
    "### RELACION entre CUOTAS PAGAS y VALOR CUOTA:"
   ]
  },
  {
   "cell_type": "code",
   "execution_count": 206,
   "id": "fefd5f2b",
   "metadata": {},
   "outputs": [
    {
     "data": {
      "image/png": "[encoded data removed]",
      "text/plain": [
       "<Figure size 640x480 with 1 Axes>"
      ]
     },
     "metadata": {},
     "output_type": "display_data"
    }
   ],
   "source": [
    "ax = sns.lineplot(x='NU_CUOTAS_EN_MORA', y='VL_CUOTA', data=comport_unicos, color ='r')\n",
    "plt.xlabel ('Q Cuotas Atrasadas')\n",
    "plt.ylabel ('Valor de Cuota')\n",
    "plt.title ('Valor de Cuotas y Cuotas NO Pagas')\n",
    "plt.show()"
   ]
  },
  {
   "cell_type": "markdown",
   "id": "2fa40ab1",
   "metadata": {},
   "source": [
    "En este Gráfico podemos observar la relación que existe entre el Importe de la cuota y el atraso en el pago. Este gráfico por si solo es \"DIFICIL\" de analizar con estas dos variables, ya que en este caso deberiamos poder asociar otras variables, tales como \"fecha de Alta del crédito\", \"Importe Desembolsado\" y \"tipo de cliente\", ya que difiere el comportamiento si es cliente CONOCIDO a cliente NUEVO, como tambien la fecha, debido a los Importes Maximos a Prestar y la Fecha, por el impacto de las paritarias en los sueldos y la inflación, en el comportamiento de pago del cliente."
   ]
  },
  {
   "cell_type": "code",
   "execution_count": null,
   "id": "055c31ac",
   "metadata": {},
   "outputs": [],
   "source": []
  },
  {
   "cell_type": "markdown",
   "id": "a104a20f",
   "metadata": {},
   "source": [
    "### RELACION entre TASA y CUOTAS PAGAS:"
   ]
  },
  {
   "cell_type": "code",
   "execution_count": 178,
   "id": "fda042d7",
   "metadata": {},
   "outputs": [
    {
     "data": {
      "image/png": "[encoded data removed]",
      "text/plain": [
       "<Figure size 640x480 with 1 Axes>"
      ]
     },
     "metadata": {},
     "output_type": "display_data"
    }
   ],
   "source": [
    "ax = sns.lineplot(x='NU_CUOTA_PAGADAS', y='VL_TASA_NOMINAL_ANUAL', data=comport_unicos, color ='b')\n",
    "plt.xlabel ('Q Cuotas Pagadas')\n",
    "plt.ylabel ('TNA')\n",
    "plt.title ('Tasa de Interes Vs Cuotas SI Pagas')\n",
    "\n",
    "plt.show()"
   ]
  },
  {
   "cell_type": "markdown",
   "id": "f95e1605",
   "metadata": {},
   "source": [
    "En este Gráfico, vemos el impacto de la Tasa de Interes en la cantidad de cuotas pagadas, de la misma manera que en el gráfico anterior, es necesario tener en cuenta otras variables para el analisis, tales como clientes Conocidos (donde la TNA es menor por el riesgo asociado). Las altas tasas estan asociados a clientes Nuevos o identificados de riesgo alto.\n",
    "Dondo tambien impacta el importe de la cuota, el nivel de ingreso y el endeudamiento en el sistema financiero, entre otras variables.\n",
    "Por lo que es necesario para una mejor analisis, incluir una mayor cantidad de variables y poder así identificar las relaciones o correlaciones entre ellas."
   ]
  },
  {
   "cell_type": "code",
   "execution_count": 180,
   "id": "daadeb06",
   "metadata": {},
   "outputs": [
    {
     "data": {
      "image/png": "[encoded data removed]",
      "text/plain": [
       "<Figure size 640x480 with 1 Axes>"
      ]
     },
     "metadata": {},
     "output_type": "display_data"
    }
   ],
   "source": [
    "ax = sns.lineplot(x='NU_CUOTAS_EN_MORA', y='VL_TASA_NOMINAL_ANUAL', data=comport_unicos, color ='b')\n",
    "plt.xlabel ('Q Cuotas NO Pagadas')\n",
    "plt.ylabel ('TNA')\n",
    "plt.title ('Tasa de Interes Vs Cuotas NO Pagas')\n",
    "\n",
    "plt.show()"
   ]
  },
  {
   "cell_type": "markdown",
   "id": "dd2fec4f",
   "metadata": {},
   "source": [
    "En este Gráfico podemos observar un comportamiento esperado, donde a mayor tasa de interes, el pago de las cuotas se va deteriorando. Las altas tasas de interés estan relacionadas directamente con el riesgo del cliente, es decir a más tasa, mayor el riesgo y a la inversa, tambien podemos ver que en el largo plazo, se deteriora el comportamiento de clientes con mejor nivel de riesgo (tasas más bajas). **Consideraciones**:\n",
    "* Debemos analizar más profundamente este gráfico, segmentando Clientes Conocidos de Clientes Nuevos.\n",
    "* Plazo de Financiación y poder tener una relación entre Tasa de Interes y periodo en que se define el No pago de las cuotas."
   ]
  },
  {
   "cell_type": "markdown",
   "id": "1609eb0d",
   "metadata": {},
   "source": [
    "#### Analizar Cada Variable y la información que posee:\n",
    "Eliminar Columnas con información no necesaria"
   ]
  },
  {
   "cell_type": "code",
   "execution_count": 181,
   "id": "5080341b",
   "metadata": {},
   "outputs": [
    {
     "data": {
      "text/html": [
       "<div>\n",
       "<style scoped>\n",
       "    .dataframe tbody tr th:only-of-type {\n",
       "        vertical-align: middle;\n",
       "    }\n",
       "\n",
       "    .dataframe tbody tr th {\n",
       "        vertical-align: top;\n",
       "    }\n",
       "\n",
       "    .dataframe thead th {\n",
       "        text-align: right;\n",
       "    }\n",
       "</style>\n",
       "<table border=\"1\" class=\"dataframe\">\n",
       "  <thead>\n",
       "    <tr style=\"text-align: right;\">\n",
       "      <th></th>\n",
       "      <th>CD_CLIENTE</th>\n",
       "      <th>CD_SUBESTADO_PRODUCTO</th>\n",
       "      <th>CD_CAJON_MORA</th>\n",
       "      <th>VL_MONTO_LIQUIDADO</th>\n",
       "      <th>NU_CUOTAS</th>\n",
       "      <th>NU_CUOTAS_EN_MORA</th>\n",
       "      <th>VL_CUOTA</th>\n",
       "      <th>VL_TASA_NOMINAL_ANUAL</th>\n",
       "      <th>NU_DIAS_MORA</th>\n",
       "      <th>VL_DEUDA_VENCIDA</th>\n",
       "    </tr>\n",
       "  </thead>\n",
       "  <tbody>\n",
       "    <tr>\n",
       "      <th>16</th>\n",
       "      <td>200807</td>\n",
       "      <td>PROBLEMAS</td>\n",
       "      <td>NaN</td>\n",
       "      <td>80525.0</td>\n",
       "      <td>18</td>\n",
       "      <td>0</td>\n",
       "      <td>9974.55</td>\n",
       "      <td>95.99</td>\n",
       "      <td>NaN</td>\n",
       "      <td>0.00</td>\n",
       "    </tr>\n",
       "    <tr>\n",
       "      <th>17</th>\n",
       "      <td>915025</td>\n",
       "      <td>WRITE OFF</td>\n",
       "      <td>22.0</td>\n",
       "      <td>51423.0</td>\n",
       "      <td>24</td>\n",
       "      <td>23</td>\n",
       "      <td>6839.94</td>\n",
       "      <td>122.00</td>\n",
       "      <td>1146.0</td>\n",
       "      <td>14205.24</td>\n",
       "    </tr>\n",
       "    <tr>\n",
       "      <th>22</th>\n",
       "      <td>4634046</td>\n",
       "      <td>WRITE OFF</td>\n",
       "      <td>22.0</td>\n",
       "      <td>29304.0</td>\n",
       "      <td>18</td>\n",
       "      <td>4</td>\n",
       "      <td>4103.72</td>\n",
       "      <td>99.00</td>\n",
       "      <td>698.0</td>\n",
       "      <td>16414.80</td>\n",
       "    </tr>\n",
       "    <tr>\n",
       "      <th>47</th>\n",
       "      <td>4634052</td>\n",
       "      <td>WRITE OFF</td>\n",
       "      <td>22.0</td>\n",
       "      <td>34650.0</td>\n",
       "      <td>18</td>\n",
       "      <td>4</td>\n",
       "      <td>4852.37</td>\n",
       "      <td>99.00</td>\n",
       "      <td>698.0</td>\n",
       "      <td>19409.48</td>\n",
       "    </tr>\n",
       "    <tr>\n",
       "      <th>57</th>\n",
       "      <td>4634071</td>\n",
       "      <td>WRITE OFF</td>\n",
       "      <td>22.0</td>\n",
       "      <td>8654.0</td>\n",
       "      <td>12</td>\n",
       "      <td>12</td>\n",
       "      <td>1607.64</td>\n",
       "      <td>139.99</td>\n",
       "      <td>1169.0</td>\n",
       "      <td>19395.51</td>\n",
       "    </tr>\n",
       "  </tbody>\n",
       "</table>\n",
       "</div>"
      ],
      "text/plain": [
       "    CD_CLIENTE CD_SUBESTADO_PRODUCTO  CD_CAJON_MORA  VL_MONTO_LIQUIDADO   \n",
       "16      200807             PROBLEMAS            NaN             80525.0  \\\n",
       "17      915025             WRITE OFF           22.0             51423.0   \n",
       "22     4634046             WRITE OFF           22.0             29304.0   \n",
       "47     4634052             WRITE OFF           22.0             34650.0   \n",
       "57     4634071             WRITE OFF           22.0              8654.0   \n",
       "\n",
       "    NU_CUOTAS  NU_CUOTAS_EN_MORA  VL_CUOTA  VL_TASA_NOMINAL_ANUAL   \n",
       "16         18                  0   9974.55                  95.99  \\\n",
       "17         24                 23   6839.94                 122.00   \n",
       "22         18                  4   4103.72                  99.00   \n",
       "47         18                  4   4852.37                  99.00   \n",
       "57         12                 12   1607.64                 139.99   \n",
       "\n",
       "    NU_DIAS_MORA  VL_DEUDA_VENCIDA  \n",
       "16           NaN              0.00  \n",
       "17        1146.0          14205.24  \n",
       "22         698.0          16414.80  \n",
       "47         698.0          19409.48  \n",
       "57        1169.0          19395.51  "
      ]
     },
     "execution_count": 181,
     "metadata": {},
     "output_type": "execute_result"
    }
   ],
   "source": [
    "col_eliminar_comport = ['NU_PRODUCTO', 'CD_PRODUCTO', 'CD_SUCURSAL_ASIGNADA',\n",
    "       'CD_ESTADO_PRODUCTO', 'FC_ALTA','FC_NO_VIGENCIA', 'VL_DEUDA_TOTAL', 'VL_EFECTIVO_ENTREGADO',\n",
    "       'FL_WRITEOFF', 'CD_SITUACION_BCRA', 'FL_JUICIO','VL_MONTO_MAXIMO_OFRECIDO', 'NU_CUOTA_PAGADAS', \n",
    "       'CD_PRODUCTO_ORIGINAL', 'CD_SUCURSAL_VENTA',\n",
    "       'FC_LIQUIDACION', 'FC_PRIMER_VENCIMIENTO', 'FC_ULTIMO_VENCIMIENTO']\n",
    "comport_unicos = comport_unicos.drop(col_eliminar_comport, axis=1)\n",
    "comport_unicos.head()"
   ]
  },
  {
   "cell_type": "code",
   "execution_count": 182,
   "id": "f109ef21",
   "metadata": {},
   "outputs": [
    {
     "name": "stdout",
     "output_type": "stream",
     "text": [
      "<class 'pandas.core.frame.DataFrame'>\n",
      "Index: 155333 entries, 16 to 485230\n",
      "Data columns (total 10 columns):\n",
      " #   Column                 Non-Null Count   Dtype  \n",
      "---  ------                 --------------   -----  \n",
      " 0   CD_CLIENTE             155333 non-null  int64  \n",
      " 1   CD_SUBESTADO_PRODUCTO  155333 non-null  object \n",
      " 2   CD_CAJON_MORA          141579 non-null  float64\n",
      " 3   VL_MONTO_LIQUIDADO     155333 non-null  float64\n",
      " 4   NU_CUOTAS              155333 non-null  int64  \n",
      " 5   NU_CUOTAS_EN_MORA      155333 non-null  int64  \n",
      " 6   VL_CUOTA               155333 non-null  float64\n",
      " 7   VL_TASA_NOMINAL_ANUAL  155333 non-null  float64\n",
      " 8   NU_DIAS_MORA           141579 non-null  float64\n",
      " 9   VL_DEUDA_VENCIDA       155333 non-null  float64\n",
      "dtypes: float64(6), int64(3), object(1)\n",
      "memory usage: 13.0+ MB\n"
     ]
    }
   ],
   "source": [
    "comport_unicos.info()"
   ]
  },
  {
   "cell_type": "markdown",
   "id": "40c319b9",
   "metadata": {},
   "source": [
    "### Trabajar Con COLUMNAS:\n",
    "Partiendo desde el Ultimo DS - \"comport_unicos\":\n",
    "* Analizar Información de cada Columna\n",
    "* Aporte de valor al analisis\n",
    "* Información con datos numericos y categoricos\n",
    "* Transformación de datos categoricos\n",
    "    + Tecnicas de One Hot Encoder\n",
    "    + Tecnicas de Label Encoding\n",
    "    + Tecnicas de Ordenamiento Ordinal"
   ]
  },
  {
   "cell_type": "code",
   "execution_count": 183,
   "id": "c1772f19",
   "metadata": {},
   "outputs": [
    {
     "data": {
      "text/plain": [
       "Index(['CD_CLIENTE', 'CD_SUBESTADO_PRODUCTO', 'CD_CAJON_MORA',\n",
       "       'VL_MONTO_LIQUIDADO', 'NU_CUOTAS', 'NU_CUOTAS_EN_MORA', 'VL_CUOTA',\n",
       "       'VL_TASA_NOMINAL_ANUAL', 'NU_DIAS_MORA', 'VL_DEUDA_VENCIDA'],\n",
       "      dtype='object')"
      ]
     },
     "execution_count": 183,
     "metadata": {},
     "output_type": "execute_result"
    }
   ],
   "source": [
    "comport_unicos.columns"
   ]
  },
  {
   "cell_type": "code",
   "execution_count": 184,
   "id": "143d0b9e",
   "metadata": {},
   "outputs": [
    {
     "name": "stdout",
     "output_type": "stream",
     "text": [
      "<class 'pandas.core.frame.DataFrame'>\n",
      "Index: 155333 entries, 16 to 485230\n",
      "Data columns (total 10 columns):\n",
      " #   Column                 Non-Null Count   Dtype  \n",
      "---  ------                 --------------   -----  \n",
      " 0   CD_CLIENTE             155333 non-null  int64  \n",
      " 1   CD_SUBESTADO_PRODUCTO  155333 non-null  object \n",
      " 2   CD_CAJON_MORA          141579 non-null  float64\n",
      " 3   VL_MONTO_LIQUIDADO     155333 non-null  float64\n",
      " 4   NU_CUOTAS              155333 non-null  int64  \n",
      " 5   NU_CUOTAS_EN_MORA      155333 non-null  int64  \n",
      " 6   VL_CUOTA               155333 non-null  float64\n",
      " 7   VL_TASA_NOMINAL_ANUAL  155333 non-null  float64\n",
      " 8   NU_DIAS_MORA           141579 non-null  float64\n",
      " 9   VL_DEUDA_VENCIDA       155333 non-null  float64\n",
      "dtypes: float64(6), int64(3), object(1)\n",
      "memory usage: 13.0+ MB\n"
     ]
    }
   ],
   "source": [
    "comport_unicos.info()"
   ]
  },
  {
   "cell_type": "markdown",
   "id": "489ae6e1",
   "metadata": {},
   "source": [
    "* Variable \"CD_SUBESTADO_PRODUCTO\", continua como objeto, es la variable Dependiente, explicada.\n",
    "* Resto de las Variables son Numericas"
   ]
  },
  {
   "cell_type": "markdown",
   "id": "8172b4ef",
   "metadata": {},
   "source": [
    "#### AGRUPACION: Por Cajon de MORA y Sub Estado:\n",
    "* Porcentaje por Cajon y SubEstado\n"
   ]
  },
  {
   "cell_type": "code",
   "execution_count": 185,
   "id": "bfd9a0d0",
   "metadata": {},
   "outputs": [
    {
     "data": {
      "text/html": [
       "<div>\n",
       "<style scoped>\n",
       "    .dataframe tbody tr th:only-of-type {\n",
       "        vertical-align: middle;\n",
       "    }\n",
       "\n",
       "    .dataframe tbody tr th {\n",
       "        vertical-align: top;\n",
       "    }\n",
       "\n",
       "    .dataframe thead th {\n",
       "        text-align: right;\n",
       "    }\n",
       "</style>\n",
       "<table border=\"1\" class=\"dataframe\">\n",
       "  <thead>\n",
       "    <tr style=\"text-align: right;\">\n",
       "      <th>CD_SUBESTADO_PRODUCTO</th>\n",
       "      <th>AL DIA</th>\n",
       "      <th>ANULADO</th>\n",
       "      <th>MORA &lt; 90</th>\n",
       "      <th>MORA &gt; 90</th>\n",
       "      <th>WRITE OFF</th>\n",
       "    </tr>\n",
       "    <tr>\n",
       "      <th>CD_CAJON_MORA</th>\n",
       "      <th></th>\n",
       "      <th></th>\n",
       "      <th></th>\n",
       "      <th></th>\n",
       "      <th></th>\n",
       "    </tr>\n",
       "  </thead>\n",
       "  <tbody>\n",
       "    <tr>\n",
       "      <th>0.0</th>\n",
       "      <td>98.522759</td>\n",
       "      <td>0.004392</td>\n",
       "      <td>0.458252</td>\n",
       "      <td>1.011669</td>\n",
       "      <td>0.002928</td>\n",
       "    </tr>\n",
       "    <tr>\n",
       "      <th>1.0</th>\n",
       "      <td>0.000000</td>\n",
       "      <td>0.000000</td>\n",
       "      <td>98.904724</td>\n",
       "      <td>1.082080</td>\n",
       "      <td>0.013196</td>\n",
       "    </tr>\n",
       "    <tr>\n",
       "      <th>2.0</th>\n",
       "      <td>0.000000</td>\n",
       "      <td>0.000000</td>\n",
       "      <td>96.640361</td>\n",
       "      <td>3.359639</td>\n",
       "      <td>0.000000</td>\n",
       "    </tr>\n",
       "    <tr>\n",
       "      <th>3.0</th>\n",
       "      <td>0.000000</td>\n",
       "      <td>0.000000</td>\n",
       "      <td>19.995759</td>\n",
       "      <td>79.983036</td>\n",
       "      <td>0.021204</td>\n",
       "    </tr>\n",
       "    <tr>\n",
       "      <th>4.0</th>\n",
       "      <td>0.000000</td>\n",
       "      <td>0.000000</td>\n",
       "      <td>7.161235</td>\n",
       "      <td>92.795883</td>\n",
       "      <td>0.042882</td>\n",
       "    </tr>\n",
       "    <tr>\n",
       "      <th>5.0</th>\n",
       "      <td>0.000000</td>\n",
       "      <td>0.000000</td>\n",
       "      <td>4.402985</td>\n",
       "      <td>95.559701</td>\n",
       "      <td>0.037313</td>\n",
       "    </tr>\n",
       "    <tr>\n",
       "      <th>6.0</th>\n",
       "      <td>0.000000</td>\n",
       "      <td>0.000000</td>\n",
       "      <td>4.776002</td>\n",
       "      <td>95.145056</td>\n",
       "      <td>0.078942</td>\n",
       "    </tr>\n",
       "    <tr>\n",
       "      <th>7.0</th>\n",
       "      <td>0.000000</td>\n",
       "      <td>0.000000</td>\n",
       "      <td>0.000000</td>\n",
       "      <td>99.977802</td>\n",
       "      <td>0.022198</td>\n",
       "    </tr>\n",
       "    <tr>\n",
       "      <th>8.0</th>\n",
       "      <td>0.000000</td>\n",
       "      <td>0.000000</td>\n",
       "      <td>0.000000</td>\n",
       "      <td>99.945340</td>\n",
       "      <td>0.054660</td>\n",
       "    </tr>\n",
       "    <tr>\n",
       "      <th>9.0</th>\n",
       "      <td>0.000000</td>\n",
       "      <td>0.000000</td>\n",
       "      <td>0.000000</td>\n",
       "      <td>99.706458</td>\n",
       "      <td>0.293542</td>\n",
       "    </tr>\n",
       "    <tr>\n",
       "      <th>10.0</th>\n",
       "      <td>0.000000</td>\n",
       "      <td>0.000000</td>\n",
       "      <td>0.000000</td>\n",
       "      <td>99.821535</td>\n",
       "      <td>0.178465</td>\n",
       "    </tr>\n",
       "    <tr>\n",
       "      <th>11.0</th>\n",
       "      <td>0.000000</td>\n",
       "      <td>0.000000</td>\n",
       "      <td>0.000000</td>\n",
       "      <td>99.624765</td>\n",
       "      <td>0.375235</td>\n",
       "    </tr>\n",
       "    <tr>\n",
       "      <th>12.0</th>\n",
       "      <td>0.000000</td>\n",
       "      <td>0.000000</td>\n",
       "      <td>0.000000</td>\n",
       "      <td>99.761621</td>\n",
       "      <td>0.238379</td>\n",
       "    </tr>\n",
       "    <tr>\n",
       "      <th>13.0</th>\n",
       "      <td>0.000000</td>\n",
       "      <td>0.000000</td>\n",
       "      <td>0.000000</td>\n",
       "      <td>99.538664</td>\n",
       "      <td>0.461336</td>\n",
       "    </tr>\n",
       "    <tr>\n",
       "      <th>22.0</th>\n",
       "      <td>0.000000</td>\n",
       "      <td>0.000000</td>\n",
       "      <td>0.000000</td>\n",
       "      <td>0.913534</td>\n",
       "      <td>99.086466</td>\n",
       "    </tr>\n",
       "  </tbody>\n",
       "</table>\n",
       "</div>"
      ],
      "text/plain": [
       "CD_SUBESTADO_PRODUCTO     AL DIA   ANULADO  MORA < 90  MORA > 90  WRITE OFF\n",
       "CD_CAJON_MORA                                                              \n",
       "0.0                    98.522759  0.004392   0.458252   1.011669   0.002928\n",
       "1.0                     0.000000  0.000000  98.904724   1.082080   0.013196\n",
       "2.0                     0.000000  0.000000  96.640361   3.359639   0.000000\n",
       "3.0                     0.000000  0.000000  19.995759  79.983036   0.021204\n",
       "4.0                     0.000000  0.000000   7.161235  92.795883   0.042882\n",
       "5.0                     0.000000  0.000000   4.402985  95.559701   0.037313\n",
       "6.0                     0.000000  0.000000   4.776002  95.145056   0.078942\n",
       "7.0                     0.000000  0.000000   0.000000  99.977802   0.022198\n",
       "8.0                     0.000000  0.000000   0.000000  99.945340   0.054660\n",
       "9.0                     0.000000  0.000000   0.000000  99.706458   0.293542\n",
       "10.0                    0.000000  0.000000   0.000000  99.821535   0.178465\n",
       "11.0                    0.000000  0.000000   0.000000  99.624765   0.375235\n",
       "12.0                    0.000000  0.000000   0.000000  99.761621   0.238379\n",
       "13.0                    0.000000  0.000000   0.000000  99.538664   0.461336\n",
       "22.0                    0.000000  0.000000   0.000000   0.913534  99.086466"
      ]
     },
     "execution_count": 185,
     "metadata": {},
     "output_type": "execute_result"
    }
   ],
   "source": [
    "ag_sub_est = comport_unicos.pivot_table(index='CD_CAJON_MORA', columns='CD_SUBESTADO_PRODUCTO', aggfunc='size', fill_value=0)\n",
    "cant_total = ag_sub_est.sum(axis=1)\n",
    "porc_sub_est = ag_sub_est.div(cant_total, axis=0) * 100\n",
    "porc_sub_est"
   ]
  },
  {
   "cell_type": "code",
   "execution_count": 186,
   "id": "fdc15cc3",
   "metadata": {},
   "outputs": [
    {
     "data": {
      "image/png": "[encoded data removed]",
      "text/plain": [
       "<Figure size 1200x800 with 2 Axes>"
      ]
     },
     "metadata": {},
     "output_type": "display_data"
    }
   ],
   "source": [
    "plt.figure(figsize=(12, 8)) \n",
    "sns.heatmap(porc_sub_est, annot=True, fmt=\".2f\", cmap=\"YlGnBu\")\n",
    "plt.title(\"Subestado de Productos por Cajón de Mora\")\n",
    "plt.xlabel(\"Situacion Cliente\")\n",
    "plt.ylabel(\"Cajon de Mora\")\n",
    "plt.show()"
   ]
  },
  {
   "cell_type": "code",
   "execution_count": 187,
   "id": "209fa198",
   "metadata": {},
   "outputs": [
    {
     "data": {
      "text/html": [
       "<div>\n",
       "<style scoped>\n",
       "    .dataframe tbody tr th:only-of-type {\n",
       "        vertical-align: middle;\n",
       "    }\n",
       "\n",
       "    .dataframe tbody tr th {\n",
       "        vertical-align: top;\n",
       "    }\n",
       "\n",
       "    .dataframe thead th {\n",
       "        text-align: right;\n",
       "    }\n",
       "</style>\n",
       "<table border=\"1\" class=\"dataframe\">\n",
       "  <thead>\n",
       "    <tr style=\"text-align: right;\">\n",
       "      <th>CD_SUBESTADO_PRODUCTO</th>\n",
       "      <th>AL DIA</th>\n",
       "      <th>ANULADO</th>\n",
       "      <th>MORA &lt; 90</th>\n",
       "      <th>MORA &gt; 90</th>\n",
       "      <th>WRITE OFF</th>\n",
       "      <th>TOTAL</th>\n",
       "    </tr>\n",
       "    <tr>\n",
       "      <th>CD_CAJON_MORA</th>\n",
       "      <th></th>\n",
       "      <th></th>\n",
       "      <th></th>\n",
       "      <th></th>\n",
       "      <th></th>\n",
       "      <th></th>\n",
       "    </tr>\n",
       "  </thead>\n",
       "  <tbody>\n",
       "    <tr>\n",
       "      <th>0.0</th>\n",
       "      <td>67294</td>\n",
       "      <td>3</td>\n",
       "      <td>313</td>\n",
       "      <td>691</td>\n",
       "      <td>2</td>\n",
       "      <td>68303</td>\n",
       "    </tr>\n",
       "    <tr>\n",
       "      <th>1.0</th>\n",
       "      <td>0</td>\n",
       "      <td>0</td>\n",
       "      <td>7495</td>\n",
       "      <td>82</td>\n",
       "      <td>1</td>\n",
       "      <td>7578</td>\n",
       "    </tr>\n",
       "    <tr>\n",
       "      <th>2.0</th>\n",
       "      <td>0</td>\n",
       "      <td>0</td>\n",
       "      <td>4286</td>\n",
       "      <td>149</td>\n",
       "      <td>0</td>\n",
       "      <td>4435</td>\n",
       "    </tr>\n",
       "    <tr>\n",
       "      <th>3.0</th>\n",
       "      <td>0</td>\n",
       "      <td>0</td>\n",
       "      <td>943</td>\n",
       "      <td>3772</td>\n",
       "      <td>1</td>\n",
       "      <td>4716</td>\n",
       "    </tr>\n",
       "    <tr>\n",
       "      <th>4.0</th>\n",
       "      <td>0</td>\n",
       "      <td>0</td>\n",
       "      <td>334</td>\n",
       "      <td>4328</td>\n",
       "      <td>2</td>\n",
       "      <td>4664</td>\n",
       "    </tr>\n",
       "    <tr>\n",
       "      <th>5.0</th>\n",
       "      <td>0</td>\n",
       "      <td>0</td>\n",
       "      <td>236</td>\n",
       "      <td>5122</td>\n",
       "      <td>2</td>\n",
       "      <td>5360</td>\n",
       "    </tr>\n",
       "    <tr>\n",
       "      <th>6.0</th>\n",
       "      <td>0</td>\n",
       "      <td>0</td>\n",
       "      <td>242</td>\n",
       "      <td>4821</td>\n",
       "      <td>4</td>\n",
       "      <td>5067</td>\n",
       "    </tr>\n",
       "    <tr>\n",
       "      <th>7.0</th>\n",
       "      <td>0</td>\n",
       "      <td>0</td>\n",
       "      <td>0</td>\n",
       "      <td>4504</td>\n",
       "      <td>1</td>\n",
       "      <td>4505</td>\n",
       "    </tr>\n",
       "    <tr>\n",
       "      <th>8.0</th>\n",
       "      <td>0</td>\n",
       "      <td>0</td>\n",
       "      <td>0</td>\n",
       "      <td>3657</td>\n",
       "      <td>2</td>\n",
       "      <td>3659</td>\n",
       "    </tr>\n",
       "    <tr>\n",
       "      <th>9.0</th>\n",
       "      <td>0</td>\n",
       "      <td>0</td>\n",
       "      <td>0</td>\n",
       "      <td>2038</td>\n",
       "      <td>6</td>\n",
       "      <td>2044</td>\n",
       "    </tr>\n",
       "    <tr>\n",
       "      <th>10.0</th>\n",
       "      <td>0</td>\n",
       "      <td>0</td>\n",
       "      <td>0</td>\n",
       "      <td>1678</td>\n",
       "      <td>3</td>\n",
       "      <td>1681</td>\n",
       "    </tr>\n",
       "    <tr>\n",
       "      <th>11.0</th>\n",
       "      <td>0</td>\n",
       "      <td>0</td>\n",
       "      <td>0</td>\n",
       "      <td>1593</td>\n",
       "      <td>6</td>\n",
       "      <td>1599</td>\n",
       "    </tr>\n",
       "    <tr>\n",
       "      <th>12.0</th>\n",
       "      <td>0</td>\n",
       "      <td>0</td>\n",
       "      <td>0</td>\n",
       "      <td>1674</td>\n",
       "      <td>4</td>\n",
       "      <td>1678</td>\n",
       "    </tr>\n",
       "    <tr>\n",
       "      <th>13.0</th>\n",
       "      <td>0</td>\n",
       "      <td>0</td>\n",
       "      <td>0</td>\n",
       "      <td>9062</td>\n",
       "      <td>42</td>\n",
       "      <td>9104</td>\n",
       "    </tr>\n",
       "    <tr>\n",
       "      <th>22.0</th>\n",
       "      <td>0</td>\n",
       "      <td>0</td>\n",
       "      <td>0</td>\n",
       "      <td>157</td>\n",
       "      <td>17029</td>\n",
       "      <td>17186</td>\n",
       "    </tr>\n",
       "  </tbody>\n",
       "</table>\n",
       "</div>"
      ],
      "text/plain": [
       "CD_SUBESTADO_PRODUCTO  AL DIA  ANULADO  MORA < 90  MORA > 90  WRITE OFF  TOTAL\n",
       "CD_CAJON_MORA                                                                 \n",
       "0.0                     67294        3        313        691          2  68303\n",
       "1.0                         0        0       7495         82          1   7578\n",
       "2.0                         0        0       4286        149          0   4435\n",
       "3.0                         0        0        943       3772          1   4716\n",
       "4.0                         0        0        334       4328          2   4664\n",
       "5.0                         0        0        236       5122          2   5360\n",
       "6.0                         0        0        242       4821          4   5067\n",
       "7.0                         0        0          0       4504          1   4505\n",
       "8.0                         0        0          0       3657          2   3659\n",
       "9.0                         0        0          0       2038          6   2044\n",
       "10.0                        0        0          0       1678          3   1681\n",
       "11.0                        0        0          0       1593          6   1599\n",
       "12.0                        0        0          0       1674          4   1678\n",
       "13.0                        0        0          0       9062         42   9104\n",
       "22.0                        0        0          0        157      17029  17186"
      ]
     },
     "execution_count": 187,
     "metadata": {},
     "output_type": "execute_result"
    }
   ],
   "source": [
    "ag_sub_est_cant= comport_unicos.pivot_table(index='CD_CAJON_MORA', columns='CD_SUBESTADO_PRODUCTO', aggfunc='size', fill_value=0)\n",
    "ag_sub_est_cant ['TOTAL'] = ag_sub_est_cant.sum(axis=1)\n",
    "ag_sub_est_cant"
   ]
  },
  {
   "cell_type": "code",
   "execution_count": 188,
   "id": "69db8893",
   "metadata": {},
   "outputs": [
    {
     "data": {
      "text/plain": [
       "<Figure size 800x400 with 0 Axes>"
      ]
     },
     "metadata": {},
     "output_type": "display_data"
    },
    {
     "data": {
      "image/png": "[encoded data removed]",
      "text/plain": [
       "<Figure size 640x480 with 1 Axes>"
      ]
     },
     "metadata": {},
     "output_type": "display_data"
    }
   ],
   "source": [
    "plt.figure(figsize=(8, 4))\n",
    "ag_sub_est_cant.drop(columns='TOTAL').plot(kind='bar', stacked=True)\n",
    "\n",
    "plt.title('Q por Cajon de Mora y Situacion del Cliente')\n",
    "plt.xlabel('Cajon de Mora')\n",
    "plt.ylabel('Cantidad')\n",
    "\n",
    "plt.show()"
   ]
  },
  {
   "cell_type": "code",
   "execution_count": 189,
   "id": "e63c239b",
   "metadata": {},
   "outputs": [
    {
     "data": {
      "image/png": "[encoded data removed]",
      "text/plain": [
       "<Figure size 640x480 with 1 Axes>"
      ]
     },
     "metadata": {},
     "output_type": "display_data"
    }
   ],
   "source": [
    "x = comport_unicos['CD_CAJON_MORA']\n",
    "y = comport_unicos['CD_SUBESTADO_PRODUCTO']\n",
    "\n",
    "plt.scatter(x, y, alpha=0.7)  # Crea el scatter plot\n",
    "\n",
    "plt.title('Scatter: Cajon de Mora y Q Clientes')\n",
    "plt.xlabel('Cajon de Mora')\n",
    "plt.ylabel('Q Clientes')\n",
    "\n",
    "plt.grid(True)\n",
    "plt.show()"
   ]
  },
  {
   "cell_type": "code",
   "execution_count": null,
   "id": "9009eb3b",
   "metadata": {},
   "outputs": [],
   "source": []
  },
  {
   "cell_type": "markdown",
   "id": "eca1e0bd",
   "metadata": {},
   "source": [
    "#### Trabajar sobre la Variable Dependiente:\n"
   ]
  },
  {
   "cell_type": "code",
   "execution_count": 190,
   "id": "8b36f174",
   "metadata": {},
   "outputs": [
    {
     "data": {
      "text/plain": [
       "CD_SUBESTADO_PRODUCTO\n",
       "AL DIA       67294\n",
       "ANULADO      11140\n",
       "MORA < 90    13849\n",
       "MORA > 90    43328\n",
       "PROBLEMAS     2610\n",
       "WRITE OFF    17112\n",
       "dtype: int64"
      ]
     },
     "execution_count": 190,
     "metadata": {},
     "output_type": "execute_result"
    }
   ],
   "source": [
    "comport_unicos.groupby('CD_SUBESTADO_PRODUCTO').size()"
   ]
  },
  {
   "cell_type": "code",
   "execution_count": 208,
   "id": "63d7464c",
   "metadata": {},
   "outputs": [
    {
     "data": {
      "text/plain": [
       "155333"
      ]
     },
     "execution_count": 208,
     "metadata": {},
     "output_type": "execute_result"
    }
   ],
   "source": [
    "comport_unicos.shape[0]"
   ]
  },
  {
   "cell_type": "code",
   "execution_count": null,
   "id": "2c694068",
   "metadata": {},
   "outputs": [],
   "source": []
  },
  {
   "cell_type": "markdown",
   "id": "0800e1a6",
   "metadata": {},
   "source": [
    "#### Transformar Variables: One Hot Encoder\n",
    "Libreria: \n",
    "* from sklearn.preprocessing import OneHotEncoder"
   ]
  },
  {
   "cell_type": "code",
   "execution_count": 191,
   "id": "d419c58d",
   "metadata": {},
   "outputs": [
    {
     "name": "stdout",
     "output_type": "stream",
     "text": [
      "<class 'pandas.core.frame.DataFrame'>\n",
      "Index: 287786 entries, 16 to 155332\n",
      "Data columns (total 15 columns):\n",
      " #   Column                           Non-Null Count   Dtype  \n",
      "---  ------                           --------------   -----  \n",
      " 0   CD_CLIENTE                       155333 non-null  float64\n",
      " 1   CD_CAJON_MORA                    141579 non-null  float64\n",
      " 2   VL_MONTO_LIQUIDADO               155333 non-null  float64\n",
      " 3   NU_CUOTAS                        155333 non-null  float64\n",
      " 4   NU_CUOTAS_EN_MORA                155333 non-null  float64\n",
      " 5   VL_CUOTA                         155333 non-null  float64\n",
      " 6   VL_TASA_NOMINAL_ANUAL            155333 non-null  float64\n",
      " 7   NU_DIAS_MORA                     141579 non-null  float64\n",
      " 8   VL_DEUDA_VENCIDA                 155333 non-null  float64\n",
      " 9   CD_SUBESTADO_PRODUCTO_AL DIA     155333 non-null  float64\n",
      " 10  CD_SUBESTADO_PRODUCTO_ANULADO    155333 non-null  float64\n",
      " 11  CD_SUBESTADO_PRODUCTO_MORA < 90  155333 non-null  float64\n",
      " 12  CD_SUBESTADO_PRODUCTO_MORA > 90  155333 non-null  float64\n",
      " 13  CD_SUBESTADO_PRODUCTO_PROBLEMAS  155333 non-null  float64\n",
      " 14  CD_SUBESTADO_PRODUCTO_WRITE OFF  155333 non-null  float64\n",
      "dtypes: float64(15)\n",
      "memory usage: 35.1 MB\n"
     ]
    },
    {
     "name": "stderr",
     "output_type": "stream",
     "text": [
      "C:\\Users\\juand\\AppData\\Local\\Programs\\Python\\Python311\\Lib\\site-packages\\sklearn\\preprocessing\\_encoders.py:868: FutureWarning: `sparse` was renamed to `sparse_output` in version 1.2 and will be removed in 1.4. `sparse_output` is ignored unless you leave `sparse` to its default value.\n",
      "  warnings.warn(\n"
     ]
    }
   ],
   "source": [
    "encoder = OneHotEncoder(sparse=False)\n",
    "encoded_data = encoder.fit_transform(comport_unicos[['CD_SUBESTADO_PRODUCTO']])\n",
    "\n",
    "encoded_df = pd.DataFrame(encoded_data, columns=encoder.get_feature_names_out(['CD_SUBESTADO_PRODUCTO']))\n",
    "comport_unicos_encoded = pd.concat([comport_unicos, encoded_df], axis=1)\n",
    "\n",
    "comport_unicos_encoded.drop(columns=['CD_SUBESTADO_PRODUCTO'], inplace=True)\n",
    "\n",
    "comport_unicos_encoded.info()"
   ]
  },
  {
   "cell_type": "markdown",
   "id": "83481217",
   "metadata": {},
   "source": [
    "-------------------------------------------------------------------------------------------------------------------------------"
   ]
  },
  {
   "cell_type": "markdown",
   "id": "2f3d2ca4",
   "metadata": {},
   "source": [
    "### UNION de los Ambos Data Set:\n",
    "* Comportamiento de Pago: comport_unicos_encoded\n",
    "* Solicitudes: encoded_new_solic"
   ]
  },
  {
   "cell_type": "markdown",
   "id": "ce19f266",
   "metadata": {},
   "source": [
    "#### Eliminar Duplicados"
   ]
  },
  {
   "cell_type": "code",
   "execution_count": 192,
   "id": "0095d95a",
   "metadata": {},
   "outputs": [],
   "source": [
    "comport_unicos_encoded = comport_unicos_encoded.drop_duplicates(subset='CD_CLIENTE')\n",
    "encoded_new_solic = encoded_new_solic.drop_duplicates(subset='CD_CLIENTE')"
   ]
  },
  {
   "cell_type": "markdown",
   "id": "fbeeb4e8",
   "metadata": {},
   "source": [
    "#### Concatenar:"
   ]
  },
  {
   "cell_type": "code",
   "execution_count": 193,
   "id": "48bfb0ea",
   "metadata": {},
   "outputs": [
    {
     "name": "stdout",
     "output_type": "stream",
     "text": [
      "<class 'pandas.core.frame.DataFrame'>\n",
      "RangeIndex: 100888 entries, 0 to 100887\n",
      "Data columns (total 66 columns):\n",
      " #   Column                                            Non-Null Count   Dtype  \n",
      "---  ------                                            --------------   -----  \n",
      " 0   CD_CLIENTE                                        100887 non-null  float64\n",
      " 1   CD_CAJON_MORA                                     95469 non-null   float64\n",
      " 2   VL_MONTO_LIQUIDADO                                100887 non-null  float64\n",
      " 3   NU_CUOTAS                                         100887 non-null  float64\n",
      " 4   NU_CUOTAS_EN_MORA                                 100887 non-null  float64\n",
      " 5   VL_CUOTA                                          100887 non-null  float64\n",
      " 6   VL_TASA_NOMINAL_ANUAL                             100887 non-null  float64\n",
      " 7   NU_DIAS_MORA                                      95469 non-null   float64\n",
      " 8   VL_DEUDA_VENCIDA                                  100887 non-null  float64\n",
      " 9   CD_SUBESTADO_PRODUCTO_AL DIA                      4033 non-null    float64\n",
      " 10  CD_SUBESTADO_PRODUCTO_ANULADO                     4033 non-null    float64\n",
      " 11  CD_SUBESTADO_PRODUCTO_MORA < 90                   4033 non-null    float64\n",
      " 12  CD_SUBESTADO_PRODUCTO_MORA > 90                   4033 non-null    float64\n",
      " 13  CD_SUBESTADO_PRODUCTO_PROBLEMAS                   4033 non-null    float64\n",
      " 14  CD_SUBESTADO_PRODUCTO_WRITE OFF                   4033 non-null    float64\n",
      " 15  NU_EDAD                                           100887 non-null  float64\n",
      " 16  NU_ANTIGUEDAD_LABORAL                             100546 non-null  float64\n",
      " 17  TX_ESTADO_EVALUACION_DWH                          100888 non-null  float64\n",
      " 18  VL_SCORE_NOSIS                                    92542 non-null   float64\n",
      " 19  VL_SCORE_VERAZ                                    92398 non-null   float64\n",
      " 20  VL_DESEMBOLSADO                                   55955 non-null   float64\n",
      " 21  VL_CUOTA                                          55955 non-null   float64\n",
      " 22  TX_SEXO_FEMENINO                                  32890 non-null   float64\n",
      " 23  TX_SEXO_MASCULINO                                 32890 non-null   float64\n",
      " 24  TX_SEXO_nan                                       32890 non-null   float64\n",
      " 25  TX_ESTADO_CIVIL_CASADO                            32890 non-null   float64\n",
      " 26  TX_ESTADO_CIVIL_CASADO/A                          32890 non-null   float64\n",
      " 27  TX_ESTADO_CIVIL_DIVORCIADO                        32890 non-null   float64\n",
      " 28  TX_ESTADO_CIVIL_DIVORCIADO/A                      32890 non-null   float64\n",
      " 29  TX_ESTADO_CIVIL_OTRO                              32890 non-null   float64\n",
      " 30  TX_ESTADO_CIVIL_OTROS                             32890 non-null   float64\n",
      " 31  TX_ESTADO_CIVIL_SEPARADO                          32890 non-null   float64\n",
      " 32  TX_ESTADO_CIVIL_SEPARADO/A                        32890 non-null   float64\n",
      " 33  TX_ESTADO_CIVIL_SOLTERO                           32890 non-null   float64\n",
      " 34  TX_ESTADO_CIVIL_SOLTERO/A                         32890 non-null   float64\n",
      " 35  TX_ESTADO_CIVIL_VIUDO                             32890 non-null   float64\n",
      " 36  TX_ESTADO_CIVIL_VIUDO/A                           32890 non-null   float64\n",
      " 37  TX_ESTADO_CIVIL_nan                               32890 non-null   float64\n",
      " 38  TX_TIPO_CLIENTE_CONOCIDO                          32890 non-null   float64\n",
      " 39  TX_TIPO_CLIENTE_EXISTENTE                         32890 non-null   float64\n",
      " 40  TX_TIPO_CLIENTE_NUEVO                             32890 non-null   float64\n",
      " 41  TX_CANAL_ORIGINAL_API                             32890 non-null   float64\n",
      " 42  TX_CANAL_ORIGINAL_COBRANZAS Y SERVICIOS           32890 non-null   float64\n",
      " 43  TX_CANAL_ORIGINAL_COMPA#IA FINANCIERA ARG.        32890 non-null   float64\n",
      " 44  TX_CANAL_ORIGINAL_ENTIDADES INTERMEDIAS           32890 non-null   float64\n",
      " 45  TX_CANAL_ORIGINAL_MUT.REFINANCIACIONES            32890 non-null   float64\n",
      " 46  TX_CANAL_ORIGINAL_MUTUALES                        32890 non-null   float64\n",
      " 47  TX_CANAL_ORIGINAL_SAC                             32890 non-null   float64\n",
      " 48  TX_CANAL_ORIGINAL_SAC CBU                         32890 non-null   float64\n",
      " 49  TX_CANAL_ORIGINAL_SUCURSAL                        32890 non-null   float64\n",
      " 50  TX_CANAL_ORIGINAL_SUCURSAL                        32890 non-null   float64\n",
      " 51  TX_CANAL_ORIGINAL_TELEFONICO                      32890 non-null   float64\n",
      " 52  TX_CANAL_ORIGINAL_TELEMARKETING                   32890 non-null   float64\n",
      " 53  TX_CANAL_ORIGINAL_TELEMARKETING                   32890 non-null   float64\n",
      " 54  TX_CANAL_ORIGINAL_TLMK CBU                        32890 non-null   float64\n",
      " 55  TX_CANAL_ORIGINAL_WEB                             32890 non-null   float64\n",
      " 56  TX_CANAL_ORIGINAL_WHATSAPP                        32890 non-null   float64\n",
      " 57  VL_INGRESO_NOSIS_A                                32890 non-null   float64\n",
      " 58  VL_INGRESO_NOSIS_B                                32890 non-null   float64\n",
      " 59  VL_INGRESO_NOSIS_C1                               32890 non-null   float64\n",
      " 60  VL_INGRESO_NOSIS_C2                               32890 non-null   float64\n",
      " 61  VL_INGRESO_NOSIS_C3                               32890 non-null   float64\n",
      " 62  VL_INGRESO_NOSIS_D1                               32890 non-null   float64\n",
      " 63  VL_INGRESO_NOSIS_D2                               32890 non-null   float64\n",
      " 64  VL_INGRESO_NOSIS_NC                               32890 non-null   float64\n",
      " 65  VL_INGRESO_NOSIS_nan                              32890 non-null   float64\n",
      "dtypes: float64(66)\n",
      "memory usage: 50.8 MB\n"
     ]
    }
   ],
   "source": [
    "concat_df = pd.concat([comport_unicos_encoded.set_index('CD_CLIENTE'), \n",
    "                             encoded_new_solic.set_index('CD_CLIENTE')], axis=1, join='inner')\n",
    "concat_df.reset_index(inplace=True)\n",
    "concat_df.info()"
   ]
  },
  {
   "cell_type": "markdown",
   "id": "e36c6282",
   "metadata": {},
   "source": [
    "#### RESULTADO:\n",
    "Data Set 'concat_df' preparado:\n",
    "* Sin Variables Categoricas\n",
    "* Transformado con Método \"One Hot Encoder\"\n",
    "* Transformado con Método \"Label Encoder\"\n",
    "* Contatenado de ambos Data Set."
   ]
  },
  {
   "cell_type": "markdown",
   "id": "d203439a",
   "metadata": {},
   "source": [
    "-------------------------------------------------------------------------------------------------------------------------------"
   ]
  },
  {
   "cell_type": "markdown",
   "id": "43c37fd0",
   "metadata": {},
   "source": [
    "# INICIO Analisis del DS que contiene la Información Completa:\n",
    "En este DS vamos a Eliminar la Columna CD_CLIENTE (luego de haber realizado la Concatenación NO es necesario mantener esta variable que NO aporta información para analisis)"
   ]
  },
  {
   "cell_type": "code",
   "execution_count": 194,
   "id": "1e2b01e2",
   "metadata": {},
   "outputs": [],
   "source": [
    "col_eliminar_concat = ['CD_CLIENTE']\n",
    "concat_df = concat_df.drop(col_eliminar_concat, axis=1)"
   ]
  },
  {
   "cell_type": "code",
   "execution_count": 195,
   "id": "d152c7ae",
   "metadata": {},
   "outputs": [
    {
     "name": "stdout",
     "output_type": "stream",
     "text": [
      "<class 'pandas.core.frame.DataFrame'>\n",
      "RangeIndex: 100888 entries, 0 to 100887\n",
      "Data columns (total 65 columns):\n",
      " #   Column                                            Non-Null Count   Dtype  \n",
      "---  ------                                            --------------   -----  \n",
      " 0   CD_CAJON_MORA                                     95469 non-null   float64\n",
      " 1   VL_MONTO_LIQUIDADO                                100887 non-null  float64\n",
      " 2   NU_CUOTAS                                         100887 non-null  float64\n",
      " 3   NU_CUOTAS_EN_MORA                                 100887 non-null  float64\n",
      " 4   VL_CUOTA                                          100887 non-null  float64\n",
      " 5   VL_TASA_NOMINAL_ANUAL                             100887 non-null  float64\n",
      " 6   NU_DIAS_MORA                                      95469 non-null   float64\n",
      " 7   VL_DEUDA_VENCIDA                                  100887 non-null  float64\n",
      " 8   CD_SUBESTADO_PRODUCTO_AL DIA                      4033 non-null    float64\n",
      " 9   CD_SUBESTADO_PRODUCTO_ANULADO                     4033 non-null    float64\n",
      " 10  CD_SUBESTADO_PRODUCTO_MORA < 90                   4033 non-null    float64\n",
      " 11  CD_SUBESTADO_PRODUCTO_MORA > 90                   4033 non-null    float64\n",
      " 12  CD_SUBESTADO_PRODUCTO_PROBLEMAS                   4033 non-null    float64\n",
      " 13  CD_SUBESTADO_PRODUCTO_WRITE OFF                   4033 non-null    float64\n",
      " 14  NU_EDAD                                           100887 non-null  float64\n",
      " 15  NU_ANTIGUEDAD_LABORAL                             100546 non-null  float64\n",
      " 16  TX_ESTADO_EVALUACION_DWH                          100888 non-null  float64\n",
      " 17  VL_SCORE_NOSIS                                    92542 non-null   float64\n",
      " 18  VL_SCORE_VERAZ                                    92398 non-null   float64\n",
      " 19  VL_DESEMBOLSADO                                   55955 non-null   float64\n",
      " 20  VL_CUOTA                                          55955 non-null   float64\n",
      " 21  TX_SEXO_FEMENINO                                  32890 non-null   float64\n",
      " 22  TX_SEXO_MASCULINO                                 32890 non-null   float64\n",
      " 23  TX_SEXO_nan                                       32890 non-null   float64\n",
      " 24  TX_ESTADO_CIVIL_CASADO                            32890 non-null   float64\n",
      " 25  TX_ESTADO_CIVIL_CASADO/A                          32890 non-null   float64\n",
      " 26  TX_ESTADO_CIVIL_DIVORCIADO                        32890 non-null   float64\n",
      " 27  TX_ESTADO_CIVIL_DIVORCIADO/A                      32890 non-null   float64\n",
      " 28  TX_ESTADO_CIVIL_OTRO                              32890 non-null   float64\n",
      " 29  TX_ESTADO_CIVIL_OTROS                             32890 non-null   float64\n",
      " 30  TX_ESTADO_CIVIL_SEPARADO                          32890 non-null   float64\n",
      " 31  TX_ESTADO_CIVIL_SEPARADO/A                        32890 non-null   float64\n",
      " 32  TX_ESTADO_CIVIL_SOLTERO                           32890 non-null   float64\n",
      " 33  TX_ESTADO_CIVIL_SOLTERO/A                         32890 non-null   float64\n",
      " 34  TX_ESTADO_CIVIL_VIUDO                             32890 non-null   float64\n",
      " 35  TX_ESTADO_CIVIL_VIUDO/A                           32890 non-null   float64\n",
      " 36  TX_ESTADO_CIVIL_nan                               32890 non-null   float64\n",
      " 37  TX_TIPO_CLIENTE_CONOCIDO                          32890 non-null   float64\n",
      " 38  TX_TIPO_CLIENTE_EXISTENTE                         32890 non-null   float64\n",
      " 39  TX_TIPO_CLIENTE_NUEVO                             32890 non-null   float64\n",
      " 40  TX_CANAL_ORIGINAL_API                             32890 non-null   float64\n",
      " 41  TX_CANAL_ORIGINAL_COBRANZAS Y SERVICIOS           32890 non-null   float64\n",
      " 42  TX_CANAL_ORIGINAL_COMPA#IA FINANCIERA ARG.        32890 non-null   float64\n",
      " 43  TX_CANAL_ORIGINAL_ENTIDADES INTERMEDIAS           32890 non-null   float64\n",
      " 44  TX_CANAL_ORIGINAL_MUT.REFINANCIACIONES            32890 non-null   float64\n",
      " 45  TX_CANAL_ORIGINAL_MUTUALES                        32890 non-null   float64\n",
      " 46  TX_CANAL_ORIGINAL_SAC                             32890 non-null   float64\n",
      " 47  TX_CANAL_ORIGINAL_SAC CBU                         32890 non-null   float64\n",
      " 48  TX_CANAL_ORIGINAL_SUCURSAL                        32890 non-null   float64\n",
      " 49  TX_CANAL_ORIGINAL_SUCURSAL                        32890 non-null   float64\n",
      " 50  TX_CANAL_ORIGINAL_TELEFONICO                      32890 non-null   float64\n",
      " 51  TX_CANAL_ORIGINAL_TELEMARKETING                   32890 non-null   float64\n",
      " 52  TX_CANAL_ORIGINAL_TELEMARKETING                   32890 non-null   float64\n",
      " 53  TX_CANAL_ORIGINAL_TLMK CBU                        32890 non-null   float64\n",
      " 54  TX_CANAL_ORIGINAL_WEB                             32890 non-null   float64\n",
      " 55  TX_CANAL_ORIGINAL_WHATSAPP                        32890 non-null   float64\n",
      " 56  VL_INGRESO_NOSIS_A                                32890 non-null   float64\n",
      " 57  VL_INGRESO_NOSIS_B                                32890 non-null   float64\n",
      " 58  VL_INGRESO_NOSIS_C1                               32890 non-null   float64\n",
      " 59  VL_INGRESO_NOSIS_C2                               32890 non-null   float64\n",
      " 60  VL_INGRESO_NOSIS_C3                               32890 non-null   float64\n",
      " 61  VL_INGRESO_NOSIS_D1                               32890 non-null   float64\n",
      " 62  VL_INGRESO_NOSIS_D2                               32890 non-null   float64\n",
      " 63  VL_INGRESO_NOSIS_NC                               32890 non-null   float64\n",
      " 64  VL_INGRESO_NOSIS_nan                              32890 non-null   float64\n",
      "dtypes: float64(65)\n",
      "memory usage: 50.0 MB\n"
     ]
    }
   ],
   "source": [
    "concat_df.info()"
   ]
  },
  {
   "cell_type": "code",
   "execution_count": 196,
   "id": "12ec4794",
   "metadata": {},
   "outputs": [
    {
     "data": {
      "text/plain": [
       "Index(['CD_CAJON_MORA', 'VL_MONTO_LIQUIDADO', 'NU_CUOTAS', 'NU_CUOTAS_EN_MORA',\n",
       "       'VL_CUOTA', 'VL_TASA_NOMINAL_ANUAL', 'NU_DIAS_MORA', 'VL_DEUDA_VENCIDA',\n",
       "       'CD_SUBESTADO_PRODUCTO_AL DIA', 'CD_SUBESTADO_PRODUCTO_ANULADO',\n",
       "       'CD_SUBESTADO_PRODUCTO_MORA < 90', 'CD_SUBESTADO_PRODUCTO_MORA > 90',\n",
       "       'CD_SUBESTADO_PRODUCTO_PROBLEMAS', 'CD_SUBESTADO_PRODUCTO_WRITE OFF',\n",
       "       'NU_EDAD', 'NU_ANTIGUEDAD_LABORAL', 'TX_ESTADO_EVALUACION_DWH',\n",
       "       'VL_SCORE_NOSIS', 'VL_SCORE_VERAZ', 'VL_DESEMBOLSADO', 'VL_CUOTA',\n",
       "       'TX_SEXO_FEMENINO', 'TX_SEXO_MASCULINO', 'TX_SEXO_nan',\n",
       "       'TX_ESTADO_CIVIL_CASADO              ', 'TX_ESTADO_CIVIL_CASADO/A',\n",
       "       'TX_ESTADO_CIVIL_DIVORCIADO          ', 'TX_ESTADO_CIVIL_DIVORCIADO/A',\n",
       "       'TX_ESTADO_CIVIL_OTRO', 'TX_ESTADO_CIVIL_OTROS               ',\n",
       "       'TX_ESTADO_CIVIL_SEPARADO            ', 'TX_ESTADO_CIVIL_SEPARADO/A',\n",
       "       'TX_ESTADO_CIVIL_SOLTERO             ', 'TX_ESTADO_CIVIL_SOLTERO/A',\n",
       "       'TX_ESTADO_CIVIL_VIUDO               ', 'TX_ESTADO_CIVIL_VIUDO/A',\n",
       "       'TX_ESTADO_CIVIL_nan', 'TX_TIPO_CLIENTE_CONOCIDO',\n",
       "       'TX_TIPO_CLIENTE_EXISTENTE', 'TX_TIPO_CLIENTE_NUEVO',\n",
       "       'TX_CANAL_ORIGINAL_API',\n",
       "       'TX_CANAL_ORIGINAL_COBRANZAS Y SERVICIOS         ',\n",
       "       'TX_CANAL_ORIGINAL_COMPA#IA FINANCIERA ARG.      ',\n",
       "       'TX_CANAL_ORIGINAL_ENTIDADES INTERMEDIAS         ',\n",
       "       'TX_CANAL_ORIGINAL_MUT.REFINANCIACIONES          ',\n",
       "       'TX_CANAL_ORIGINAL_MUTUALES                      ',\n",
       "       'TX_CANAL_ORIGINAL_SAC', 'TX_CANAL_ORIGINAL_SAC CBU',\n",
       "       'TX_CANAL_ORIGINAL_SUCURSAL',\n",
       "       'TX_CANAL_ORIGINAL_SUCURSAL                      ',\n",
       "       'TX_CANAL_ORIGINAL_TELEFONICO', 'TX_CANAL_ORIGINAL_TELEMARKETING',\n",
       "       'TX_CANAL_ORIGINAL_TELEMARKETING                 ',\n",
       "       'TX_CANAL_ORIGINAL_TLMK CBU', 'TX_CANAL_ORIGINAL_WEB',\n",
       "       'TX_CANAL_ORIGINAL_WHATSAPP', 'VL_INGRESO_NOSIS_A',\n",
       "       'VL_INGRESO_NOSIS_B', 'VL_INGRESO_NOSIS_C1', 'VL_INGRESO_NOSIS_C2',\n",
       "       'VL_INGRESO_NOSIS_C3', 'VL_INGRESO_NOSIS_D1', 'VL_INGRESO_NOSIS_D2',\n",
       "       'VL_INGRESO_NOSIS_NC', 'VL_INGRESO_NOSIS_nan'],\n",
       "      dtype='object')"
      ]
     },
     "execution_count": 196,
     "metadata": {},
     "output_type": "execute_result"
    }
   ],
   "source": [
    "concat_df.columns"
   ]
  },
  {
   "cell_type": "code",
   "execution_count": 209,
   "id": "f5268d64",
   "metadata": {},
   "outputs": [
    {
     "data": {
      "text/plain": [
       "100888"
      ]
     },
     "execution_count": 209,
     "metadata": {},
     "output_type": "execute_result"
    }
   ],
   "source": [
    "concat_df.shape[0]"
   ]
  },
  {
   "cell_type": "markdown",
   "id": "9b04eebd",
   "metadata": {},
   "source": [
    "## Analisis del DS:"
   ]
  },
  {
   "cell_type": "markdown",
   "id": "b809623c",
   "metadata": {},
   "source": [
    "#### Completar los NaN:"
   ]
  },
  {
   "cell_type": "code",
   "execution_count": 197,
   "id": "1bd3d88b",
   "metadata": {},
   "outputs": [],
   "source": [
    "concat_completo = concat_df.fillna(0)"
   ]
  },
  {
   "cell_type": "code",
   "execution_count": 198,
   "id": "e814deea",
   "metadata": {},
   "outputs": [
    {
     "data": {
      "text/html": [
       "<div>\n",
       "<style scoped>\n",
       "    .dataframe tbody tr th:only-of-type {\n",
       "        vertical-align: middle;\n",
       "    }\n",
       "\n",
       "    .dataframe tbody tr th {\n",
       "        vertical-align: top;\n",
       "    }\n",
       "\n",
       "    .dataframe thead th {\n",
       "        text-align: right;\n",
       "    }\n",
       "</style>\n",
       "<table border=\"1\" class=\"dataframe\">\n",
       "  <thead>\n",
       "    <tr style=\"text-align: right;\">\n",
       "      <th></th>\n",
       "      <th>CD_CAJON_MORA</th>\n",
       "      <th>VL_MONTO_LIQUIDADO</th>\n",
       "      <th>NU_CUOTAS</th>\n",
       "      <th>NU_CUOTAS_EN_MORA</th>\n",
       "      <th>VL_CUOTA</th>\n",
       "      <th>VL_TASA_NOMINAL_ANUAL</th>\n",
       "      <th>NU_DIAS_MORA</th>\n",
       "      <th>VL_DEUDA_VENCIDA</th>\n",
       "      <th>CD_SUBESTADO_PRODUCTO_AL DIA</th>\n",
       "      <th>CD_SUBESTADO_PRODUCTO_ANULADO</th>\n",
       "      <th>...</th>\n",
       "      <th>TX_CANAL_ORIGINAL_WHATSAPP</th>\n",
       "      <th>VL_INGRESO_NOSIS_A</th>\n",
       "      <th>VL_INGRESO_NOSIS_B</th>\n",
       "      <th>VL_INGRESO_NOSIS_C1</th>\n",
       "      <th>VL_INGRESO_NOSIS_C2</th>\n",
       "      <th>VL_INGRESO_NOSIS_C3</th>\n",
       "      <th>VL_INGRESO_NOSIS_D1</th>\n",
       "      <th>VL_INGRESO_NOSIS_D2</th>\n",
       "      <th>VL_INGRESO_NOSIS_NC</th>\n",
       "      <th>VL_INGRESO_NOSIS_nan</th>\n",
       "    </tr>\n",
       "  </thead>\n",
       "  <tbody>\n",
       "    <tr>\n",
       "      <th>0</th>\n",
       "      <td>0.0</td>\n",
       "      <td>81294.00</td>\n",
       "      <td>13.0</td>\n",
       "      <td>0.0</td>\n",
       "      <td>11437.20</td>\n",
       "      <td>95.99</td>\n",
       "      <td>0.0</td>\n",
       "      <td>0.00</td>\n",
       "      <td>0.0</td>\n",
       "      <td>0.0</td>\n",
       "      <td>...</td>\n",
       "      <td>0.0</td>\n",
       "      <td>0.0</td>\n",
       "      <td>0.0</td>\n",
       "      <td>0.0</td>\n",
       "      <td>0.0</td>\n",
       "      <td>0.0</td>\n",
       "      <td>0.0</td>\n",
       "      <td>0.0</td>\n",
       "      <td>0.0</td>\n",
       "      <td>0.0</td>\n",
       "    </tr>\n",
       "    <tr>\n",
       "      <th>1</th>\n",
       "      <td>22.0</td>\n",
       "      <td>26730.00</td>\n",
       "      <td>18.0</td>\n",
       "      <td>17.0</td>\n",
       "      <td>3525.39</td>\n",
       "      <td>99.00</td>\n",
       "      <td>1154.0</td>\n",
       "      <td>59931.25</td>\n",
       "      <td>0.0</td>\n",
       "      <td>0.0</td>\n",
       "      <td>...</td>\n",
       "      <td>0.0</td>\n",
       "      <td>0.0</td>\n",
       "      <td>0.0</td>\n",
       "      <td>0.0</td>\n",
       "      <td>0.0</td>\n",
       "      <td>0.0</td>\n",
       "      <td>0.0</td>\n",
       "      <td>1.0</td>\n",
       "      <td>0.0</td>\n",
       "      <td>0.0</td>\n",
       "    </tr>\n",
       "    <tr>\n",
       "      <th>2</th>\n",
       "      <td>0.0</td>\n",
       "      <td>31423.00</td>\n",
       "      <td>43.0</td>\n",
       "      <td>1.0</td>\n",
       "      <td>10903.71</td>\n",
       "      <td>95.99</td>\n",
       "      <td>0.0</td>\n",
       "      <td>10829.56</td>\n",
       "      <td>0.0</td>\n",
       "      <td>0.0</td>\n",
       "      <td>...</td>\n",
       "      <td>0.0</td>\n",
       "      <td>0.0</td>\n",
       "      <td>0.0</td>\n",
       "      <td>0.0</td>\n",
       "      <td>0.0</td>\n",
       "      <td>0.0</td>\n",
       "      <td>0.0</td>\n",
       "      <td>0.0</td>\n",
       "      <td>0.0</td>\n",
       "      <td>0.0</td>\n",
       "    </tr>\n",
       "    <tr>\n",
       "      <th>3</th>\n",
       "      <td>22.0</td>\n",
       "      <td>20059.35</td>\n",
       "      <td>36.0</td>\n",
       "      <td>20.0</td>\n",
       "      <td>20022.51</td>\n",
       "      <td>89.99</td>\n",
       "      <td>697.0</td>\n",
       "      <td>400448.84</td>\n",
       "      <td>0.0</td>\n",
       "      <td>0.0</td>\n",
       "      <td>...</td>\n",
       "      <td>0.0</td>\n",
       "      <td>0.0</td>\n",
       "      <td>0.0</td>\n",
       "      <td>0.0</td>\n",
       "      <td>0.0</td>\n",
       "      <td>0.0</td>\n",
       "      <td>0.0</td>\n",
       "      <td>0.0</td>\n",
       "      <td>0.0</td>\n",
       "      <td>0.0</td>\n",
       "    </tr>\n",
       "    <tr>\n",
       "      <th>4</th>\n",
       "      <td>0.0</td>\n",
       "      <td>47600.00</td>\n",
       "      <td>40.0</td>\n",
       "      <td>1.0</td>\n",
       "      <td>10114.31</td>\n",
       "      <td>95.99</td>\n",
       "      <td>0.0</td>\n",
       "      <td>6621.20</td>\n",
       "      <td>0.0</td>\n",
       "      <td>0.0</td>\n",
       "      <td>...</td>\n",
       "      <td>0.0</td>\n",
       "      <td>0.0</td>\n",
       "      <td>0.0</td>\n",
       "      <td>0.0</td>\n",
       "      <td>0.0</td>\n",
       "      <td>0.0</td>\n",
       "      <td>0.0</td>\n",
       "      <td>0.0</td>\n",
       "      <td>0.0</td>\n",
       "      <td>0.0</td>\n",
       "    </tr>\n",
       "  </tbody>\n",
       "</table>\n",
       "<p>5 rows × 65 columns</p>\n",
       "</div>"
      ],
      "text/plain": [
       "   CD_CAJON_MORA  VL_MONTO_LIQUIDADO  NU_CUOTAS  NU_CUOTAS_EN_MORA  VL_CUOTA   \n",
       "0            0.0            81294.00       13.0                0.0  11437.20  \\\n",
       "1           22.0            26730.00       18.0               17.0   3525.39   \n",
       "2            0.0            31423.00       43.0                1.0  10903.71   \n",
       "3           22.0            20059.35       36.0               20.0  20022.51   \n",
       "4            0.0            47600.00       40.0                1.0  10114.31   \n",
       "\n",
       "   VL_TASA_NOMINAL_ANUAL  NU_DIAS_MORA  VL_DEUDA_VENCIDA   \n",
       "0                  95.99           0.0              0.00  \\\n",
       "1                  99.00        1154.0          59931.25   \n",
       "2                  95.99           0.0          10829.56   \n",
       "3                  89.99         697.0         400448.84   \n",
       "4                  95.99           0.0           6621.20   \n",
       "\n",
       "   CD_SUBESTADO_PRODUCTO_AL DIA  CD_SUBESTADO_PRODUCTO_ANULADO  ...   \n",
       "0                           0.0                            0.0  ...  \\\n",
       "1                           0.0                            0.0  ...   \n",
       "2                           0.0                            0.0  ...   \n",
       "3                           0.0                            0.0  ...   \n",
       "4                           0.0                            0.0  ...   \n",
       "\n",
       "   TX_CANAL_ORIGINAL_WHATSAPP  VL_INGRESO_NOSIS_A  VL_INGRESO_NOSIS_B   \n",
       "0                         0.0                 0.0                 0.0  \\\n",
       "1                         0.0                 0.0                 0.0   \n",
       "2                         0.0                 0.0                 0.0   \n",
       "3                         0.0                 0.0                 0.0   \n",
       "4                         0.0                 0.0                 0.0   \n",
       "\n",
       "   VL_INGRESO_NOSIS_C1  VL_INGRESO_NOSIS_C2  VL_INGRESO_NOSIS_C3   \n",
       "0                  0.0                  0.0                  0.0  \\\n",
       "1                  0.0                  0.0                  0.0   \n",
       "2                  0.0                  0.0                  0.0   \n",
       "3                  0.0                  0.0                  0.0   \n",
       "4                  0.0                  0.0                  0.0   \n",
       "\n",
       "   VL_INGRESO_NOSIS_D1  VL_INGRESO_NOSIS_D2  VL_INGRESO_NOSIS_NC   \n",
       "0                  0.0                  0.0                  0.0  \\\n",
       "1                  0.0                  1.0                  0.0   \n",
       "2                  0.0                  0.0                  0.0   \n",
       "3                  0.0                  0.0                  0.0   \n",
       "4                  0.0                  0.0                  0.0   \n",
       "\n",
       "   VL_INGRESO_NOSIS_nan  \n",
       "0                   0.0  \n",
       "1                   0.0  \n",
       "2                   0.0  \n",
       "3                   0.0  \n",
       "4                   0.0  \n",
       "\n",
       "[5 rows x 65 columns]"
      ]
     },
     "execution_count": 198,
     "metadata": {},
     "output_type": "execute_result"
    }
   ],
   "source": [
    "concat_completo.head()"
   ]
  },
  {
   "cell_type": "code",
   "execution_count": 201,
   "id": "93055118",
   "metadata": {},
   "outputs": [
    {
     "data": {
      "text/plain": [
       "100888"
      ]
     },
     "execution_count": 201,
     "metadata": {},
     "output_type": "execute_result"
    }
   ],
   "source": [
    "concat_completo.shape[0]"
   ]
  },
  {
   "cell_type": "code",
   "execution_count": 210,
   "id": "f244c617",
   "metadata": {},
   "outputs": [
    {
     "data": {
      "text/plain": [
       "Index(['CD_CAJON_MORA', 'VL_MONTO_LIQUIDADO', 'NU_CUOTAS', 'NU_CUOTAS_EN_MORA',\n",
       "       'VL_CUOTA', 'VL_TASA_NOMINAL_ANUAL', 'NU_DIAS_MORA', 'VL_DEUDA_VENCIDA',\n",
       "       'CD_SUBESTADO_PRODUCTO_AL DIA', 'CD_SUBESTADO_PRODUCTO_ANULADO',\n",
       "       'CD_SUBESTADO_PRODUCTO_MORA < 90', 'CD_SUBESTADO_PRODUCTO_MORA > 90',\n",
       "       'CD_SUBESTADO_PRODUCTO_PROBLEMAS', 'CD_SUBESTADO_PRODUCTO_WRITE OFF',\n",
       "       'NU_EDAD', 'NU_ANTIGUEDAD_LABORAL', 'TX_ESTADO_EVALUACION_DWH',\n",
       "       'VL_SCORE_NOSIS', 'VL_SCORE_VERAZ', 'VL_DESEMBOLSADO', 'VL_CUOTA',\n",
       "       'TX_SEXO_FEMENINO', 'TX_SEXO_MASCULINO', 'TX_SEXO_nan',\n",
       "       'TX_ESTADO_CIVIL_CASADO              ', 'TX_ESTADO_CIVIL_CASADO/A',\n",
       "       'TX_ESTADO_CIVIL_DIVORCIADO          ', 'TX_ESTADO_CIVIL_DIVORCIADO/A',\n",
       "       'TX_ESTADO_CIVIL_OTRO', 'TX_ESTADO_CIVIL_OTROS               ',\n",
       "       'TX_ESTADO_CIVIL_SEPARADO            ', 'TX_ESTADO_CIVIL_SEPARADO/A',\n",
       "       'TX_ESTADO_CIVIL_SOLTERO             ', 'TX_ESTADO_CIVIL_SOLTERO/A',\n",
       "       'TX_ESTADO_CIVIL_VIUDO               ', 'TX_ESTADO_CIVIL_VIUDO/A',\n",
       "       'TX_ESTADO_CIVIL_nan', 'TX_TIPO_CLIENTE_CONOCIDO',\n",
       "       'TX_TIPO_CLIENTE_EXISTENTE', 'TX_TIPO_CLIENTE_NUEVO',\n",
       "       'TX_CANAL_ORIGINAL_API',\n",
       "       'TX_CANAL_ORIGINAL_COBRANZAS Y SERVICIOS         ',\n",
       "       'TX_CANAL_ORIGINAL_COMPA#IA FINANCIERA ARG.      ',\n",
       "       'TX_CANAL_ORIGINAL_ENTIDADES INTERMEDIAS         ',\n",
       "       'TX_CANAL_ORIGINAL_MUT.REFINANCIACIONES          ',\n",
       "       'TX_CANAL_ORIGINAL_MUTUALES                      ',\n",
       "       'TX_CANAL_ORIGINAL_SAC', 'TX_CANAL_ORIGINAL_SAC CBU',\n",
       "       'TX_CANAL_ORIGINAL_SUCURSAL',\n",
       "       'TX_CANAL_ORIGINAL_SUCURSAL                      ',\n",
       "       'TX_CANAL_ORIGINAL_TELEFONICO', 'TX_CANAL_ORIGINAL_TELEMARKETING',\n",
       "       'TX_CANAL_ORIGINAL_TELEMARKETING                 ',\n",
       "       'TX_CANAL_ORIGINAL_TLMK CBU', 'TX_CANAL_ORIGINAL_WEB',\n",
       "       'TX_CANAL_ORIGINAL_WHATSAPP', 'VL_INGRESO_NOSIS_A',\n",
       "       'VL_INGRESO_NOSIS_B', 'VL_INGRESO_NOSIS_C1', 'VL_INGRESO_NOSIS_C2',\n",
       "       'VL_INGRESO_NOSIS_C3', 'VL_INGRESO_NOSIS_D1', 'VL_INGRESO_NOSIS_D2',\n",
       "       'VL_INGRESO_NOSIS_NC', 'VL_INGRESO_NOSIS_nan'],\n",
       "      dtype='object')"
      ]
     },
     "execution_count": 210,
     "metadata": {},
     "output_type": "execute_result"
    }
   ],
   "source": [
    "concat_completo.columns"
   ]
  },
  {
   "cell_type": "markdown",
   "id": "05c3ecc3",
   "metadata": {},
   "source": [
    "## Selección de Modelo de Machine Learning a aplicar:\n",
    "* Split del Data Set:\n",
    "    + Train\n",
    "    + Test\n",
    "    + Validation"
   ]
  },
  {
   "cell_type": "code",
   "execution_count": 211,
   "id": "f0a9c9cc",
   "metadata": {},
   "outputs": [],
   "source": [
    "train_ratio = 0.7\n",
    "test_ratio = 0.15\n",
    "validation_ratio = 0.15"
   ]
  },
  {
   "cell_type": "code",
   "execution_count": 216,
   "id": "25c518b5",
   "metadata": {},
   "outputs": [],
   "source": [
    "train_data, temp_data = train_test_split(concat_completo, test_size=1 - train_ratio, random_state=50)"
   ]
  },
  {
   "cell_type": "code",
   "execution_count": 239,
   "id": "f401d43a",
   "metadata": {},
   "outputs": [],
   "source": [
    "test_data, validation_data = train_test_split(temp_data, test_size=test_ratio / (test_ratio + validation_ratio), random_state=50)"
   ]
  },
  {
   "cell_type": "markdown",
   "id": "c6779a4e",
   "metadata": {},
   "source": [
    "#### Split:"
   ]
  },
  {
   "cell_type": "code",
   "execution_count": 233,
   "id": "f2d6f964",
   "metadata": {},
   "outputs": [
    {
     "name": "stdout",
     "output_type": "stream",
     "text": [
      "Datos Totales: 100888\n",
      "Datos Train: 70621\n",
      "Datos Test: 15133\n",
      "Datos Validación: 15133\n"
     ]
    }
   ],
   "source": [
    "total_data_length = len(concat_completo)\n",
    "train_size = int(train_ratio * total_data_length)\n",
    "test_size = int(test_ratio * total_data_length)\n",
    "validation_size = int(validation_ratio * total_data_length)\n",
    "print('Datos Totales:', total_data_length)\n",
    "print('Datos Train:', train_size)\n",
    "print('Datos Test:', test_size)\n",
    "print('Datos Validación:', validation_size)"
   ]
  },
  {
   "cell_type": "markdown",
   "id": "ebd21eb4",
   "metadata": {},
   "source": [
    "### Modelo KNN - 5k:"
   ]
  },
  {
   "cell_type": "code",
   "execution_count": 237,
   "id": "59d9bcff",
   "metadata": {},
   "outputs": [],
   "source": [
    "k = 5  \n",
    "knn_model = KNeighborsClassifier(n_neighbors=k)"
   ]
  },
  {
   "cell_type": "code",
   "execution_count": 240,
   "id": "9fabbebc",
   "metadata": {},
   "outputs": [],
   "source": [
    "X_train = train_data.drop(['CD_SUBESTADO_PRODUCTO_AL DIA', 'CD_SUBESTADO_PRODUCTO_ANULADO',\n",
    "                          'CD_SUBESTADO_PRODUCTO_MORA < 90', 'CD_SUBESTADO_PRODUCTO_MORA > 90',\n",
    "                          'CD_SUBESTADO_PRODUCTO_PROBLEMAS', 'CD_SUBESTADO_PRODUCTO_WRITE OFF'], axis=1)\n",
    "y_train = train_data[['CD_SUBESTADO_PRODUCTO_AL DIA', 'CD_SUBESTADO_PRODUCTO_ANULADO',\n",
    "                      'CD_SUBESTADO_PRODUCTO_MORA < 90', 'CD_SUBESTADO_PRODUCTO_MORA > 90',\n",
    "                      'CD_SUBESTADO_PRODUCTO_PROBLEMAS', 'CD_SUBESTADO_PRODUCTO_WRITE OFF']]\n",
    "knn_model.fit(X_train, y_train)\n",
    "X_test = test_data.drop(['CD_SUBESTADO_PRODUCTO_AL DIA', 'CD_SUBESTADO_PRODUCTO_ANULADO',\n",
    "                        'CD_SUBESTADO_PRODUCTO_MORA < 90', 'CD_SUBESTADO_PRODUCTO_MORA > 90',\n",
    "                        'CD_SUBESTADO_PRODUCTO_PROBLEMAS', 'CD_SUBESTADO_PRODUCTO_WRITE OFF'], axis=1)"
   ]
  },
  {
   "cell_type": "code",
   "execution_count": 244,
   "id": "7339fb6d",
   "metadata": {},
   "outputs": [],
   "source": [
    "predict = knn_model.predict(X_test)"
   ]
  },
  {
   "cell_type": "code",
   "execution_count": 245,
   "id": "5cff8aca",
   "metadata": {},
   "outputs": [
    {
     "name": "stdout",
     "output_type": "stream",
     "text": [
      "              precision    recall  f1-score   support\n",
      "\n",
      "           0       0.24      0.03      0.06       266\n",
      "           1       0.00      0.00      0.00        33\n",
      "           2       0.00      0.00      0.00        58\n",
      "           3       0.00      0.00      0.00       184\n",
      "           4       0.00      0.00      0.00        10\n",
      "           5       0.00      0.00      0.00        26\n",
      "\n",
      "   micro avg       0.17      0.02      0.03       577\n",
      "   macro avg       0.04      0.01      0.01       577\n",
      "weighted avg       0.11      0.02      0.03       577\n",
      " samples avg       0.00      0.00      0.00       577\n",
      "\n"
     ]
    },
    {
     "name": "stderr",
     "output_type": "stream",
     "text": [
      "C:\\Users\\juand\\AppData\\Local\\Programs\\Python\\Python311\\Lib\\site-packages\\sklearn\\metrics\\_classification.py:1344: UndefinedMetricWarning: Precision and F-score are ill-defined and being set to 0.0 in labels with no predicted samples. Use `zero_division` parameter to control this behavior.\n",
      "  _warn_prf(average, modifier, msg_start, len(result))\n",
      "C:\\Users\\juand\\AppData\\Local\\Programs\\Python\\Python311\\Lib\\site-packages\\sklearn\\metrics\\_classification.py:1344: UndefinedMetricWarning: Precision and F-score are ill-defined and being set to 0.0 in samples with no predicted labels. Use `zero_division` parameter to control this behavior.\n",
      "  _warn_prf(average, modifier, msg_start, len(result))\n",
      "C:\\Users\\juand\\AppData\\Local\\Programs\\Python\\Python311\\Lib\\site-packages\\sklearn\\metrics\\_classification.py:1344: UndefinedMetricWarning: Recall and F-score are ill-defined and being set to 0.0 in samples with no true labels. Use `zero_division` parameter to control this behavior.\n",
      "  _warn_prf(average, modifier, msg_start, len(result))\n"
     ]
    }
   ],
   "source": [
    "print(classification_report(test_data[['CD_SUBESTADO_PRODUCTO_AL DIA', 'CD_SUBESTADO_PRODUCTO_ANULADO',\n",
    "                                       'CD_SUBESTADO_PRODUCTO_MORA < 90', 'CD_SUBESTADO_PRODUCTO_MORA > 90',\n",
    "                                       'CD_SUBESTADO_PRODUCTO_PROBLEMAS', 'CD_SUBESTADO_PRODUCTO_WRITE OFF']], predict))"
   ]
  },
  {
   "cell_type": "code",
   "execution_count": null,
   "id": "dafc976c",
   "metadata": {},
   "outputs": [],
   "source": []
  },
  {
   "cell_type": "markdown",
   "id": "04b7187a",
   "metadata": {},
   "source": [
    "### Modelo KNN - 3k:"
   ]
  },
  {
   "cell_type": "code",
   "execution_count": 247,
   "id": "7454ecc5",
   "metadata": {},
   "outputs": [
    {
     "name": "stdout",
     "output_type": "stream",
     "text": [
      "              precision    recall  f1-score   support\n",
      "\n",
      "           0       0.14      0.05      0.07       266\n",
      "           1       0.00      0.00      0.00        33\n",
      "           2       0.00      0.00      0.00        58\n",
      "           3       0.13      0.03      0.05       184\n",
      "           4       0.00      0.00      0.00        10\n",
      "           5       0.00      0.00      0.00        26\n",
      "\n",
      "   micro avg       0.13      0.03      0.05       577\n",
      "   macro avg       0.05      0.01      0.02       577\n",
      "weighted avg       0.11      0.03      0.05       577\n",
      " samples avg       0.00      0.00      0.00       577\n",
      "\n"
     ]
    },
    {
     "name": "stderr",
     "output_type": "stream",
     "text": [
      "C:\\Users\\juand\\AppData\\Local\\Programs\\Python\\Python311\\Lib\\site-packages\\sklearn\\metrics\\_classification.py:1344: UndefinedMetricWarning: Precision and F-score are ill-defined and being set to 0.0 in labels with no predicted samples. Use `zero_division` parameter to control this behavior.\n",
      "  _warn_prf(average, modifier, msg_start, len(result))\n",
      "C:\\Users\\juand\\AppData\\Local\\Programs\\Python\\Python311\\Lib\\site-packages\\sklearn\\metrics\\_classification.py:1344: UndefinedMetricWarning: Precision and F-score are ill-defined and being set to 0.0 in samples with no predicted labels. Use `zero_division` parameter to control this behavior.\n",
      "  _warn_prf(average, modifier, msg_start, len(result))\n",
      "C:\\Users\\juand\\AppData\\Local\\Programs\\Python\\Python311\\Lib\\site-packages\\sklearn\\metrics\\_classification.py:1344: UndefinedMetricWarning: Recall and F-score are ill-defined and being set to 0.0 in samples with no true labels. Use `zero_division` parameter to control this behavior.\n",
      "  _warn_prf(average, modifier, msg_start, len(result))\n"
     ]
    }
   ],
   "source": [
    "k = 3  \n",
    "knn_model = KNeighborsClassifier(n_neighbors=k)\n",
    "X_train = train_data.drop(['CD_SUBESTADO_PRODUCTO_AL DIA', 'CD_SUBESTADO_PRODUCTO_ANULADO',\n",
    "                          'CD_SUBESTADO_PRODUCTO_MORA < 90', 'CD_SUBESTADO_PRODUCTO_MORA > 90',\n",
    "                          'CD_SUBESTADO_PRODUCTO_PROBLEMAS', 'CD_SUBESTADO_PRODUCTO_WRITE OFF'], axis=1)\n",
    "y_train = train_data[['CD_SUBESTADO_PRODUCTO_AL DIA', 'CD_SUBESTADO_PRODUCTO_ANULADO',\n",
    "                      'CD_SUBESTADO_PRODUCTO_MORA < 90', 'CD_SUBESTADO_PRODUCTO_MORA > 90',\n",
    "                      'CD_SUBESTADO_PRODUCTO_PROBLEMAS', 'CD_SUBESTADO_PRODUCTO_WRITE OFF']]\n",
    "knn_model.fit(X_train, y_train)\n",
    "X_test = test_data.drop(['CD_SUBESTADO_PRODUCTO_AL DIA', 'CD_SUBESTADO_PRODUCTO_ANULADO',\n",
    "                        'CD_SUBESTADO_PRODUCTO_MORA < 90', 'CD_SUBESTADO_PRODUCTO_MORA > 90',\n",
    "                        'CD_SUBESTADO_PRODUCTO_PROBLEMAS', 'CD_SUBESTADO_PRODUCTO_WRITE OFF'], axis=1)\n",
    "predict = knn_model.predict(X_test)\n",
    "print(classification_report(test_data[['CD_SUBESTADO_PRODUCTO_AL DIA', 'CD_SUBESTADO_PRODUCTO_ANULADO',\n",
    "                                       'CD_SUBESTADO_PRODUCTO_MORA < 90', 'CD_SUBESTADO_PRODUCTO_MORA > 90',\n",
    "                                       'CD_SUBESTADO_PRODUCTO_PROBLEMAS', 'CD_SUBESTADO_PRODUCTO_WRITE OFF']], predict))"
   ]
  },
  {
   "cell_type": "markdown",
   "id": "a70202be",
   "metadata": {},
   "source": [
    "#### CONCLUCIONES:\n",
    "En resumen, ninguno de los dos valores de k parece ser efectivo para este conjunto de datos en particular. \n",
    "* Es posible que KNN no sea el algoritmo adecuado para este problema.\n",
    "* Que se necesite un preprocesamiento de datos más complejo.\n",
    "* Que sea necesario un mayor equilibrio entre las clases.\n",
    "* Un ajuste de hiperparámetros."
   ]
  },
  {
   "cell_type": "markdown",
   "id": "bf30f10b",
   "metadata": {},
   "source": [
    "### Modelo Logistic Regression:"
   ]
  },
  {
   "cell_type": "markdown",
   "id": "f019bbe7",
   "metadata": {},
   "source": [
    "Crear el Modelo de Regresión ***Multiclase***:"
   ]
  },
  {
   "cell_type": "code",
   "execution_count": 253,
   "id": "86b171d6",
   "metadata": {},
   "outputs": [],
   "source": [
    "clases = ['CD_SUBESTADO_PRODUCTO_AL DIA', 'CD_SUBESTADO_PRODUCTO_ANULADO',\n",
    "          'CD_SUBESTADO_PRODUCTO_MORA < 90', 'CD_SUBESTADO_PRODUCTO_MORA > 90',\n",
    "          'CD_SUBESTADO_PRODUCTO_PROBLEMAS', 'CD_SUBESTADO_PRODUCTO_WRITE OFF']\n"
   ]
  },
  {
   "cell_type": "markdown",
   "id": "4003a5d5",
   "metadata": {},
   "source": [
    "Creamos un Diccionario para guardar los resultados del Modelo y las Predicciones:"
   ]
  },
  {
   "cell_type": "code",
   "execution_count": 254,
   "id": "ed34f414",
   "metadata": {},
   "outputs": [],
   "source": [
    "models = {}\n",
    "predictions = {}"
   ]
  },
  {
   "cell_type": "markdown",
   "id": "6084580e",
   "metadata": {},
   "source": [
    "Entrenar el Modelo:\n",
    "* Creamos un 'for' para poder trabajar con cada una de las clases:"
   ]
  },
  {
   "cell_type": "code",
   "execution_count": 256,
   "id": "56cb8f3b",
   "metadata": {},
   "outputs": [
    {
     "name": "stderr",
     "output_type": "stream",
     "text": [
      "C:\\Users\\juand\\AppData\\Local\\Programs\\Python\\Python311\\Lib\\site-packages\\sklearn\\linear_model\\_logistic.py:458: ConvergenceWarning: lbfgs failed to converge (status=1):\n",
      "STOP: TOTAL NO. of ITERATIONS REACHED LIMIT.\n",
      "\n",
      "Increase the number of iterations (max_iter) or scale the data as shown in:\n",
      "    https://scikit-learn.org/stable/modules/preprocessing.html\n",
      "Please also refer to the documentation for alternative solver options:\n",
      "    https://scikit-learn.org/stable/modules/linear_model.html#logistic-regression\n",
      "  n_iter_i = _check_optimize_result(\n",
      "C:\\Users\\juand\\AppData\\Local\\Programs\\Python\\Python311\\Lib\\site-packages\\sklearn\\linear_model\\_logistic.py:458: ConvergenceWarning: lbfgs failed to converge (status=1):\n",
      "STOP: TOTAL NO. of ITERATIONS REACHED LIMIT.\n",
      "\n",
      "Increase the number of iterations (max_iter) or scale the data as shown in:\n",
      "    https://scikit-learn.org/stable/modules/preprocessing.html\n",
      "Please also refer to the documentation for alternative solver options:\n",
      "    https://scikit-learn.org/stable/modules/linear_model.html#logistic-regression\n",
      "  n_iter_i = _check_optimize_result(\n",
      "C:\\Users\\juand\\AppData\\Local\\Programs\\Python\\Python311\\Lib\\site-packages\\sklearn\\linear_model\\_logistic.py:458: ConvergenceWarning: lbfgs failed to converge (status=1):\n",
      "STOP: TOTAL NO. of ITERATIONS REACHED LIMIT.\n",
      "\n",
      "Increase the number of iterations (max_iter) or scale the data as shown in:\n",
      "    https://scikit-learn.org/stable/modules/preprocessing.html\n",
      "Please also refer to the documentation for alternative solver options:\n",
      "    https://scikit-learn.org/stable/modules/linear_model.html#logistic-regression\n",
      "  n_iter_i = _check_optimize_result(\n",
      "C:\\Users\\juand\\AppData\\Local\\Programs\\Python\\Python311\\Lib\\site-packages\\sklearn\\linear_model\\_logistic.py:458: ConvergenceWarning: lbfgs failed to converge (status=1):\n",
      "STOP: TOTAL NO. of ITERATIONS REACHED LIMIT.\n",
      "\n",
      "Increase the number of iterations (max_iter) or scale the data as shown in:\n",
      "    https://scikit-learn.org/stable/modules/preprocessing.html\n",
      "Please also refer to the documentation for alternative solver options:\n",
      "    https://scikit-learn.org/stable/modules/linear_model.html#logistic-regression\n",
      "  n_iter_i = _check_optimize_result(\n",
      "C:\\Users\\juand\\AppData\\Local\\Programs\\Python\\Python311\\Lib\\site-packages\\sklearn\\linear_model\\_logistic.py:458: ConvergenceWarning: lbfgs failed to converge (status=1):\n",
      "STOP: TOTAL NO. of ITERATIONS REACHED LIMIT.\n",
      "\n",
      "Increase the number of iterations (max_iter) or scale the data as shown in:\n",
      "    https://scikit-learn.org/stable/modules/preprocessing.html\n",
      "Please also refer to the documentation for alternative solver options:\n",
      "    https://scikit-learn.org/stable/modules/linear_model.html#logistic-regression\n",
      "  n_iter_i = _check_optimize_result(\n",
      "C:\\Users\\juand\\AppData\\Local\\Programs\\Python\\Python311\\Lib\\site-packages\\sklearn\\linear_model\\_logistic.py:458: ConvergenceWarning: lbfgs failed to converge (status=1):\n",
      "STOP: TOTAL NO. of ITERATIONS REACHED LIMIT.\n",
      "\n",
      "Increase the number of iterations (max_iter) or scale the data as shown in:\n",
      "    https://scikit-learn.org/stable/modules/preprocessing.html\n",
      "Please also refer to the documentation for alternative solver options:\n",
      "    https://scikit-learn.org/stable/modules/linear_model.html#logistic-regression\n",
      "  n_iter_i = _check_optimize_result(\n"
     ]
    }
   ],
   "source": [
    "for clase in clases:\n",
    "    model = LogisticRegression()\n",
    "    y_train_clase = train_data[clase]\n",
    "    model.fit(X_train, y_train_clase)\n",
    "    models[clase] = model"
   ]
  },
  {
   "cell_type": "markdown",
   "id": "d4ae0965",
   "metadata": {},
   "source": [
    "Predicción:\n",
    "* Utilizamos un 'for' para obtener el resultado de cada una de las Clases:"
   ]
  },
  {
   "cell_type": "code",
   "execution_count": 257,
   "id": "1cb6de9a",
   "metadata": {},
   "outputs": [],
   "source": [
    "for clase in clases:\n",
    "    model = models[clase]\n",
    "    predictions[clase] = model.predict(X_test)"
   ]
  },
  {
   "cell_type": "markdown",
   "id": "85502be9",
   "metadata": {},
   "source": [
    "Evaluar el modelo:"
   ]
  },
  {
   "cell_type": "code",
   "execution_count": 258,
   "id": "eb94cb17",
   "metadata": {},
   "outputs": [
    {
     "name": "stdout",
     "output_type": "stream",
     "text": [
      "Resultados para la clase: CD_SUBESTADO_PRODUCTO_AL DIA\n",
      "              precision    recall  f1-score   support\n",
      "\n",
      "         0.0       0.98      1.00      0.99     14867\n",
      "         1.0       0.34      0.04      0.07       266\n",
      "\n",
      "    accuracy                           0.98     15133\n",
      "   macro avg       0.66      0.52      0.53     15133\n",
      "weighted avg       0.97      0.98      0.97     15133\n",
      "\n",
      "Resultados para la clase: CD_SUBESTADO_PRODUCTO_ANULADO\n",
      "              precision    recall  f1-score   support\n",
      "\n",
      "         0.0       1.00      1.00      1.00     15100\n",
      "         1.0       0.00      0.00      0.00        33\n",
      "\n",
      "    accuracy                           1.00     15133\n",
      "   macro avg       0.50      0.50      0.50     15133\n",
      "weighted avg       1.00      1.00      1.00     15133\n",
      "\n",
      "Resultados para la clase: CD_SUBESTADO_PRODUCTO_MORA < 90\n",
      "              precision    recall  f1-score   support\n",
      "\n",
      "         0.0       1.00      1.00      1.00     15075\n",
      "         1.0       0.00      0.00      0.00        58\n",
      "\n",
      "    accuracy                           1.00     15133\n",
      "   macro avg       0.50      0.50      0.50     15133\n",
      "weighted avg       0.99      1.00      0.99     15133\n",
      "\n",
      "Resultados para la clase: CD_SUBESTADO_PRODUCTO_MORA > 90\n",
      "              precision    recall  f1-score   support\n",
      "\n",
      "         0.0       0.99      1.00      0.99     14949\n",
      "         1.0       0.00      0.00      0.00       184\n",
      "\n",
      "    accuracy                           0.99     15133\n",
      "   macro avg       0.49      0.50      0.50     15133\n",
      "weighted avg       0.98      0.99      0.98     15133\n",
      "\n",
      "Resultados para la clase: CD_SUBESTADO_PRODUCTO_PROBLEMAS\n",
      "              precision    recall  f1-score   support\n",
      "\n",
      "         0.0       1.00      1.00      1.00     15123\n",
      "         1.0       0.00      0.00      0.00        10\n",
      "\n",
      "    accuracy                           1.00     15133\n",
      "   macro avg       0.50      0.50      0.50     15133\n",
      "weighted avg       1.00      1.00      1.00     15133\n",
      "\n",
      "Resultados para la clase: CD_SUBESTADO_PRODUCTO_WRITE OFF\n",
      "              precision    recall  f1-score   support\n",
      "\n",
      "         0.0       1.00      1.00      1.00     15107\n",
      "         1.0       0.00      0.00      0.00        26\n",
      "\n",
      "    accuracy                           1.00     15133\n",
      "   macro avg       0.50      0.50      0.50     15133\n",
      "weighted avg       1.00      1.00      1.00     15133\n",
      "\n"
     ]
    },
    {
     "name": "stderr",
     "output_type": "stream",
     "text": [
      "C:\\Users\\juand\\AppData\\Local\\Programs\\Python\\Python311\\Lib\\site-packages\\sklearn\\metrics\\_classification.py:1344: UndefinedMetricWarning: Precision and F-score are ill-defined and being set to 0.0 in labels with no predicted samples. Use `zero_division` parameter to control this behavior.\n",
      "  _warn_prf(average, modifier, msg_start, len(result))\n",
      "C:\\Users\\juand\\AppData\\Local\\Programs\\Python\\Python311\\Lib\\site-packages\\sklearn\\metrics\\_classification.py:1344: UndefinedMetricWarning: Precision and F-score are ill-defined and being set to 0.0 in labels with no predicted samples. Use `zero_division` parameter to control this behavior.\n",
      "  _warn_prf(average, modifier, msg_start, len(result))\n",
      "C:\\Users\\juand\\AppData\\Local\\Programs\\Python\\Python311\\Lib\\site-packages\\sklearn\\metrics\\_classification.py:1344: UndefinedMetricWarning: Precision and F-score are ill-defined and being set to 0.0 in labels with no predicted samples. Use `zero_division` parameter to control this behavior.\n",
      "  _warn_prf(average, modifier, msg_start, len(result))\n",
      "C:\\Users\\juand\\AppData\\Local\\Programs\\Python\\Python311\\Lib\\site-packages\\sklearn\\metrics\\_classification.py:1344: UndefinedMetricWarning: Precision and F-score are ill-defined and being set to 0.0 in labels with no predicted samples. Use `zero_division` parameter to control this behavior.\n",
      "  _warn_prf(average, modifier, msg_start, len(result))\n",
      "C:\\Users\\juand\\AppData\\Local\\Programs\\Python\\Python311\\Lib\\site-packages\\sklearn\\metrics\\_classification.py:1344: UndefinedMetricWarning: Precision and F-score are ill-defined and being set to 0.0 in labels with no predicted samples. Use `zero_division` parameter to control this behavior.\n",
      "  _warn_prf(average, modifier, msg_start, len(result))\n",
      "C:\\Users\\juand\\AppData\\Local\\Programs\\Python\\Python311\\Lib\\site-packages\\sklearn\\metrics\\_classification.py:1344: UndefinedMetricWarning: Precision and F-score are ill-defined and being set to 0.0 in labels with no predicted samples. Use `zero_division` parameter to control this behavior.\n",
      "  _warn_prf(average, modifier, msg_start, len(result))\n",
      "C:\\Users\\juand\\AppData\\Local\\Programs\\Python\\Python311\\Lib\\site-packages\\sklearn\\metrics\\_classification.py:1344: UndefinedMetricWarning: Precision and F-score are ill-defined and being set to 0.0 in labels with no predicted samples. Use `zero_division` parameter to control this behavior.\n",
      "  _warn_prf(average, modifier, msg_start, len(result))\n",
      "C:\\Users\\juand\\AppData\\Local\\Programs\\Python\\Python311\\Lib\\site-packages\\sklearn\\metrics\\_classification.py:1344: UndefinedMetricWarning: Precision and F-score are ill-defined and being set to 0.0 in labels with no predicted samples. Use `zero_division` parameter to control this behavior.\n",
      "  _warn_prf(average, modifier, msg_start, len(result))\n",
      "C:\\Users\\juand\\AppData\\Local\\Programs\\Python\\Python311\\Lib\\site-packages\\sklearn\\metrics\\_classification.py:1344: UndefinedMetricWarning: Precision and F-score are ill-defined and being set to 0.0 in labels with no predicted samples. Use `zero_division` parameter to control this behavior.\n",
      "  _warn_prf(average, modifier, msg_start, len(result))\n"
     ]
    }
   ],
   "source": [
    "for clase in clases:\n",
    "    print(f\"Resultados para la clase: {clase}\")\n",
    "    print(classification_report(test_data[clase], predictions[clase]))"
   ]
  },
  {
   "cell_type": "markdown",
   "id": "8f9c9028",
   "metadata": {},
   "source": [
    "#### CONCLUISION:\n",
    "* En las Clases Mayoritarias (0), se observa que el modelo tiene una alta precisión en cada una de las clases.\n",
    "* En las Clases Minoritarias (1), el resultado es pobre en la mayoria, cercano a cero.\n",
    "* El Recall en las clases Minoritarias es bajo, por lo que el modelo tiene muchos problemas para identificar los Verdaderos positivos.\n",
    "* El Accuracy es alto, por la alta precisión en las Clases Mayoritarias.\n",
    "* F1 Score, es bajo en las clases Minoritarias, lo que nos dice que el modelo esta Desbalanceado, no esta teniendo un buen equilibrio.\n",
    "\n",
    "En resumen el Modelo de \"LOGISTIC REGRESSION\":\n",
    "+ Tiene un buen rendimiento para clasificar la clase Mayoritaria.\n",
    "+ No posee una buena presición para la Clase Minoritaria, puede ser por un desequilibrio o desbalanceo de clases.\n"
   ]
  },
  {
   "cell_type": "markdown",
   "id": "026b16bf",
   "metadata": {},
   "source": [
    "#### Model Random Forest: "
   ]
  },
  {
   "cell_type": "markdown",
   "id": "5ca2eb21",
   "metadata": {},
   "source": [
    "Crear el Modelo:"
   ]
  },
  {
   "cell_type": "code",
   "execution_count": 261,
   "id": "e31ce906",
   "metadata": {},
   "outputs": [],
   "source": [
    "random_forest_model = RandomForestClassifier(random_state=50)"
   ]
  },
  {
   "cell_type": "markdown",
   "id": "1fc435b6",
   "metadata": {},
   "source": [
    "Entrenar el Modelo:"
   ]
  },
  {
   "cell_type": "code",
   "execution_count": 262,
   "id": "7ed64536",
   "metadata": {},
   "outputs": [
    {
     "data": {
      "text/html": [
       "<style>#sk-container-id-1 {color: black;background-color: white;}#sk-container-id-1 pre{padding: 0;}#sk-container-id-1 div.sk-toggleable {background-color: white;}#sk-container-id-1 label.sk-toggleable__label {cursor: pointer;display: block;width: 100%;margin-bottom: 0;padding: 0.3em;box-sizing: border-box;text-align: center;}#sk-container-id-1 label.sk-toggleable__label-arrow:before {content: \"▸\";float: left;margin-right: 0.25em;color: #696969;}#sk-container-id-1 label.sk-toggleable__label-arrow:hover:before {color: black;}#sk-container-id-1 div.sk-estimator:hover label.sk-toggleable__label-arrow:before {color: black;}#sk-container-id-1 div.sk-toggleable__content {max-height: 0;max-width: 0;overflow: hidden;text-align: left;background-color: #f0f8ff;}#sk-container-id-1 div.sk-toggleable__content pre {margin: 0.2em;color: black;border-radius: 0.25em;background-color: #f0f8ff;}#sk-container-id-1 input.sk-toggleable__control:checked~div.sk-toggleable__content {max-height: 200px;max-width: 100%;overflow: auto;}#sk-container-id-1 input.sk-toggleable__control:checked~label.sk-toggleable__label-arrow:before {content: \"▾\";}#sk-container-id-1 div.sk-estimator input.sk-toggleable__control:checked~label.sk-toggleable__label {background-color: #d4ebff;}#sk-container-id-1 div.sk-label input.sk-toggleable__control:checked~label.sk-toggleable__label {background-color: #d4ebff;}#sk-container-id-1 input.sk-hidden--visually {border: 0;clip: rect(1px 1px 1px 1px);clip: rect(1px, 1px, 1px, 1px);height: 1px;margin: -1px;overflow: hidden;padding: 0;position: absolute;width: 1px;}#sk-container-id-1 div.sk-estimator {font-family: monospace;background-color: #f0f8ff;border: 1px dotted black;border-radius: 0.25em;box-sizing: border-box;margin-bottom: 0.5em;}#sk-container-id-1 div.sk-estimator:hover {background-color: #d4ebff;}#sk-container-id-1 div.sk-parallel-item::after {content: \"\";width: 100%;border-bottom: 1px solid gray;flex-grow: 1;}#sk-container-id-1 div.sk-label:hover label.sk-toggleable__label {background-color: #d4ebff;}#sk-container-id-1 div.sk-serial::before {content: \"\";position: absolute;border-left: 1px solid gray;box-sizing: border-box;top: 0;bottom: 0;left: 50%;z-index: 0;}#sk-container-id-1 div.sk-serial {display: flex;flex-direction: column;align-items: center;background-color: white;padding-right: 0.2em;padding-left: 0.2em;position: relative;}#sk-container-id-1 div.sk-item {position: relative;z-index: 1;}#sk-container-id-1 div.sk-parallel {display: flex;align-items: stretch;justify-content: center;background-color: white;position: relative;}#sk-container-id-1 div.sk-item::before, #sk-container-id-1 div.sk-parallel-item::before {content: \"\";position: absolute;border-left: 1px solid gray;box-sizing: border-box;top: 0;bottom: 0;left: 50%;z-index: -1;}#sk-container-id-1 div.sk-parallel-item {display: flex;flex-direction: column;z-index: 1;position: relative;background-color: white;}#sk-container-id-1 div.sk-parallel-item:first-child::after {align-self: flex-end;width: 50%;}#sk-container-id-1 div.sk-parallel-item:last-child::after {align-self: flex-start;width: 50%;}#sk-container-id-1 div.sk-parallel-item:only-child::after {width: 0;}#sk-container-id-1 div.sk-dashed-wrapped {border: 1px dashed gray;margin: 0 0.4em 0.5em 0.4em;box-sizing: border-box;padding-bottom: 0.4em;background-color: white;}#sk-container-id-1 div.sk-label label {font-family: monospace;font-weight: bold;display: inline-block;line-height: 1.2em;}#sk-container-id-1 div.sk-label-container {text-align: center;}#sk-container-id-1 div.sk-container {/* jupyter's `normalize.less` sets `[hidden] { display: none; }` but bootstrap.min.css set `[hidden] { display: none !important; }` so we also need the `!important` here to be able to override the default hidden behavior on the sphinx rendered scikit-learn.org. See: https://github.com/scikit-learn/scikit-learn/issues/21755 */display: inline-block !important;position: relative;}#sk-container-id-1 div.sk-text-repr-fallback {display: none;}</style><div id=\"sk-container-id-1\" class=\"sk-top-container\"><div class=\"sk-text-repr-fallback\"><pre>RandomForestClassifier(random_state=50)</pre><b>In a Jupyter environment, please rerun this cell to show the HTML representation or trust the notebook. <br />On GitHub, the HTML representation is unable to render, please try loading this page with nbviewer.org.</b></div><div class=\"sk-container\" hidden><div class=\"sk-item\"><div class=\"sk-estimator sk-toggleable\"><input class=\"sk-toggleable__control sk-hidden--visually\" id=\"sk-estimator-id-1\" type=\"checkbox\" checked><label for=\"sk-estimator-id-1\" class=\"sk-toggleable__label sk-toggleable__label-arrow\">RandomForestClassifier</label><div class=\"sk-toggleable__content\"><pre>RandomForestClassifier(random_state=50)</pre></div></div></div></div></div>"
      ],
      "text/plain": [
       "RandomForestClassifier(random_state=50)"
      ]
     },
     "execution_count": 262,
     "metadata": {},
     "output_type": "execute_result"
    }
   ],
   "source": [
    "X_train = train_data.drop(['CD_SUBESTADO_PRODUCTO_AL DIA', 'CD_SUBESTADO_PRODUCTO_ANULADO',\n",
    "                          'CD_SUBESTADO_PRODUCTO_MORA < 90', 'CD_SUBESTADO_PRODUCTO_MORA > 90',\n",
    "                          'CD_SUBESTADO_PRODUCTO_PROBLEMAS', 'CD_SUBESTADO_PRODUCTO_WRITE OFF'], axis=1)\n",
    "y_train = train_data[['CD_SUBESTADO_PRODUCTO_AL DIA', 'CD_SUBESTADO_PRODUCTO_ANULADO',\n",
    "                      'CD_SUBESTADO_PRODUCTO_MORA < 90', 'CD_SUBESTADO_PRODUCTO_MORA > 90',\n",
    "                      'CD_SUBESTADO_PRODUCTO_PROBLEMAS', 'CD_SUBESTADO_PRODUCTO_WRITE OFF']]\n",
    "\n",
    "random_forest_model.fit(X_train, y_train)"
   ]
  },
  {
   "cell_type": "markdown",
   "id": "31441c13",
   "metadata": {},
   "source": [
    "Hacer Predicciones:"
   ]
  },
  {
   "cell_type": "code",
   "execution_count": 263,
   "id": "e151a113",
   "metadata": {},
   "outputs": [],
   "source": [
    "X_test = test_data.drop(['CD_SUBESTADO_PRODUCTO_AL DIA', 'CD_SUBESTADO_PRODUCTO_ANULADO',\n",
    "                        'CD_SUBESTADO_PRODUCTO_MORA < 90', 'CD_SUBESTADO_PRODUCTO_MORA > 90',\n",
    "                        'CD_SUBESTADO_PRODUCTO_PROBLEMAS', 'CD_SUBESTADO_PRODUCTO_WRITE OFF'], axis=1)\n",
    "\n",
    "predictions = random_forest_model.predict(X_test)\n"
   ]
  },
  {
   "cell_type": "markdown",
   "id": "36c39a27",
   "metadata": {},
   "source": [
    "Evaluar el modelo:"
   ]
  },
  {
   "cell_type": "code",
   "execution_count": 264,
   "id": "aca008ef",
   "metadata": {},
   "outputs": [
    {
     "name": "stdout",
     "output_type": "stream",
     "text": [
      "              precision    recall  f1-score   support\n",
      "\n",
      "           0       0.51      0.09      0.16       266\n",
      "           1       0.00      0.00      0.00        33\n",
      "           2       0.00      0.00      0.00        58\n",
      "           3       0.67      0.01      0.02       184\n",
      "           4       0.00      0.00      0.00        10\n",
      "           5       0.00      0.00      0.00        26\n",
      "\n",
      "   micro avg       0.50      0.05      0.09       577\n",
      "   macro avg       0.20      0.02      0.03       577\n",
      "weighted avg       0.45      0.05      0.08       577\n",
      " samples avg       0.00      0.00      0.00       577\n",
      "\n"
     ]
    },
    {
     "name": "stderr",
     "output_type": "stream",
     "text": [
      "C:\\Users\\juand\\AppData\\Local\\Programs\\Python\\Python311\\Lib\\site-packages\\sklearn\\metrics\\_classification.py:1344: UndefinedMetricWarning: Precision and F-score are ill-defined and being set to 0.0 in labels with no predicted samples. Use `zero_division` parameter to control this behavior.\n",
      "  _warn_prf(average, modifier, msg_start, len(result))\n",
      "C:\\Users\\juand\\AppData\\Local\\Programs\\Python\\Python311\\Lib\\site-packages\\sklearn\\metrics\\_classification.py:1344: UndefinedMetricWarning: Precision and F-score are ill-defined and being set to 0.0 in samples with no predicted labels. Use `zero_division` parameter to control this behavior.\n",
      "  _warn_prf(average, modifier, msg_start, len(result))\n",
      "C:\\Users\\juand\\AppData\\Local\\Programs\\Python\\Python311\\Lib\\site-packages\\sklearn\\metrics\\_classification.py:1344: UndefinedMetricWarning: Recall and F-score are ill-defined and being set to 0.0 in samples with no true labels. Use `zero_division` parameter to control this behavior.\n",
      "  _warn_prf(average, modifier, msg_start, len(result))\n"
     ]
    }
   ],
   "source": [
    "print(classification_report(test_data[['CD_SUBESTADO_PRODUCTO_AL DIA', 'CD_SUBESTADO_PRODUCTO_ANULADO',\n",
    "                                       'CD_SUBESTADO_PRODUCTO_MORA < 90', 'CD_SUBESTADO_PRODUCTO_MORA > 90',\n",
    "                                       'CD_SUBESTADO_PRODUCTO_PROBLEMAS', 'CD_SUBESTADO_PRODUCTO_WRITE OFF']], predictions))"
   ]
  },
  {
   "cell_type": "markdown",
   "id": "b699a647",
   "metadata": {},
   "source": [
    "#### CONCLUSION:\n",
    "* El Recall es muy bajo, es decir que la tasa de Verdaderos Positivos es bajo en todas las clases.\n",
    "* Presición Baja, para todas las clases.\n",
    "* F1-Score, es bajo para todas las clases, el modelo no logra ser equilibrado/balanceado.\n",
    "\n",
    "En resumen el modelo es pobre en rendimiento y posee un desequilibrio en las clases, que hace necesario mejorar la capacidad de del modelo para identificar los \"verdaderos positivos\" de cada clase."
   ]
  },
  {
   "cell_type": "code",
   "execution_count": null,
   "id": "9bd8e591",
   "metadata": {},
   "outputs": [],
   "source": []
  },
  {
   "cell_type": "markdown",
   "id": "47ca9d76",
   "metadata": {},
   "source": [
    "## RESUMEN de Resultado de Modelos:\n",
    "De los 4 modelos, Algoritmos aplicados al Set de datos, los resultados fueron pobres. \n",
    "### Pasos a seguir:\n",
    "* Revisar y equilibrar el conjunto de datos si es posible.\n",
    "    * Utilizando técnicas de submuestreo o sobremuestreo de clases.\n",
    "* Revisar y analizar los hiperparámetros utilizado para mejorar el rendimiento de los modelos.\n",
    "* Realizar una nueva Exploración de los datos y el EDA, respecto a las variables seleccionadas y a las transformaciones realizadas durante el proceso de analisis del set hasta el momento."
   ]
  },
  {
   "cell_type": "code",
   "execution_count": null,
   "id": "3cbc7e8d",
   "metadata": {},
   "outputs": [],
   "source": []
  }
 ],
 "metadata": {
  "kernelspec": {
   "display_name": "Python 3 (ipykernel)",
   "language": "python",
   "name": "python3"
  },
  "language_info": {
   "codemirror_mode": {
    "name": "ipython",
    "version": 3
   },
   "file_extension": ".py",
   "mimetype": "text/x-python",
   "name": "python",
   "nbconvert_exporter": "python",
   "pygments_lexer": "ipython3",
   "version": "3.11.0"
  }
 },
 "nbformat": 4,
 "nbformat_minor": 5
}
